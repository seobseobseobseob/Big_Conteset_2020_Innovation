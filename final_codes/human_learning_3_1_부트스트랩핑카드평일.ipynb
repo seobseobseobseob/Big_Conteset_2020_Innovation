{
  "nbformat": 4,
  "nbformat_minor": 0,
  "metadata": {
    "colab": {
      "name": "human_learning_3_1_부트스트랩핑카드평일.ipynb",
      "provenance": [],
      "collapsed_sections": [
        "Iz5ETRHFElUp"
      ],
      "toc_visible": true
    },
    "kernelspec": {
      "display_name": "Python 3",
      "language": "python",
      "name": "python3"
    },
    "language_info": {
      "codemirror_mode": {
        "name": "ipython",
        "version": 3
      },
      "file_extension": ".py",
      "mimetype": "text/x-python",
      "name": "python",
      "nbconvert_exporter": "python",
      "pygments_lexer": "ipython3",
      "version": "3.7.7"
    },
    "widgets": {
      "application/vnd.jupyter.widget-state+json": {
        "559139068c4546b79ba854427dcf692e": {
          "model_module": "@jupyter-widgets/controls",
          "model_name": "HBoxModel",
          "state": {
            "_dom_classes": [],
            "_model_module": "@jupyter-widgets/controls",
            "_model_module_version": "1.5.0",
            "_model_name": "HBoxModel",
            "_view_count": null,
            "_view_module": "@jupyter-widgets/controls",
            "_view_module_version": "1.5.0",
            "_view_name": "HBoxView",
            "box_style": "",
            "children": [
              "IPY_MODEL_0d375c9a287e457895ac2b5ce0bfe57c",
              "IPY_MODEL_d9926575fcea42f2b73844ff7dbef285"
            ],
            "layout": "IPY_MODEL_9eb11faf573a4e6b8756f07a5a54af13"
          }
        },
        "9eb11faf573a4e6b8756f07a5a54af13": {
          "model_module": "@jupyter-widgets/base",
          "model_name": "LayoutModel",
          "state": {
            "_model_module": "@jupyter-widgets/base",
            "_model_module_version": "1.2.0",
            "_model_name": "LayoutModel",
            "_view_count": null,
            "_view_module": "@jupyter-widgets/base",
            "_view_module_version": "1.2.0",
            "_view_name": "LayoutView",
            "align_content": null,
            "align_items": null,
            "align_self": null,
            "border": null,
            "bottom": null,
            "display": null,
            "flex": null,
            "flex_flow": null,
            "grid_area": null,
            "grid_auto_columns": null,
            "grid_auto_flow": null,
            "grid_auto_rows": null,
            "grid_column": null,
            "grid_gap": null,
            "grid_row": null,
            "grid_template_areas": null,
            "grid_template_columns": null,
            "grid_template_rows": null,
            "height": null,
            "justify_content": null,
            "justify_items": null,
            "left": null,
            "margin": null,
            "max_height": null,
            "max_width": null,
            "min_height": null,
            "min_width": null,
            "object_fit": null,
            "object_position": null,
            "order": null,
            "overflow": null,
            "overflow_x": null,
            "overflow_y": null,
            "padding": null,
            "right": null,
            "top": null,
            "visibility": null,
            "width": null
          }
        },
        "0d375c9a287e457895ac2b5ce0bfe57c": {
          "model_module": "@jupyter-widgets/controls",
          "model_name": "FloatProgressModel",
          "state": {
            "_dom_classes": [],
            "_model_module": "@jupyter-widgets/controls",
            "_model_module_version": "1.5.0",
            "_model_name": "FloatProgressModel",
            "_view_count": null,
            "_view_module": "@jupyter-widgets/controls",
            "_view_module_version": "1.5.0",
            "_view_name": "ProgressView",
            "bar_style": "",
            "description": " 33%",
            "description_tooltip": null,
            "layout": "IPY_MODEL_cf06cd22596d4b509dc05173d1a9dbd1",
            "max": 69,
            "min": 0,
            "orientation": "horizontal",
            "style": "IPY_MODEL_8aa93699e7ec429c8939ff350df83d84",
            "value": 23
          }
        },
        "d9926575fcea42f2b73844ff7dbef285": {
          "model_module": "@jupyter-widgets/controls",
          "model_name": "HTMLModel",
          "state": {
            "_dom_classes": [],
            "_model_module": "@jupyter-widgets/controls",
            "_model_module_version": "1.5.0",
            "_model_name": "HTMLModel",
            "_view_count": null,
            "_view_module": "@jupyter-widgets/controls",
            "_view_module_version": "1.5.0",
            "_view_name": "HTMLView",
            "description": "",
            "description_tooltip": null,
            "layout": "IPY_MODEL_ac9dffe95c5c47c5bcc0651e0fc7e20b",
            "placeholder": "​",
            "style": "IPY_MODEL_c5c6ca68ad784dae8b77376246fce181",
            "value": " 23/69 [1:09:06&lt;2:18:46, 181.00s/it]"
          }
        },
        "8aa93699e7ec429c8939ff350df83d84": {
          "model_module": "@jupyter-widgets/controls",
          "model_name": "ProgressStyleModel",
          "state": {
            "_model_module": "@jupyter-widgets/controls",
            "_model_module_version": "1.5.0",
            "_model_name": "ProgressStyleModel",
            "_view_count": null,
            "_view_module": "@jupyter-widgets/base",
            "_view_module_version": "1.2.0",
            "_view_name": "StyleView",
            "bar_color": null,
            "description_width": "initial"
          }
        },
        "cf06cd22596d4b509dc05173d1a9dbd1": {
          "model_module": "@jupyter-widgets/base",
          "model_name": "LayoutModel",
          "state": {
            "_model_module": "@jupyter-widgets/base",
            "_model_module_version": "1.2.0",
            "_model_name": "LayoutModel",
            "_view_count": null,
            "_view_module": "@jupyter-widgets/base",
            "_view_module_version": "1.2.0",
            "_view_name": "LayoutView",
            "align_content": null,
            "align_items": null,
            "align_self": null,
            "border": null,
            "bottom": null,
            "display": null,
            "flex": null,
            "flex_flow": null,
            "grid_area": null,
            "grid_auto_columns": null,
            "grid_auto_flow": null,
            "grid_auto_rows": null,
            "grid_column": null,
            "grid_gap": null,
            "grid_row": null,
            "grid_template_areas": null,
            "grid_template_columns": null,
            "grid_template_rows": null,
            "height": null,
            "justify_content": null,
            "justify_items": null,
            "left": null,
            "margin": null,
            "max_height": null,
            "max_width": null,
            "min_height": null,
            "min_width": null,
            "object_fit": null,
            "object_position": null,
            "order": null,
            "overflow": null,
            "overflow_x": null,
            "overflow_y": null,
            "padding": null,
            "right": null,
            "top": null,
            "visibility": null,
            "width": null
          }
        },
        "c5c6ca68ad784dae8b77376246fce181": {
          "model_module": "@jupyter-widgets/controls",
          "model_name": "DescriptionStyleModel",
          "state": {
            "_model_module": "@jupyter-widgets/controls",
            "_model_module_version": "1.5.0",
            "_model_name": "DescriptionStyleModel",
            "_view_count": null,
            "_view_module": "@jupyter-widgets/base",
            "_view_module_version": "1.2.0",
            "_view_name": "StyleView",
            "description_width": ""
          }
        },
        "ac9dffe95c5c47c5bcc0651e0fc7e20b": {
          "model_module": "@jupyter-widgets/base",
          "model_name": "LayoutModel",
          "state": {
            "_model_module": "@jupyter-widgets/base",
            "_model_module_version": "1.2.0",
            "_model_name": "LayoutModel",
            "_view_count": null,
            "_view_module": "@jupyter-widgets/base",
            "_view_module_version": "1.2.0",
            "_view_name": "LayoutView",
            "align_content": null,
            "align_items": null,
            "align_self": null,
            "border": null,
            "bottom": null,
            "display": null,
            "flex": null,
            "flex_flow": null,
            "grid_area": null,
            "grid_auto_columns": null,
            "grid_auto_flow": null,
            "grid_auto_rows": null,
            "grid_column": null,
            "grid_gap": null,
            "grid_row": null,
            "grid_template_areas": null,
            "grid_template_columns": null,
            "grid_template_rows": null,
            "height": null,
            "justify_content": null,
            "justify_items": null,
            "left": null,
            "margin": null,
            "max_height": null,
            "max_width": null,
            "min_height": null,
            "min_width": null,
            "object_fit": null,
            "object_position": null,
            "order": null,
            "overflow": null,
            "overflow_x": null,
            "overflow_y": null,
            "padding": null,
            "right": null,
            "top": null,
            "visibility": null,
            "width": null
          }
        },
        "227ccbd1b3324b189311b7eb1c132426": {
          "model_module": "@jupyter-widgets/controls",
          "model_name": "HBoxModel",
          "state": {
            "_dom_classes": [],
            "_model_module": "@jupyter-widgets/controls",
            "_model_module_version": "1.5.0",
            "_model_name": "HBoxModel",
            "_view_count": null,
            "_view_module": "@jupyter-widgets/controls",
            "_view_module_version": "1.5.0",
            "_view_name": "HBoxView",
            "box_style": "",
            "children": [
              "IPY_MODEL_b20f1c1bd9754de1b7f831c25dd3e69b",
              "IPY_MODEL_27ed0655c4b74cd1a2666a61aa19d04b"
            ],
            "layout": "IPY_MODEL_6a1a81ee74ae42df934c905c152aba4d"
          }
        },
        "6a1a81ee74ae42df934c905c152aba4d": {
          "model_module": "@jupyter-widgets/base",
          "model_name": "LayoutModel",
          "state": {
            "_model_module": "@jupyter-widgets/base",
            "_model_module_version": "1.2.0",
            "_model_name": "LayoutModel",
            "_view_count": null,
            "_view_module": "@jupyter-widgets/base",
            "_view_module_version": "1.2.0",
            "_view_name": "LayoutView",
            "align_content": null,
            "align_items": null,
            "align_self": null,
            "border": null,
            "bottom": null,
            "display": null,
            "flex": null,
            "flex_flow": null,
            "grid_area": null,
            "grid_auto_columns": null,
            "grid_auto_flow": null,
            "grid_auto_rows": null,
            "grid_column": null,
            "grid_gap": null,
            "grid_row": null,
            "grid_template_areas": null,
            "grid_template_columns": null,
            "grid_template_rows": null,
            "height": null,
            "justify_content": null,
            "justify_items": null,
            "left": null,
            "margin": null,
            "max_height": null,
            "max_width": null,
            "min_height": null,
            "min_width": null,
            "object_fit": null,
            "object_position": null,
            "order": null,
            "overflow": null,
            "overflow_x": null,
            "overflow_y": null,
            "padding": null,
            "right": null,
            "top": null,
            "visibility": null,
            "width": null
          }
        },
        "b20f1c1bd9754de1b7f831c25dd3e69b": {
          "model_module": "@jupyter-widgets/controls",
          "model_name": "FloatProgressModel",
          "state": {
            "_dom_classes": [],
            "_model_module": "@jupyter-widgets/controls",
            "_model_module_version": "1.5.0",
            "_model_name": "FloatProgressModel",
            "_view_count": null,
            "_view_module": "@jupyter-widgets/controls",
            "_view_module_version": "1.5.0",
            "_view_name": "ProgressView",
            "bar_style": "success",
            "description": "100%",
            "description_tooltip": null,
            "layout": "IPY_MODEL_4e9ef2475c68451e9d9f4e79a2ed8914",
            "max": 5000,
            "min": 0,
            "orientation": "horizontal",
            "style": "IPY_MODEL_79924422b199487c842e19fb422dfdb5",
            "value": 5000
          }
        },
        "27ed0655c4b74cd1a2666a61aa19d04b": {
          "model_module": "@jupyter-widgets/controls",
          "model_name": "HTMLModel",
          "state": {
            "_dom_classes": [],
            "_model_module": "@jupyter-widgets/controls",
            "_model_module_version": "1.5.0",
            "_model_name": "HTMLModel",
            "_view_count": null,
            "_view_module": "@jupyter-widgets/controls",
            "_view_module_version": "1.5.0",
            "_view_name": "HTMLView",
            "description": "",
            "description_tooltip": null,
            "layout": "IPY_MODEL_897101c6443540708e184703ea29e110",
            "placeholder": "​",
            "style": "IPY_MODEL_80dbed8f83854f32abae4da7eac7aff1",
            "value": " 5000/5000 [03:40&lt;00:00, 22.66it/s]"
          }
        },
        "79924422b199487c842e19fb422dfdb5": {
          "model_module": "@jupyter-widgets/controls",
          "model_name": "ProgressStyleModel",
          "state": {
            "_model_module": "@jupyter-widgets/controls",
            "_model_module_version": "1.5.0",
            "_model_name": "ProgressStyleModel",
            "_view_count": null,
            "_view_module": "@jupyter-widgets/base",
            "_view_module_version": "1.2.0",
            "_view_name": "StyleView",
            "bar_color": null,
            "description_width": "initial"
          }
        },
        "4e9ef2475c68451e9d9f4e79a2ed8914": {
          "model_module": "@jupyter-widgets/base",
          "model_name": "LayoutModel",
          "state": {
            "_model_module": "@jupyter-widgets/base",
            "_model_module_version": "1.2.0",
            "_model_name": "LayoutModel",
            "_view_count": null,
            "_view_module": "@jupyter-widgets/base",
            "_view_module_version": "1.2.0",
            "_view_name": "LayoutView",
            "align_content": null,
            "align_items": null,
            "align_self": null,
            "border": null,
            "bottom": null,
            "display": null,
            "flex": null,
            "flex_flow": null,
            "grid_area": null,
            "grid_auto_columns": null,
            "grid_auto_flow": null,
            "grid_auto_rows": null,
            "grid_column": null,
            "grid_gap": null,
            "grid_row": null,
            "grid_template_areas": null,
            "grid_template_columns": null,
            "grid_template_rows": null,
            "height": null,
            "justify_content": null,
            "justify_items": null,
            "left": null,
            "margin": null,
            "max_height": null,
            "max_width": null,
            "min_height": null,
            "min_width": null,
            "object_fit": null,
            "object_position": null,
            "order": null,
            "overflow": null,
            "overflow_x": null,
            "overflow_y": null,
            "padding": null,
            "right": null,
            "top": null,
            "visibility": null,
            "width": null
          }
        },
        "80dbed8f83854f32abae4da7eac7aff1": {
          "model_module": "@jupyter-widgets/controls",
          "model_name": "DescriptionStyleModel",
          "state": {
            "_model_module": "@jupyter-widgets/controls",
            "_model_module_version": "1.5.0",
            "_model_name": "DescriptionStyleModel",
            "_view_count": null,
            "_view_module": "@jupyter-widgets/base",
            "_view_module_version": "1.2.0",
            "_view_name": "StyleView",
            "description_width": ""
          }
        },
        "897101c6443540708e184703ea29e110": {
          "model_module": "@jupyter-widgets/base",
          "model_name": "LayoutModel",
          "state": {
            "_model_module": "@jupyter-widgets/base",
            "_model_module_version": "1.2.0",
            "_model_name": "LayoutModel",
            "_view_count": null,
            "_view_module": "@jupyter-widgets/base",
            "_view_module_version": "1.2.0",
            "_view_name": "LayoutView",
            "align_content": null,
            "align_items": null,
            "align_self": null,
            "border": null,
            "bottom": null,
            "display": null,
            "flex": null,
            "flex_flow": null,
            "grid_area": null,
            "grid_auto_columns": null,
            "grid_auto_flow": null,
            "grid_auto_rows": null,
            "grid_column": null,
            "grid_gap": null,
            "grid_row": null,
            "grid_template_areas": null,
            "grid_template_columns": null,
            "grid_template_rows": null,
            "height": null,
            "justify_content": null,
            "justify_items": null,
            "left": null,
            "margin": null,
            "max_height": null,
            "max_width": null,
            "min_height": null,
            "min_width": null,
            "object_fit": null,
            "object_position": null,
            "order": null,
            "overflow": null,
            "overflow_x": null,
            "overflow_y": null,
            "padding": null,
            "right": null,
            "top": null,
            "visibility": null,
            "width": null
          }
        },
        "8d435cd7f28f41a28764a9c225f0aa95": {
          "model_module": "@jupyter-widgets/controls",
          "model_name": "HBoxModel",
          "state": {
            "_dom_classes": [],
            "_model_module": "@jupyter-widgets/controls",
            "_model_module_version": "1.5.0",
            "_model_name": "HBoxModel",
            "_view_count": null,
            "_view_module": "@jupyter-widgets/controls",
            "_view_module_version": "1.5.0",
            "_view_name": "HBoxView",
            "box_style": "",
            "children": [
              "IPY_MODEL_aebcc66fa5b54b83895aa248e5e9b870",
              "IPY_MODEL_894670f7bb674917a683f741da490c66"
            ],
            "layout": "IPY_MODEL_cf030e16e42e45c086f35bb4aedefe76"
          }
        },
        "cf030e16e42e45c086f35bb4aedefe76": {
          "model_module": "@jupyter-widgets/base",
          "model_name": "LayoutModel",
          "state": {
            "_model_module": "@jupyter-widgets/base",
            "_model_module_version": "1.2.0",
            "_model_name": "LayoutModel",
            "_view_count": null,
            "_view_module": "@jupyter-widgets/base",
            "_view_module_version": "1.2.0",
            "_view_name": "LayoutView",
            "align_content": null,
            "align_items": null,
            "align_self": null,
            "border": null,
            "bottom": null,
            "display": null,
            "flex": null,
            "flex_flow": null,
            "grid_area": null,
            "grid_auto_columns": null,
            "grid_auto_flow": null,
            "grid_auto_rows": null,
            "grid_column": null,
            "grid_gap": null,
            "grid_row": null,
            "grid_template_areas": null,
            "grid_template_columns": null,
            "grid_template_rows": null,
            "height": null,
            "justify_content": null,
            "justify_items": null,
            "left": null,
            "margin": null,
            "max_height": null,
            "max_width": null,
            "min_height": null,
            "min_width": null,
            "object_fit": null,
            "object_position": null,
            "order": null,
            "overflow": null,
            "overflow_x": null,
            "overflow_y": null,
            "padding": null,
            "right": null,
            "top": null,
            "visibility": null,
            "width": null
          }
        },
        "aebcc66fa5b54b83895aa248e5e9b870": {
          "model_module": "@jupyter-widgets/controls",
          "model_name": "FloatProgressModel",
          "state": {
            "_dom_classes": [],
            "_model_module": "@jupyter-widgets/controls",
            "_model_module_version": "1.5.0",
            "_model_name": "FloatProgressModel",
            "_view_count": null,
            "_view_module": "@jupyter-widgets/controls",
            "_view_module_version": "1.5.0",
            "_view_name": "ProgressView",
            "bar_style": "success",
            "description": "100%",
            "description_tooltip": null,
            "layout": "IPY_MODEL_b2b9bb8034fc4950bf41beb32826e751",
            "max": 5000,
            "min": 0,
            "orientation": "horizontal",
            "style": "IPY_MODEL_558c7830cd824e9cb802f01b47248255",
            "value": 5000
          }
        },
        "894670f7bb674917a683f741da490c66": {
          "model_module": "@jupyter-widgets/controls",
          "model_name": "HTMLModel",
          "state": {
            "_dom_classes": [],
            "_model_module": "@jupyter-widgets/controls",
            "_model_module_version": "1.5.0",
            "_model_name": "HTMLModel",
            "_view_count": null,
            "_view_module": "@jupyter-widgets/controls",
            "_view_module_version": "1.5.0",
            "_view_name": "HTMLView",
            "description": "",
            "description_tooltip": null,
            "layout": "IPY_MODEL_2a5f9e9c60e8470599a17fa4e67140a9",
            "placeholder": "​",
            "style": "IPY_MODEL_8205cf63c8b14a24bf4f13ece2455c15",
            "value": " 5000/5000 [04:08&lt;00:00, 20.13it/s]"
          }
        },
        "558c7830cd824e9cb802f01b47248255": {
          "model_module": "@jupyter-widgets/controls",
          "model_name": "ProgressStyleModel",
          "state": {
            "_model_module": "@jupyter-widgets/controls",
            "_model_module_version": "1.5.0",
            "_model_name": "ProgressStyleModel",
            "_view_count": null,
            "_view_module": "@jupyter-widgets/base",
            "_view_module_version": "1.2.0",
            "_view_name": "StyleView",
            "bar_color": null,
            "description_width": "initial"
          }
        },
        "b2b9bb8034fc4950bf41beb32826e751": {
          "model_module": "@jupyter-widgets/base",
          "model_name": "LayoutModel",
          "state": {
            "_model_module": "@jupyter-widgets/base",
            "_model_module_version": "1.2.0",
            "_model_name": "LayoutModel",
            "_view_count": null,
            "_view_module": "@jupyter-widgets/base",
            "_view_module_version": "1.2.0",
            "_view_name": "LayoutView",
            "align_content": null,
            "align_items": null,
            "align_self": null,
            "border": null,
            "bottom": null,
            "display": null,
            "flex": null,
            "flex_flow": null,
            "grid_area": null,
            "grid_auto_columns": null,
            "grid_auto_flow": null,
            "grid_auto_rows": null,
            "grid_column": null,
            "grid_gap": null,
            "grid_row": null,
            "grid_template_areas": null,
            "grid_template_columns": null,
            "grid_template_rows": null,
            "height": null,
            "justify_content": null,
            "justify_items": null,
            "left": null,
            "margin": null,
            "max_height": null,
            "max_width": null,
            "min_height": null,
            "min_width": null,
            "object_fit": null,
            "object_position": null,
            "order": null,
            "overflow": null,
            "overflow_x": null,
            "overflow_y": null,
            "padding": null,
            "right": null,
            "top": null,
            "visibility": null,
            "width": null
          }
        },
        "8205cf63c8b14a24bf4f13ece2455c15": {
          "model_module": "@jupyter-widgets/controls",
          "model_name": "DescriptionStyleModel",
          "state": {
            "_model_module": "@jupyter-widgets/controls",
            "_model_module_version": "1.5.0",
            "_model_name": "DescriptionStyleModel",
            "_view_count": null,
            "_view_module": "@jupyter-widgets/base",
            "_view_module_version": "1.2.0",
            "_view_name": "StyleView",
            "description_width": ""
          }
        },
        "2a5f9e9c60e8470599a17fa4e67140a9": {
          "model_module": "@jupyter-widgets/base",
          "model_name": "LayoutModel",
          "state": {
            "_model_module": "@jupyter-widgets/base",
            "_model_module_version": "1.2.0",
            "_model_name": "LayoutModel",
            "_view_count": null,
            "_view_module": "@jupyter-widgets/base",
            "_view_module_version": "1.2.0",
            "_view_name": "LayoutView",
            "align_content": null,
            "align_items": null,
            "align_self": null,
            "border": null,
            "bottom": null,
            "display": null,
            "flex": null,
            "flex_flow": null,
            "grid_area": null,
            "grid_auto_columns": null,
            "grid_auto_flow": null,
            "grid_auto_rows": null,
            "grid_column": null,
            "grid_gap": null,
            "grid_row": null,
            "grid_template_areas": null,
            "grid_template_columns": null,
            "grid_template_rows": null,
            "height": null,
            "justify_content": null,
            "justify_items": null,
            "left": null,
            "margin": null,
            "max_height": null,
            "max_width": null,
            "min_height": null,
            "min_width": null,
            "object_fit": null,
            "object_position": null,
            "order": null,
            "overflow": null,
            "overflow_x": null,
            "overflow_y": null,
            "padding": null,
            "right": null,
            "top": null,
            "visibility": null,
            "width": null
          }
        },
        "e8b8364e988744b88c350ac795be22c5": {
          "model_module": "@jupyter-widgets/controls",
          "model_name": "HBoxModel",
          "state": {
            "_dom_classes": [],
            "_model_module": "@jupyter-widgets/controls",
            "_model_module_version": "1.5.0",
            "_model_name": "HBoxModel",
            "_view_count": null,
            "_view_module": "@jupyter-widgets/controls",
            "_view_module_version": "1.5.0",
            "_view_name": "HBoxView",
            "box_style": "",
            "children": [
              "IPY_MODEL_02bc0540c2354781a4b546b308cb5491",
              "IPY_MODEL_c2fc555765ad4830b1ec697f4dae9403"
            ],
            "layout": "IPY_MODEL_1003d30337914f25a22af1fabf95b619"
          }
        },
        "1003d30337914f25a22af1fabf95b619": {
          "model_module": "@jupyter-widgets/base",
          "model_name": "LayoutModel",
          "state": {
            "_model_module": "@jupyter-widgets/base",
            "_model_module_version": "1.2.0",
            "_model_name": "LayoutModel",
            "_view_count": null,
            "_view_module": "@jupyter-widgets/base",
            "_view_module_version": "1.2.0",
            "_view_name": "LayoutView",
            "align_content": null,
            "align_items": null,
            "align_self": null,
            "border": null,
            "bottom": null,
            "display": null,
            "flex": null,
            "flex_flow": null,
            "grid_area": null,
            "grid_auto_columns": null,
            "grid_auto_flow": null,
            "grid_auto_rows": null,
            "grid_column": null,
            "grid_gap": null,
            "grid_row": null,
            "grid_template_areas": null,
            "grid_template_columns": null,
            "grid_template_rows": null,
            "height": null,
            "justify_content": null,
            "justify_items": null,
            "left": null,
            "margin": null,
            "max_height": null,
            "max_width": null,
            "min_height": null,
            "min_width": null,
            "object_fit": null,
            "object_position": null,
            "order": null,
            "overflow": null,
            "overflow_x": null,
            "overflow_y": null,
            "padding": null,
            "right": null,
            "top": null,
            "visibility": null,
            "width": null
          }
        },
        "02bc0540c2354781a4b546b308cb5491": {
          "model_module": "@jupyter-widgets/controls",
          "model_name": "FloatProgressModel",
          "state": {
            "_dom_classes": [],
            "_model_module": "@jupyter-widgets/controls",
            "_model_module_version": "1.5.0",
            "_model_name": "FloatProgressModel",
            "_view_count": null,
            "_view_module": "@jupyter-widgets/controls",
            "_view_module_version": "1.5.0",
            "_view_name": "ProgressView",
            "bar_style": "success",
            "description": "100%",
            "description_tooltip": null,
            "layout": "IPY_MODEL_aa3e6dfa0397400d8c36933c37c53e9e",
            "max": 5000,
            "min": 0,
            "orientation": "horizontal",
            "style": "IPY_MODEL_1f9a38082987452f81b687beba3141aa",
            "value": 5000
          }
        },
        "c2fc555765ad4830b1ec697f4dae9403": {
          "model_module": "@jupyter-widgets/controls",
          "model_name": "HTMLModel",
          "state": {
            "_dom_classes": [],
            "_model_module": "@jupyter-widgets/controls",
            "_model_module_version": "1.5.0",
            "_model_name": "HTMLModel",
            "_view_count": null,
            "_view_module": "@jupyter-widgets/controls",
            "_view_module_version": "1.5.0",
            "_view_name": "HTMLView",
            "description": "",
            "description_tooltip": null,
            "layout": "IPY_MODEL_ee95a9a62b11478f8b013bd908e91ba2",
            "placeholder": "​",
            "style": "IPY_MODEL_c8f3218fc1784087a9a6e3b46140d9b2",
            "value": " 5000/5000 [03:56&lt;00:00, 21.16it/s]"
          }
        },
        "1f9a38082987452f81b687beba3141aa": {
          "model_module": "@jupyter-widgets/controls",
          "model_name": "ProgressStyleModel",
          "state": {
            "_model_module": "@jupyter-widgets/controls",
            "_model_module_version": "1.5.0",
            "_model_name": "ProgressStyleModel",
            "_view_count": null,
            "_view_module": "@jupyter-widgets/base",
            "_view_module_version": "1.2.0",
            "_view_name": "StyleView",
            "bar_color": null,
            "description_width": "initial"
          }
        },
        "aa3e6dfa0397400d8c36933c37c53e9e": {
          "model_module": "@jupyter-widgets/base",
          "model_name": "LayoutModel",
          "state": {
            "_model_module": "@jupyter-widgets/base",
            "_model_module_version": "1.2.0",
            "_model_name": "LayoutModel",
            "_view_count": null,
            "_view_module": "@jupyter-widgets/base",
            "_view_module_version": "1.2.0",
            "_view_name": "LayoutView",
            "align_content": null,
            "align_items": null,
            "align_self": null,
            "border": null,
            "bottom": null,
            "display": null,
            "flex": null,
            "flex_flow": null,
            "grid_area": null,
            "grid_auto_columns": null,
            "grid_auto_flow": null,
            "grid_auto_rows": null,
            "grid_column": null,
            "grid_gap": null,
            "grid_row": null,
            "grid_template_areas": null,
            "grid_template_columns": null,
            "grid_template_rows": null,
            "height": null,
            "justify_content": null,
            "justify_items": null,
            "left": null,
            "margin": null,
            "max_height": null,
            "max_width": null,
            "min_height": null,
            "min_width": null,
            "object_fit": null,
            "object_position": null,
            "order": null,
            "overflow": null,
            "overflow_x": null,
            "overflow_y": null,
            "padding": null,
            "right": null,
            "top": null,
            "visibility": null,
            "width": null
          }
        },
        "c8f3218fc1784087a9a6e3b46140d9b2": {
          "model_module": "@jupyter-widgets/controls",
          "model_name": "DescriptionStyleModel",
          "state": {
            "_model_module": "@jupyter-widgets/controls",
            "_model_module_version": "1.5.0",
            "_model_name": "DescriptionStyleModel",
            "_view_count": null,
            "_view_module": "@jupyter-widgets/base",
            "_view_module_version": "1.2.0",
            "_view_name": "StyleView",
            "description_width": ""
          }
        },
        "ee95a9a62b11478f8b013bd908e91ba2": {
          "model_module": "@jupyter-widgets/base",
          "model_name": "LayoutModel",
          "state": {
            "_model_module": "@jupyter-widgets/base",
            "_model_module_version": "1.2.0",
            "_model_name": "LayoutModel",
            "_view_count": null,
            "_view_module": "@jupyter-widgets/base",
            "_view_module_version": "1.2.0",
            "_view_name": "LayoutView",
            "align_content": null,
            "align_items": null,
            "align_self": null,
            "border": null,
            "bottom": null,
            "display": null,
            "flex": null,
            "flex_flow": null,
            "grid_area": null,
            "grid_auto_columns": null,
            "grid_auto_flow": null,
            "grid_auto_rows": null,
            "grid_column": null,
            "grid_gap": null,
            "grid_row": null,
            "grid_template_areas": null,
            "grid_template_columns": null,
            "grid_template_rows": null,
            "height": null,
            "justify_content": null,
            "justify_items": null,
            "left": null,
            "margin": null,
            "max_height": null,
            "max_width": null,
            "min_height": null,
            "min_width": null,
            "object_fit": null,
            "object_position": null,
            "order": null,
            "overflow": null,
            "overflow_x": null,
            "overflow_y": null,
            "padding": null,
            "right": null,
            "top": null,
            "visibility": null,
            "width": null
          }
        },
        "5d320b8b868f4bd280b3f96f0e34ceca": {
          "model_module": "@jupyter-widgets/controls",
          "model_name": "HBoxModel",
          "state": {
            "_dom_classes": [],
            "_model_module": "@jupyter-widgets/controls",
            "_model_module_version": "1.5.0",
            "_model_name": "HBoxModel",
            "_view_count": null,
            "_view_module": "@jupyter-widgets/controls",
            "_view_module_version": "1.5.0",
            "_view_name": "HBoxView",
            "box_style": "",
            "children": [
              "IPY_MODEL_e12b0f6160cd47d6be71a626a836c277",
              "IPY_MODEL_ba678813a9d848678e381dfe21cf6621"
            ],
            "layout": "IPY_MODEL_dbd44ab0aa3642658d508352343ab5c8"
          }
        },
        "dbd44ab0aa3642658d508352343ab5c8": {
          "model_module": "@jupyter-widgets/base",
          "model_name": "LayoutModel",
          "state": {
            "_model_module": "@jupyter-widgets/base",
            "_model_module_version": "1.2.0",
            "_model_name": "LayoutModel",
            "_view_count": null,
            "_view_module": "@jupyter-widgets/base",
            "_view_module_version": "1.2.0",
            "_view_name": "LayoutView",
            "align_content": null,
            "align_items": null,
            "align_self": null,
            "border": null,
            "bottom": null,
            "display": null,
            "flex": null,
            "flex_flow": null,
            "grid_area": null,
            "grid_auto_columns": null,
            "grid_auto_flow": null,
            "grid_auto_rows": null,
            "grid_column": null,
            "grid_gap": null,
            "grid_row": null,
            "grid_template_areas": null,
            "grid_template_columns": null,
            "grid_template_rows": null,
            "height": null,
            "justify_content": null,
            "justify_items": null,
            "left": null,
            "margin": null,
            "max_height": null,
            "max_width": null,
            "min_height": null,
            "min_width": null,
            "object_fit": null,
            "object_position": null,
            "order": null,
            "overflow": null,
            "overflow_x": null,
            "overflow_y": null,
            "padding": null,
            "right": null,
            "top": null,
            "visibility": null,
            "width": null
          }
        },
        "e12b0f6160cd47d6be71a626a836c277": {
          "model_module": "@jupyter-widgets/controls",
          "model_name": "FloatProgressModel",
          "state": {
            "_dom_classes": [],
            "_model_module": "@jupyter-widgets/controls",
            "_model_module_version": "1.5.0",
            "_model_name": "FloatProgressModel",
            "_view_count": null,
            "_view_module": "@jupyter-widgets/controls",
            "_view_module_version": "1.5.0",
            "_view_name": "ProgressView",
            "bar_style": "success",
            "description": "100%",
            "description_tooltip": null,
            "layout": "IPY_MODEL_dff3fbfe62fe4efba6c2c86da66b0249",
            "max": 5000,
            "min": 0,
            "orientation": "horizontal",
            "style": "IPY_MODEL_6881066b6238489a9695fc3cc4ceff72",
            "value": 5000
          }
        },
        "ba678813a9d848678e381dfe21cf6621": {
          "model_module": "@jupyter-widgets/controls",
          "model_name": "HTMLModel",
          "state": {
            "_dom_classes": [],
            "_model_module": "@jupyter-widgets/controls",
            "_model_module_version": "1.5.0",
            "_model_name": "HTMLModel",
            "_view_count": null,
            "_view_module": "@jupyter-widgets/controls",
            "_view_module_version": "1.5.0",
            "_view_name": "HTMLView",
            "description": "",
            "description_tooltip": null,
            "layout": "IPY_MODEL_d4bb493e6a2b4851a9114f6875034b92",
            "placeholder": "​",
            "style": "IPY_MODEL_8738524def4d42c596f7c7423acf9b8a",
            "value": " 5000/5000 [03:45&lt;00:00, 22.17it/s]"
          }
        },
        "6881066b6238489a9695fc3cc4ceff72": {
          "model_module": "@jupyter-widgets/controls",
          "model_name": "ProgressStyleModel",
          "state": {
            "_model_module": "@jupyter-widgets/controls",
            "_model_module_version": "1.5.0",
            "_model_name": "ProgressStyleModel",
            "_view_count": null,
            "_view_module": "@jupyter-widgets/base",
            "_view_module_version": "1.2.0",
            "_view_name": "StyleView",
            "bar_color": null,
            "description_width": "initial"
          }
        },
        "dff3fbfe62fe4efba6c2c86da66b0249": {
          "model_module": "@jupyter-widgets/base",
          "model_name": "LayoutModel",
          "state": {
            "_model_module": "@jupyter-widgets/base",
            "_model_module_version": "1.2.0",
            "_model_name": "LayoutModel",
            "_view_count": null,
            "_view_module": "@jupyter-widgets/base",
            "_view_module_version": "1.2.0",
            "_view_name": "LayoutView",
            "align_content": null,
            "align_items": null,
            "align_self": null,
            "border": null,
            "bottom": null,
            "display": null,
            "flex": null,
            "flex_flow": null,
            "grid_area": null,
            "grid_auto_columns": null,
            "grid_auto_flow": null,
            "grid_auto_rows": null,
            "grid_column": null,
            "grid_gap": null,
            "grid_row": null,
            "grid_template_areas": null,
            "grid_template_columns": null,
            "grid_template_rows": null,
            "height": null,
            "justify_content": null,
            "justify_items": null,
            "left": null,
            "margin": null,
            "max_height": null,
            "max_width": null,
            "min_height": null,
            "min_width": null,
            "object_fit": null,
            "object_position": null,
            "order": null,
            "overflow": null,
            "overflow_x": null,
            "overflow_y": null,
            "padding": null,
            "right": null,
            "top": null,
            "visibility": null,
            "width": null
          }
        },
        "8738524def4d42c596f7c7423acf9b8a": {
          "model_module": "@jupyter-widgets/controls",
          "model_name": "DescriptionStyleModel",
          "state": {
            "_model_module": "@jupyter-widgets/controls",
            "_model_module_version": "1.5.0",
            "_model_name": "DescriptionStyleModel",
            "_view_count": null,
            "_view_module": "@jupyter-widgets/base",
            "_view_module_version": "1.2.0",
            "_view_name": "StyleView",
            "description_width": ""
          }
        },
        "d4bb493e6a2b4851a9114f6875034b92": {
          "model_module": "@jupyter-widgets/base",
          "model_name": "LayoutModel",
          "state": {
            "_model_module": "@jupyter-widgets/base",
            "_model_module_version": "1.2.0",
            "_model_name": "LayoutModel",
            "_view_count": null,
            "_view_module": "@jupyter-widgets/base",
            "_view_module_version": "1.2.0",
            "_view_name": "LayoutView",
            "align_content": null,
            "align_items": null,
            "align_self": null,
            "border": null,
            "bottom": null,
            "display": null,
            "flex": null,
            "flex_flow": null,
            "grid_area": null,
            "grid_auto_columns": null,
            "grid_auto_flow": null,
            "grid_auto_rows": null,
            "grid_column": null,
            "grid_gap": null,
            "grid_row": null,
            "grid_template_areas": null,
            "grid_template_columns": null,
            "grid_template_rows": null,
            "height": null,
            "justify_content": null,
            "justify_items": null,
            "left": null,
            "margin": null,
            "max_height": null,
            "max_width": null,
            "min_height": null,
            "min_width": null,
            "object_fit": null,
            "object_position": null,
            "order": null,
            "overflow": null,
            "overflow_x": null,
            "overflow_y": null,
            "padding": null,
            "right": null,
            "top": null,
            "visibility": null,
            "width": null
          }
        },
        "3a319a44b36c45e1b0015f37b302eb80": {
          "model_module": "@jupyter-widgets/controls",
          "model_name": "HBoxModel",
          "state": {
            "_dom_classes": [],
            "_model_module": "@jupyter-widgets/controls",
            "_model_module_version": "1.5.0",
            "_model_name": "HBoxModel",
            "_view_count": null,
            "_view_module": "@jupyter-widgets/controls",
            "_view_module_version": "1.5.0",
            "_view_name": "HBoxView",
            "box_style": "",
            "children": [
              "IPY_MODEL_8719abe1a0054647b4b7be258ae9678c",
              "IPY_MODEL_668394782b6848bd82519d3519e8e15b"
            ],
            "layout": "IPY_MODEL_21f048278d1749a7b170573461792b35"
          }
        },
        "21f048278d1749a7b170573461792b35": {
          "model_module": "@jupyter-widgets/base",
          "model_name": "LayoutModel",
          "state": {
            "_model_module": "@jupyter-widgets/base",
            "_model_module_version": "1.2.0",
            "_model_name": "LayoutModel",
            "_view_count": null,
            "_view_module": "@jupyter-widgets/base",
            "_view_module_version": "1.2.0",
            "_view_name": "LayoutView",
            "align_content": null,
            "align_items": null,
            "align_self": null,
            "border": null,
            "bottom": null,
            "display": null,
            "flex": null,
            "flex_flow": null,
            "grid_area": null,
            "grid_auto_columns": null,
            "grid_auto_flow": null,
            "grid_auto_rows": null,
            "grid_column": null,
            "grid_gap": null,
            "grid_row": null,
            "grid_template_areas": null,
            "grid_template_columns": null,
            "grid_template_rows": null,
            "height": null,
            "justify_content": null,
            "justify_items": null,
            "left": null,
            "margin": null,
            "max_height": null,
            "max_width": null,
            "min_height": null,
            "min_width": null,
            "object_fit": null,
            "object_position": null,
            "order": null,
            "overflow": null,
            "overflow_x": null,
            "overflow_y": null,
            "padding": null,
            "right": null,
            "top": null,
            "visibility": null,
            "width": null
          }
        },
        "8719abe1a0054647b4b7be258ae9678c": {
          "model_module": "@jupyter-widgets/controls",
          "model_name": "FloatProgressModel",
          "state": {
            "_dom_classes": [],
            "_model_module": "@jupyter-widgets/controls",
            "_model_module_version": "1.5.0",
            "_model_name": "FloatProgressModel",
            "_view_count": null,
            "_view_module": "@jupyter-widgets/controls",
            "_view_module_version": "1.5.0",
            "_view_name": "ProgressView",
            "bar_style": "success",
            "description": "100%",
            "description_tooltip": null,
            "layout": "IPY_MODEL_82873d20a6fd4faea41da4d0cd5d2658",
            "max": 5000,
            "min": 0,
            "orientation": "horizontal",
            "style": "IPY_MODEL_dac9a2bf1db2473288549ef2d1f300a8",
            "value": 5000
          }
        },
        "668394782b6848bd82519d3519e8e15b": {
          "model_module": "@jupyter-widgets/controls",
          "model_name": "HTMLModel",
          "state": {
            "_dom_classes": [],
            "_model_module": "@jupyter-widgets/controls",
            "_model_module_version": "1.5.0",
            "_model_name": "HTMLModel",
            "_view_count": null,
            "_view_module": "@jupyter-widgets/controls",
            "_view_module_version": "1.5.0",
            "_view_name": "HTMLView",
            "description": "",
            "description_tooltip": null,
            "layout": "IPY_MODEL_21dc35dd521d45cdada5f7d3b42c3d5e",
            "placeholder": "​",
            "style": "IPY_MODEL_2d6830911f2e4443a02dfefa5619ebfe",
            "value": " 5000/5000 [03:36&lt;00:00, 23.12it/s]"
          }
        },
        "dac9a2bf1db2473288549ef2d1f300a8": {
          "model_module": "@jupyter-widgets/controls",
          "model_name": "ProgressStyleModel",
          "state": {
            "_model_module": "@jupyter-widgets/controls",
            "_model_module_version": "1.5.0",
            "_model_name": "ProgressStyleModel",
            "_view_count": null,
            "_view_module": "@jupyter-widgets/base",
            "_view_module_version": "1.2.0",
            "_view_name": "StyleView",
            "bar_color": null,
            "description_width": "initial"
          }
        },
        "82873d20a6fd4faea41da4d0cd5d2658": {
          "model_module": "@jupyter-widgets/base",
          "model_name": "LayoutModel",
          "state": {
            "_model_module": "@jupyter-widgets/base",
            "_model_module_version": "1.2.0",
            "_model_name": "LayoutModel",
            "_view_count": null,
            "_view_module": "@jupyter-widgets/base",
            "_view_module_version": "1.2.0",
            "_view_name": "LayoutView",
            "align_content": null,
            "align_items": null,
            "align_self": null,
            "border": null,
            "bottom": null,
            "display": null,
            "flex": null,
            "flex_flow": null,
            "grid_area": null,
            "grid_auto_columns": null,
            "grid_auto_flow": null,
            "grid_auto_rows": null,
            "grid_column": null,
            "grid_gap": null,
            "grid_row": null,
            "grid_template_areas": null,
            "grid_template_columns": null,
            "grid_template_rows": null,
            "height": null,
            "justify_content": null,
            "justify_items": null,
            "left": null,
            "margin": null,
            "max_height": null,
            "max_width": null,
            "min_height": null,
            "min_width": null,
            "object_fit": null,
            "object_position": null,
            "order": null,
            "overflow": null,
            "overflow_x": null,
            "overflow_y": null,
            "padding": null,
            "right": null,
            "top": null,
            "visibility": null,
            "width": null
          }
        },
        "2d6830911f2e4443a02dfefa5619ebfe": {
          "model_module": "@jupyter-widgets/controls",
          "model_name": "DescriptionStyleModel",
          "state": {
            "_model_module": "@jupyter-widgets/controls",
            "_model_module_version": "1.5.0",
            "_model_name": "DescriptionStyleModel",
            "_view_count": null,
            "_view_module": "@jupyter-widgets/base",
            "_view_module_version": "1.2.0",
            "_view_name": "StyleView",
            "description_width": ""
          }
        },
        "21dc35dd521d45cdada5f7d3b42c3d5e": {
          "model_module": "@jupyter-widgets/base",
          "model_name": "LayoutModel",
          "state": {
            "_model_module": "@jupyter-widgets/base",
            "_model_module_version": "1.2.0",
            "_model_name": "LayoutModel",
            "_view_count": null,
            "_view_module": "@jupyter-widgets/base",
            "_view_module_version": "1.2.0",
            "_view_name": "LayoutView",
            "align_content": null,
            "align_items": null,
            "align_self": null,
            "border": null,
            "bottom": null,
            "display": null,
            "flex": null,
            "flex_flow": null,
            "grid_area": null,
            "grid_auto_columns": null,
            "grid_auto_flow": null,
            "grid_auto_rows": null,
            "grid_column": null,
            "grid_gap": null,
            "grid_row": null,
            "grid_template_areas": null,
            "grid_template_columns": null,
            "grid_template_rows": null,
            "height": null,
            "justify_content": null,
            "justify_items": null,
            "left": null,
            "margin": null,
            "max_height": null,
            "max_width": null,
            "min_height": null,
            "min_width": null,
            "object_fit": null,
            "object_position": null,
            "order": null,
            "overflow": null,
            "overflow_x": null,
            "overflow_y": null,
            "padding": null,
            "right": null,
            "top": null,
            "visibility": null,
            "width": null
          }
        },
        "fa93704fe56a4a9daa8306de3af6112b": {
          "model_module": "@jupyter-widgets/controls",
          "model_name": "HBoxModel",
          "state": {
            "_dom_classes": [],
            "_model_module": "@jupyter-widgets/controls",
            "_model_module_version": "1.5.0",
            "_model_name": "HBoxModel",
            "_view_count": null,
            "_view_module": "@jupyter-widgets/controls",
            "_view_module_version": "1.5.0",
            "_view_name": "HBoxView",
            "box_style": "",
            "children": [
              "IPY_MODEL_c37fb59431534ca2a258135b615ece50",
              "IPY_MODEL_fa12d6ee85374b309abe69f4765e7f43"
            ],
            "layout": "IPY_MODEL_05b91567b11d447aa41573e56e79dba0"
          }
        },
        "05b91567b11d447aa41573e56e79dba0": {
          "model_module": "@jupyter-widgets/base",
          "model_name": "LayoutModel",
          "state": {
            "_model_module": "@jupyter-widgets/base",
            "_model_module_version": "1.2.0",
            "_model_name": "LayoutModel",
            "_view_count": null,
            "_view_module": "@jupyter-widgets/base",
            "_view_module_version": "1.2.0",
            "_view_name": "LayoutView",
            "align_content": null,
            "align_items": null,
            "align_self": null,
            "border": null,
            "bottom": null,
            "display": null,
            "flex": null,
            "flex_flow": null,
            "grid_area": null,
            "grid_auto_columns": null,
            "grid_auto_flow": null,
            "grid_auto_rows": null,
            "grid_column": null,
            "grid_gap": null,
            "grid_row": null,
            "grid_template_areas": null,
            "grid_template_columns": null,
            "grid_template_rows": null,
            "height": null,
            "justify_content": null,
            "justify_items": null,
            "left": null,
            "margin": null,
            "max_height": null,
            "max_width": null,
            "min_height": null,
            "min_width": null,
            "object_fit": null,
            "object_position": null,
            "order": null,
            "overflow": null,
            "overflow_x": null,
            "overflow_y": null,
            "padding": null,
            "right": null,
            "top": null,
            "visibility": null,
            "width": null
          }
        },
        "c37fb59431534ca2a258135b615ece50": {
          "model_module": "@jupyter-widgets/controls",
          "model_name": "FloatProgressModel",
          "state": {
            "_dom_classes": [],
            "_model_module": "@jupyter-widgets/controls",
            "_model_module_version": "1.5.0",
            "_model_name": "FloatProgressModel",
            "_view_count": null,
            "_view_module": "@jupyter-widgets/controls",
            "_view_module_version": "1.5.0",
            "_view_name": "ProgressView",
            "bar_style": "danger",
            "description": "  0%",
            "description_tooltip": null,
            "layout": "IPY_MODEL_7dc02e3a15d346b5b80bdebaface83d9",
            "max": 5000,
            "min": 0,
            "orientation": "horizontal",
            "style": "IPY_MODEL_cbf35e7f26fd4e2596bce98d1572a03e",
            "value": 0
          }
        },
        "fa12d6ee85374b309abe69f4765e7f43": {
          "model_module": "@jupyter-widgets/controls",
          "model_name": "HTMLModel",
          "state": {
            "_dom_classes": [],
            "_model_module": "@jupyter-widgets/controls",
            "_model_module_version": "1.5.0",
            "_model_name": "HTMLModel",
            "_view_count": null,
            "_view_module": "@jupyter-widgets/controls",
            "_view_module_version": "1.5.0",
            "_view_name": "HTMLView",
            "description": "",
            "description_tooltip": null,
            "layout": "IPY_MODEL_3ba30880ae9d42f3bd3a234c7cc1586f",
            "placeholder": "​",
            "style": "IPY_MODEL_1dbf2f1c51e34ca0bcfad523678f4437",
            "value": " 0/5000 [00:00&lt;?, ?it/s]"
          }
        },
        "cbf35e7f26fd4e2596bce98d1572a03e": {
          "model_module": "@jupyter-widgets/controls",
          "model_name": "ProgressStyleModel",
          "state": {
            "_model_module": "@jupyter-widgets/controls",
            "_model_module_version": "1.5.0",
            "_model_name": "ProgressStyleModel",
            "_view_count": null,
            "_view_module": "@jupyter-widgets/base",
            "_view_module_version": "1.2.0",
            "_view_name": "StyleView",
            "bar_color": null,
            "description_width": "initial"
          }
        },
        "7dc02e3a15d346b5b80bdebaface83d9": {
          "model_module": "@jupyter-widgets/base",
          "model_name": "LayoutModel",
          "state": {
            "_model_module": "@jupyter-widgets/base",
            "_model_module_version": "1.2.0",
            "_model_name": "LayoutModel",
            "_view_count": null,
            "_view_module": "@jupyter-widgets/base",
            "_view_module_version": "1.2.0",
            "_view_name": "LayoutView",
            "align_content": null,
            "align_items": null,
            "align_self": null,
            "border": null,
            "bottom": null,
            "display": null,
            "flex": null,
            "flex_flow": null,
            "grid_area": null,
            "grid_auto_columns": null,
            "grid_auto_flow": null,
            "grid_auto_rows": null,
            "grid_column": null,
            "grid_gap": null,
            "grid_row": null,
            "grid_template_areas": null,
            "grid_template_columns": null,
            "grid_template_rows": null,
            "height": null,
            "justify_content": null,
            "justify_items": null,
            "left": null,
            "margin": null,
            "max_height": null,
            "max_width": null,
            "min_height": null,
            "min_width": null,
            "object_fit": null,
            "object_position": null,
            "order": null,
            "overflow": null,
            "overflow_x": null,
            "overflow_y": null,
            "padding": null,
            "right": null,
            "top": null,
            "visibility": null,
            "width": null
          }
        },
        "1dbf2f1c51e34ca0bcfad523678f4437": {
          "model_module": "@jupyter-widgets/controls",
          "model_name": "DescriptionStyleModel",
          "state": {
            "_model_module": "@jupyter-widgets/controls",
            "_model_module_version": "1.5.0",
            "_model_name": "DescriptionStyleModel",
            "_view_count": null,
            "_view_module": "@jupyter-widgets/base",
            "_view_module_version": "1.2.0",
            "_view_name": "StyleView",
            "description_width": ""
          }
        },
        "3ba30880ae9d42f3bd3a234c7cc1586f": {
          "model_module": "@jupyter-widgets/base",
          "model_name": "LayoutModel",
          "state": {
            "_model_module": "@jupyter-widgets/base",
            "_model_module_version": "1.2.0",
            "_model_name": "LayoutModel",
            "_view_count": null,
            "_view_module": "@jupyter-widgets/base",
            "_view_module_version": "1.2.0",
            "_view_name": "LayoutView",
            "align_content": null,
            "align_items": null,
            "align_self": null,
            "border": null,
            "bottom": null,
            "display": null,
            "flex": null,
            "flex_flow": null,
            "grid_area": null,
            "grid_auto_columns": null,
            "grid_auto_flow": null,
            "grid_auto_rows": null,
            "grid_column": null,
            "grid_gap": null,
            "grid_row": null,
            "grid_template_areas": null,
            "grid_template_columns": null,
            "grid_template_rows": null,
            "height": null,
            "justify_content": null,
            "justify_items": null,
            "left": null,
            "margin": null,
            "max_height": null,
            "max_width": null,
            "min_height": null,
            "min_width": null,
            "object_fit": null,
            "object_position": null,
            "order": null,
            "overflow": null,
            "overflow_x": null,
            "overflow_y": null,
            "padding": null,
            "right": null,
            "top": null,
            "visibility": null,
            "width": null
          }
        },
        "0e8693dd89d74e6eb14b76808924a828": {
          "model_module": "@jupyter-widgets/controls",
          "model_name": "HBoxModel",
          "state": {
            "_dom_classes": [],
            "_model_module": "@jupyter-widgets/controls",
            "_model_module_version": "1.5.0",
            "_model_name": "HBoxModel",
            "_view_count": null,
            "_view_module": "@jupyter-widgets/controls",
            "_view_module_version": "1.5.0",
            "_view_name": "HBoxView",
            "box_style": "",
            "children": [
              "IPY_MODEL_98f002925dcf434da47c43ff2cf8cfef",
              "IPY_MODEL_74b2a54af623413fb5abb5b14020f01d"
            ],
            "layout": "IPY_MODEL_9f82e9e24fa546c7b0c2b6c0be86afe0"
          }
        },
        "9f82e9e24fa546c7b0c2b6c0be86afe0": {
          "model_module": "@jupyter-widgets/base",
          "model_name": "LayoutModel",
          "state": {
            "_model_module": "@jupyter-widgets/base",
            "_model_module_version": "1.2.0",
            "_model_name": "LayoutModel",
            "_view_count": null,
            "_view_module": "@jupyter-widgets/base",
            "_view_module_version": "1.2.0",
            "_view_name": "LayoutView",
            "align_content": null,
            "align_items": null,
            "align_self": null,
            "border": null,
            "bottom": null,
            "display": null,
            "flex": null,
            "flex_flow": null,
            "grid_area": null,
            "grid_auto_columns": null,
            "grid_auto_flow": null,
            "grid_auto_rows": null,
            "grid_column": null,
            "grid_gap": null,
            "grid_row": null,
            "grid_template_areas": null,
            "grid_template_columns": null,
            "grid_template_rows": null,
            "height": null,
            "justify_content": null,
            "justify_items": null,
            "left": null,
            "margin": null,
            "max_height": null,
            "max_width": null,
            "min_height": null,
            "min_width": null,
            "object_fit": null,
            "object_position": null,
            "order": null,
            "overflow": null,
            "overflow_x": null,
            "overflow_y": null,
            "padding": null,
            "right": null,
            "top": null,
            "visibility": null,
            "width": null
          }
        },
        "98f002925dcf434da47c43ff2cf8cfef": {
          "model_module": "@jupyter-widgets/controls",
          "model_name": "FloatProgressModel",
          "state": {
            "_dom_classes": [],
            "_model_module": "@jupyter-widgets/controls",
            "_model_module_version": "1.5.0",
            "_model_name": "FloatProgressModel",
            "_view_count": null,
            "_view_module": "@jupyter-widgets/controls",
            "_view_module_version": "1.5.0",
            "_view_name": "ProgressView",
            "bar_style": "success",
            "description": "100%",
            "description_tooltip": null,
            "layout": "IPY_MODEL_523a89be55724eefab22da41537cadb1",
            "max": 5000,
            "min": 0,
            "orientation": "horizontal",
            "style": "IPY_MODEL_16748c7eaaa443b7b3921b26dc193599",
            "value": 5000
          }
        },
        "74b2a54af623413fb5abb5b14020f01d": {
          "model_module": "@jupyter-widgets/controls",
          "model_name": "HTMLModel",
          "state": {
            "_dom_classes": [],
            "_model_module": "@jupyter-widgets/controls",
            "_model_module_version": "1.5.0",
            "_model_name": "HTMLModel",
            "_view_count": null,
            "_view_module": "@jupyter-widgets/controls",
            "_view_module_version": "1.5.0",
            "_view_name": "HTMLView",
            "description": "",
            "description_tooltip": null,
            "layout": "IPY_MODEL_b2e000d0c1b14eab87cd63e7b7fed71f",
            "placeholder": "​",
            "style": "IPY_MODEL_5cb7217836224cfcae7bbb36d0fc0197",
            "value": " 5000/5000 [04:04&lt;00:00, 20.48it/s]"
          }
        },
        "16748c7eaaa443b7b3921b26dc193599": {
          "model_module": "@jupyter-widgets/controls",
          "model_name": "ProgressStyleModel",
          "state": {
            "_model_module": "@jupyter-widgets/controls",
            "_model_module_version": "1.5.0",
            "_model_name": "ProgressStyleModel",
            "_view_count": null,
            "_view_module": "@jupyter-widgets/base",
            "_view_module_version": "1.2.0",
            "_view_name": "StyleView",
            "bar_color": null,
            "description_width": "initial"
          }
        },
        "523a89be55724eefab22da41537cadb1": {
          "model_module": "@jupyter-widgets/base",
          "model_name": "LayoutModel",
          "state": {
            "_model_module": "@jupyter-widgets/base",
            "_model_module_version": "1.2.0",
            "_model_name": "LayoutModel",
            "_view_count": null,
            "_view_module": "@jupyter-widgets/base",
            "_view_module_version": "1.2.0",
            "_view_name": "LayoutView",
            "align_content": null,
            "align_items": null,
            "align_self": null,
            "border": null,
            "bottom": null,
            "display": null,
            "flex": null,
            "flex_flow": null,
            "grid_area": null,
            "grid_auto_columns": null,
            "grid_auto_flow": null,
            "grid_auto_rows": null,
            "grid_column": null,
            "grid_gap": null,
            "grid_row": null,
            "grid_template_areas": null,
            "grid_template_columns": null,
            "grid_template_rows": null,
            "height": null,
            "justify_content": null,
            "justify_items": null,
            "left": null,
            "margin": null,
            "max_height": null,
            "max_width": null,
            "min_height": null,
            "min_width": null,
            "object_fit": null,
            "object_position": null,
            "order": null,
            "overflow": null,
            "overflow_x": null,
            "overflow_y": null,
            "padding": null,
            "right": null,
            "top": null,
            "visibility": null,
            "width": null
          }
        },
        "5cb7217836224cfcae7bbb36d0fc0197": {
          "model_module": "@jupyter-widgets/controls",
          "model_name": "DescriptionStyleModel",
          "state": {
            "_model_module": "@jupyter-widgets/controls",
            "_model_module_version": "1.5.0",
            "_model_name": "DescriptionStyleModel",
            "_view_count": null,
            "_view_module": "@jupyter-widgets/base",
            "_view_module_version": "1.2.0",
            "_view_name": "StyleView",
            "description_width": ""
          }
        },
        "b2e000d0c1b14eab87cd63e7b7fed71f": {
          "model_module": "@jupyter-widgets/base",
          "model_name": "LayoutModel",
          "state": {
            "_model_module": "@jupyter-widgets/base",
            "_model_module_version": "1.2.0",
            "_model_name": "LayoutModel",
            "_view_count": null,
            "_view_module": "@jupyter-widgets/base",
            "_view_module_version": "1.2.0",
            "_view_name": "LayoutView",
            "align_content": null,
            "align_items": null,
            "align_self": null,
            "border": null,
            "bottom": null,
            "display": null,
            "flex": null,
            "flex_flow": null,
            "grid_area": null,
            "grid_auto_columns": null,
            "grid_auto_flow": null,
            "grid_auto_rows": null,
            "grid_column": null,
            "grid_gap": null,
            "grid_row": null,
            "grid_template_areas": null,
            "grid_template_columns": null,
            "grid_template_rows": null,
            "height": null,
            "justify_content": null,
            "justify_items": null,
            "left": null,
            "margin": null,
            "max_height": null,
            "max_width": null,
            "min_height": null,
            "min_width": null,
            "object_fit": null,
            "object_position": null,
            "order": null,
            "overflow": null,
            "overflow_x": null,
            "overflow_y": null,
            "padding": null,
            "right": null,
            "top": null,
            "visibility": null,
            "width": null
          }
        },
        "3192c914ad1e4b4caca91713dceab42a": {
          "model_module": "@jupyter-widgets/controls",
          "model_name": "HBoxModel",
          "state": {
            "_dom_classes": [],
            "_model_module": "@jupyter-widgets/controls",
            "_model_module_version": "1.5.0",
            "_model_name": "HBoxModel",
            "_view_count": null,
            "_view_module": "@jupyter-widgets/controls",
            "_view_module_version": "1.5.0",
            "_view_name": "HBoxView",
            "box_style": "",
            "children": [
              "IPY_MODEL_66a9883f13b04a298d876e6da5c9f65c",
              "IPY_MODEL_e404903646e440e388df67d68aed7800"
            ],
            "layout": "IPY_MODEL_dd9fc1ee5a714a368c2ebd4218c56cb8"
          }
        },
        "dd9fc1ee5a714a368c2ebd4218c56cb8": {
          "model_module": "@jupyter-widgets/base",
          "model_name": "LayoutModel",
          "state": {
            "_model_module": "@jupyter-widgets/base",
            "_model_module_version": "1.2.0",
            "_model_name": "LayoutModel",
            "_view_count": null,
            "_view_module": "@jupyter-widgets/base",
            "_view_module_version": "1.2.0",
            "_view_name": "LayoutView",
            "align_content": null,
            "align_items": null,
            "align_self": null,
            "border": null,
            "bottom": null,
            "display": null,
            "flex": null,
            "flex_flow": null,
            "grid_area": null,
            "grid_auto_columns": null,
            "grid_auto_flow": null,
            "grid_auto_rows": null,
            "grid_column": null,
            "grid_gap": null,
            "grid_row": null,
            "grid_template_areas": null,
            "grid_template_columns": null,
            "grid_template_rows": null,
            "height": null,
            "justify_content": null,
            "justify_items": null,
            "left": null,
            "margin": null,
            "max_height": null,
            "max_width": null,
            "min_height": null,
            "min_width": null,
            "object_fit": null,
            "object_position": null,
            "order": null,
            "overflow": null,
            "overflow_x": null,
            "overflow_y": null,
            "padding": null,
            "right": null,
            "top": null,
            "visibility": null,
            "width": null
          }
        },
        "66a9883f13b04a298d876e6da5c9f65c": {
          "model_module": "@jupyter-widgets/controls",
          "model_name": "FloatProgressModel",
          "state": {
            "_dom_classes": [],
            "_model_module": "@jupyter-widgets/controls",
            "_model_module_version": "1.5.0",
            "_model_name": "FloatProgressModel",
            "_view_count": null,
            "_view_module": "@jupyter-widgets/controls",
            "_view_module_version": "1.5.0",
            "_view_name": "ProgressView",
            "bar_style": "success",
            "description": "100%",
            "description_tooltip": null,
            "layout": "IPY_MODEL_2adac3c01fe24c748b1b1e82ece38312",
            "max": 5000,
            "min": 0,
            "orientation": "horizontal",
            "style": "IPY_MODEL_f2635efec8094ebeaf100f0ffdcf93d9",
            "value": 5000
          }
        },
        "e404903646e440e388df67d68aed7800": {
          "model_module": "@jupyter-widgets/controls",
          "model_name": "HTMLModel",
          "state": {
            "_dom_classes": [],
            "_model_module": "@jupyter-widgets/controls",
            "_model_module_version": "1.5.0",
            "_model_name": "HTMLModel",
            "_view_count": null,
            "_view_module": "@jupyter-widgets/controls",
            "_view_module_version": "1.5.0",
            "_view_name": "HTMLView",
            "description": "",
            "description_tooltip": null,
            "layout": "IPY_MODEL_b76e58f29e5a44b2a1a9ad15755da150",
            "placeholder": "​",
            "style": "IPY_MODEL_feafa7c461554313bf88985f009d958e",
            "value": " 5000/5000 [03:51&lt;00:00, 21.59it/s]"
          }
        },
        "f2635efec8094ebeaf100f0ffdcf93d9": {
          "model_module": "@jupyter-widgets/controls",
          "model_name": "ProgressStyleModel",
          "state": {
            "_model_module": "@jupyter-widgets/controls",
            "_model_module_version": "1.5.0",
            "_model_name": "ProgressStyleModel",
            "_view_count": null,
            "_view_module": "@jupyter-widgets/base",
            "_view_module_version": "1.2.0",
            "_view_name": "StyleView",
            "bar_color": null,
            "description_width": "initial"
          }
        },
        "2adac3c01fe24c748b1b1e82ece38312": {
          "model_module": "@jupyter-widgets/base",
          "model_name": "LayoutModel",
          "state": {
            "_model_module": "@jupyter-widgets/base",
            "_model_module_version": "1.2.0",
            "_model_name": "LayoutModel",
            "_view_count": null,
            "_view_module": "@jupyter-widgets/base",
            "_view_module_version": "1.2.0",
            "_view_name": "LayoutView",
            "align_content": null,
            "align_items": null,
            "align_self": null,
            "border": null,
            "bottom": null,
            "display": null,
            "flex": null,
            "flex_flow": null,
            "grid_area": null,
            "grid_auto_columns": null,
            "grid_auto_flow": null,
            "grid_auto_rows": null,
            "grid_column": null,
            "grid_gap": null,
            "grid_row": null,
            "grid_template_areas": null,
            "grid_template_columns": null,
            "grid_template_rows": null,
            "height": null,
            "justify_content": null,
            "justify_items": null,
            "left": null,
            "margin": null,
            "max_height": null,
            "max_width": null,
            "min_height": null,
            "min_width": null,
            "object_fit": null,
            "object_position": null,
            "order": null,
            "overflow": null,
            "overflow_x": null,
            "overflow_y": null,
            "padding": null,
            "right": null,
            "top": null,
            "visibility": null,
            "width": null
          }
        },
        "feafa7c461554313bf88985f009d958e": {
          "model_module": "@jupyter-widgets/controls",
          "model_name": "DescriptionStyleModel",
          "state": {
            "_model_module": "@jupyter-widgets/controls",
            "_model_module_version": "1.5.0",
            "_model_name": "DescriptionStyleModel",
            "_view_count": null,
            "_view_module": "@jupyter-widgets/base",
            "_view_module_version": "1.2.0",
            "_view_name": "StyleView",
            "description_width": ""
          }
        },
        "b76e58f29e5a44b2a1a9ad15755da150": {
          "model_module": "@jupyter-widgets/base",
          "model_name": "LayoutModel",
          "state": {
            "_model_module": "@jupyter-widgets/base",
            "_model_module_version": "1.2.0",
            "_model_name": "LayoutModel",
            "_view_count": null,
            "_view_module": "@jupyter-widgets/base",
            "_view_module_version": "1.2.0",
            "_view_name": "LayoutView",
            "align_content": null,
            "align_items": null,
            "align_self": null,
            "border": null,
            "bottom": null,
            "display": null,
            "flex": null,
            "flex_flow": null,
            "grid_area": null,
            "grid_auto_columns": null,
            "grid_auto_flow": null,
            "grid_auto_rows": null,
            "grid_column": null,
            "grid_gap": null,
            "grid_row": null,
            "grid_template_areas": null,
            "grid_template_columns": null,
            "grid_template_rows": null,
            "height": null,
            "justify_content": null,
            "justify_items": null,
            "left": null,
            "margin": null,
            "max_height": null,
            "max_width": null,
            "min_height": null,
            "min_width": null,
            "object_fit": null,
            "object_position": null,
            "order": null,
            "overflow": null,
            "overflow_x": null,
            "overflow_y": null,
            "padding": null,
            "right": null,
            "top": null,
            "visibility": null,
            "width": null
          }
        },
        "c1ec4abd59af4733b4f8c7a3d35d9886": {
          "model_module": "@jupyter-widgets/controls",
          "model_name": "HBoxModel",
          "state": {
            "_dom_classes": [],
            "_model_module": "@jupyter-widgets/controls",
            "_model_module_version": "1.5.0",
            "_model_name": "HBoxModel",
            "_view_count": null,
            "_view_module": "@jupyter-widgets/controls",
            "_view_module_version": "1.5.0",
            "_view_name": "HBoxView",
            "box_style": "",
            "children": [
              "IPY_MODEL_a97071650b8546518ad075ca41c98c93",
              "IPY_MODEL_819c807a421a4fe79b63e21920c1994c"
            ],
            "layout": "IPY_MODEL_5302748797e147d09255ca3227151c02"
          }
        },
        "5302748797e147d09255ca3227151c02": {
          "model_module": "@jupyter-widgets/base",
          "model_name": "LayoutModel",
          "state": {
            "_model_module": "@jupyter-widgets/base",
            "_model_module_version": "1.2.0",
            "_model_name": "LayoutModel",
            "_view_count": null,
            "_view_module": "@jupyter-widgets/base",
            "_view_module_version": "1.2.0",
            "_view_name": "LayoutView",
            "align_content": null,
            "align_items": null,
            "align_self": null,
            "border": null,
            "bottom": null,
            "display": null,
            "flex": null,
            "flex_flow": null,
            "grid_area": null,
            "grid_auto_columns": null,
            "grid_auto_flow": null,
            "grid_auto_rows": null,
            "grid_column": null,
            "grid_gap": null,
            "grid_row": null,
            "grid_template_areas": null,
            "grid_template_columns": null,
            "grid_template_rows": null,
            "height": null,
            "justify_content": null,
            "justify_items": null,
            "left": null,
            "margin": null,
            "max_height": null,
            "max_width": null,
            "min_height": null,
            "min_width": null,
            "object_fit": null,
            "object_position": null,
            "order": null,
            "overflow": null,
            "overflow_x": null,
            "overflow_y": null,
            "padding": null,
            "right": null,
            "top": null,
            "visibility": null,
            "width": null
          }
        },
        "a97071650b8546518ad075ca41c98c93": {
          "model_module": "@jupyter-widgets/controls",
          "model_name": "FloatProgressModel",
          "state": {
            "_dom_classes": [],
            "_model_module": "@jupyter-widgets/controls",
            "_model_module_version": "1.5.0",
            "_model_name": "FloatProgressModel",
            "_view_count": null,
            "_view_module": "@jupyter-widgets/controls",
            "_view_module_version": "1.5.0",
            "_view_name": "ProgressView",
            "bar_style": "success",
            "description": "100%",
            "description_tooltip": null,
            "layout": "IPY_MODEL_f044bf81161b474194a2002f89a4ff01",
            "max": 5000,
            "min": 0,
            "orientation": "horizontal",
            "style": "IPY_MODEL_0a884e75c8634ad5a3391507ead0b01e",
            "value": 5000
          }
        },
        "819c807a421a4fe79b63e21920c1994c": {
          "model_module": "@jupyter-widgets/controls",
          "model_name": "HTMLModel",
          "state": {
            "_dom_classes": [],
            "_model_module": "@jupyter-widgets/controls",
            "_model_module_version": "1.5.0",
            "_model_name": "HTMLModel",
            "_view_count": null,
            "_view_module": "@jupyter-widgets/controls",
            "_view_module_version": "1.5.0",
            "_view_name": "HTMLView",
            "description": "",
            "description_tooltip": null,
            "layout": "IPY_MODEL_de8c5785fc4944bdb7f94b9933531d61",
            "placeholder": "​",
            "style": "IPY_MODEL_1ef28eaa1eac42d0b0d1fd09deb9df1e",
            "value": " 5000/5000 [03:43&lt;00:00, 22.33it/s]"
          }
        },
        "0a884e75c8634ad5a3391507ead0b01e": {
          "model_module": "@jupyter-widgets/controls",
          "model_name": "ProgressStyleModel",
          "state": {
            "_model_module": "@jupyter-widgets/controls",
            "_model_module_version": "1.5.0",
            "_model_name": "ProgressStyleModel",
            "_view_count": null,
            "_view_module": "@jupyter-widgets/base",
            "_view_module_version": "1.2.0",
            "_view_name": "StyleView",
            "bar_color": null,
            "description_width": "initial"
          }
        },
        "f044bf81161b474194a2002f89a4ff01": {
          "model_module": "@jupyter-widgets/base",
          "model_name": "LayoutModel",
          "state": {
            "_model_module": "@jupyter-widgets/base",
            "_model_module_version": "1.2.0",
            "_model_name": "LayoutModel",
            "_view_count": null,
            "_view_module": "@jupyter-widgets/base",
            "_view_module_version": "1.2.0",
            "_view_name": "LayoutView",
            "align_content": null,
            "align_items": null,
            "align_self": null,
            "border": null,
            "bottom": null,
            "display": null,
            "flex": null,
            "flex_flow": null,
            "grid_area": null,
            "grid_auto_columns": null,
            "grid_auto_flow": null,
            "grid_auto_rows": null,
            "grid_column": null,
            "grid_gap": null,
            "grid_row": null,
            "grid_template_areas": null,
            "grid_template_columns": null,
            "grid_template_rows": null,
            "height": null,
            "justify_content": null,
            "justify_items": null,
            "left": null,
            "margin": null,
            "max_height": null,
            "max_width": null,
            "min_height": null,
            "min_width": null,
            "object_fit": null,
            "object_position": null,
            "order": null,
            "overflow": null,
            "overflow_x": null,
            "overflow_y": null,
            "padding": null,
            "right": null,
            "top": null,
            "visibility": null,
            "width": null
          }
        },
        "1ef28eaa1eac42d0b0d1fd09deb9df1e": {
          "model_module": "@jupyter-widgets/controls",
          "model_name": "DescriptionStyleModel",
          "state": {
            "_model_module": "@jupyter-widgets/controls",
            "_model_module_version": "1.5.0",
            "_model_name": "DescriptionStyleModel",
            "_view_count": null,
            "_view_module": "@jupyter-widgets/base",
            "_view_module_version": "1.2.0",
            "_view_name": "StyleView",
            "description_width": ""
          }
        },
        "de8c5785fc4944bdb7f94b9933531d61": {
          "model_module": "@jupyter-widgets/base",
          "model_name": "LayoutModel",
          "state": {
            "_model_module": "@jupyter-widgets/base",
            "_model_module_version": "1.2.0",
            "_model_name": "LayoutModel",
            "_view_count": null,
            "_view_module": "@jupyter-widgets/base",
            "_view_module_version": "1.2.0",
            "_view_name": "LayoutView",
            "align_content": null,
            "align_items": null,
            "align_self": null,
            "border": null,
            "bottom": null,
            "display": null,
            "flex": null,
            "flex_flow": null,
            "grid_area": null,
            "grid_auto_columns": null,
            "grid_auto_flow": null,
            "grid_auto_rows": null,
            "grid_column": null,
            "grid_gap": null,
            "grid_row": null,
            "grid_template_areas": null,
            "grid_template_columns": null,
            "grid_template_rows": null,
            "height": null,
            "justify_content": null,
            "justify_items": null,
            "left": null,
            "margin": null,
            "max_height": null,
            "max_width": null,
            "min_height": null,
            "min_width": null,
            "object_fit": null,
            "object_position": null,
            "order": null,
            "overflow": null,
            "overflow_x": null,
            "overflow_y": null,
            "padding": null,
            "right": null,
            "top": null,
            "visibility": null,
            "width": null
          }
        },
        "3d3fc1f8f88744308266a1fc1203db10": {
          "model_module": "@jupyter-widgets/controls",
          "model_name": "HBoxModel",
          "state": {
            "_dom_classes": [],
            "_model_module": "@jupyter-widgets/controls",
            "_model_module_version": "1.5.0",
            "_model_name": "HBoxModel",
            "_view_count": null,
            "_view_module": "@jupyter-widgets/controls",
            "_view_module_version": "1.5.0",
            "_view_name": "HBoxView",
            "box_style": "",
            "children": [
              "IPY_MODEL_2d65b9a01ce94d69b8e9c940f285a2af",
              "IPY_MODEL_c79776e6c1ee467f9e7ee85a71d8be96"
            ],
            "layout": "IPY_MODEL_93fdc7a56e6348d89cb907bf00b35a80"
          }
        },
        "93fdc7a56e6348d89cb907bf00b35a80": {
          "model_module": "@jupyter-widgets/base",
          "model_name": "LayoutModel",
          "state": {
            "_model_module": "@jupyter-widgets/base",
            "_model_module_version": "1.2.0",
            "_model_name": "LayoutModel",
            "_view_count": null,
            "_view_module": "@jupyter-widgets/base",
            "_view_module_version": "1.2.0",
            "_view_name": "LayoutView",
            "align_content": null,
            "align_items": null,
            "align_self": null,
            "border": null,
            "bottom": null,
            "display": null,
            "flex": null,
            "flex_flow": null,
            "grid_area": null,
            "grid_auto_columns": null,
            "grid_auto_flow": null,
            "grid_auto_rows": null,
            "grid_column": null,
            "grid_gap": null,
            "grid_row": null,
            "grid_template_areas": null,
            "grid_template_columns": null,
            "grid_template_rows": null,
            "height": null,
            "justify_content": null,
            "justify_items": null,
            "left": null,
            "margin": null,
            "max_height": null,
            "max_width": null,
            "min_height": null,
            "min_width": null,
            "object_fit": null,
            "object_position": null,
            "order": null,
            "overflow": null,
            "overflow_x": null,
            "overflow_y": null,
            "padding": null,
            "right": null,
            "top": null,
            "visibility": null,
            "width": null
          }
        },
        "2d65b9a01ce94d69b8e9c940f285a2af": {
          "model_module": "@jupyter-widgets/controls",
          "model_name": "FloatProgressModel",
          "state": {
            "_dom_classes": [],
            "_model_module": "@jupyter-widgets/controls",
            "_model_module_version": "1.5.0",
            "_model_name": "FloatProgressModel",
            "_view_count": null,
            "_view_module": "@jupyter-widgets/controls",
            "_view_module_version": "1.5.0",
            "_view_name": "ProgressView",
            "bar_style": "success",
            "description": "100%",
            "description_tooltip": null,
            "layout": "IPY_MODEL_6a353c36ebd248a7bba8e50242b46540",
            "max": 5000,
            "min": 0,
            "orientation": "horizontal",
            "style": "IPY_MODEL_d511f72642284af080f3a0570944cab7",
            "value": 5000
          }
        },
        "c79776e6c1ee467f9e7ee85a71d8be96": {
          "model_module": "@jupyter-widgets/controls",
          "model_name": "HTMLModel",
          "state": {
            "_dom_classes": [],
            "_model_module": "@jupyter-widgets/controls",
            "_model_module_version": "1.5.0",
            "_model_name": "HTMLModel",
            "_view_count": null,
            "_view_module": "@jupyter-widgets/controls",
            "_view_module_version": "1.5.0",
            "_view_name": "HTMLView",
            "description": "",
            "description_tooltip": null,
            "layout": "IPY_MODEL_3af5405223924366b1f5f999d0e35b58",
            "placeholder": "​",
            "style": "IPY_MODEL_9c3a266c7265443a81dcb8e0262d4bb7",
            "value": " 5000/5000 [03:33&lt;00:00, 23.46it/s]"
          }
        },
        "d511f72642284af080f3a0570944cab7": {
          "model_module": "@jupyter-widgets/controls",
          "model_name": "ProgressStyleModel",
          "state": {
            "_model_module": "@jupyter-widgets/controls",
            "_model_module_version": "1.5.0",
            "_model_name": "ProgressStyleModel",
            "_view_count": null,
            "_view_module": "@jupyter-widgets/base",
            "_view_module_version": "1.2.0",
            "_view_name": "StyleView",
            "bar_color": null,
            "description_width": "initial"
          }
        },
        "6a353c36ebd248a7bba8e50242b46540": {
          "model_module": "@jupyter-widgets/base",
          "model_name": "LayoutModel",
          "state": {
            "_model_module": "@jupyter-widgets/base",
            "_model_module_version": "1.2.0",
            "_model_name": "LayoutModel",
            "_view_count": null,
            "_view_module": "@jupyter-widgets/base",
            "_view_module_version": "1.2.0",
            "_view_name": "LayoutView",
            "align_content": null,
            "align_items": null,
            "align_self": null,
            "border": null,
            "bottom": null,
            "display": null,
            "flex": null,
            "flex_flow": null,
            "grid_area": null,
            "grid_auto_columns": null,
            "grid_auto_flow": null,
            "grid_auto_rows": null,
            "grid_column": null,
            "grid_gap": null,
            "grid_row": null,
            "grid_template_areas": null,
            "grid_template_columns": null,
            "grid_template_rows": null,
            "height": null,
            "justify_content": null,
            "justify_items": null,
            "left": null,
            "margin": null,
            "max_height": null,
            "max_width": null,
            "min_height": null,
            "min_width": null,
            "object_fit": null,
            "object_position": null,
            "order": null,
            "overflow": null,
            "overflow_x": null,
            "overflow_y": null,
            "padding": null,
            "right": null,
            "top": null,
            "visibility": null,
            "width": null
          }
        },
        "9c3a266c7265443a81dcb8e0262d4bb7": {
          "model_module": "@jupyter-widgets/controls",
          "model_name": "DescriptionStyleModel",
          "state": {
            "_model_module": "@jupyter-widgets/controls",
            "_model_module_version": "1.5.0",
            "_model_name": "DescriptionStyleModel",
            "_view_count": null,
            "_view_module": "@jupyter-widgets/base",
            "_view_module_version": "1.2.0",
            "_view_name": "StyleView",
            "description_width": ""
          }
        },
        "3af5405223924366b1f5f999d0e35b58": {
          "model_module": "@jupyter-widgets/base",
          "model_name": "LayoutModel",
          "state": {
            "_model_module": "@jupyter-widgets/base",
            "_model_module_version": "1.2.0",
            "_model_name": "LayoutModel",
            "_view_count": null,
            "_view_module": "@jupyter-widgets/base",
            "_view_module_version": "1.2.0",
            "_view_name": "LayoutView",
            "align_content": null,
            "align_items": null,
            "align_self": null,
            "border": null,
            "bottom": null,
            "display": null,
            "flex": null,
            "flex_flow": null,
            "grid_area": null,
            "grid_auto_columns": null,
            "grid_auto_flow": null,
            "grid_auto_rows": null,
            "grid_column": null,
            "grid_gap": null,
            "grid_row": null,
            "grid_template_areas": null,
            "grid_template_columns": null,
            "grid_template_rows": null,
            "height": null,
            "justify_content": null,
            "justify_items": null,
            "left": null,
            "margin": null,
            "max_height": null,
            "max_width": null,
            "min_height": null,
            "min_width": null,
            "object_fit": null,
            "object_position": null,
            "order": null,
            "overflow": null,
            "overflow_x": null,
            "overflow_y": null,
            "padding": null,
            "right": null,
            "top": null,
            "visibility": null,
            "width": null
          }
        },
        "16888e002b0a463b961428015960f4f3": {
          "model_module": "@jupyter-widgets/controls",
          "model_name": "HBoxModel",
          "state": {
            "_dom_classes": [],
            "_model_module": "@jupyter-widgets/controls",
            "_model_module_version": "1.5.0",
            "_model_name": "HBoxModel",
            "_view_count": null,
            "_view_module": "@jupyter-widgets/controls",
            "_view_module_version": "1.5.0",
            "_view_name": "HBoxView",
            "box_style": "",
            "children": [
              "IPY_MODEL_2e31dc096847436788be62e7037b74b1",
              "IPY_MODEL_c7a596ff5765469eb5ef7426a367146c"
            ],
            "layout": "IPY_MODEL_8f51b7cc8c7e4844a455fb8b948208c0"
          }
        },
        "8f51b7cc8c7e4844a455fb8b948208c0": {
          "model_module": "@jupyter-widgets/base",
          "model_name": "LayoutModel",
          "state": {
            "_model_module": "@jupyter-widgets/base",
            "_model_module_version": "1.2.0",
            "_model_name": "LayoutModel",
            "_view_count": null,
            "_view_module": "@jupyter-widgets/base",
            "_view_module_version": "1.2.0",
            "_view_name": "LayoutView",
            "align_content": null,
            "align_items": null,
            "align_self": null,
            "border": null,
            "bottom": null,
            "display": null,
            "flex": null,
            "flex_flow": null,
            "grid_area": null,
            "grid_auto_columns": null,
            "grid_auto_flow": null,
            "grid_auto_rows": null,
            "grid_column": null,
            "grid_gap": null,
            "grid_row": null,
            "grid_template_areas": null,
            "grid_template_columns": null,
            "grid_template_rows": null,
            "height": null,
            "justify_content": null,
            "justify_items": null,
            "left": null,
            "margin": null,
            "max_height": null,
            "max_width": null,
            "min_height": null,
            "min_width": null,
            "object_fit": null,
            "object_position": null,
            "order": null,
            "overflow": null,
            "overflow_x": null,
            "overflow_y": null,
            "padding": null,
            "right": null,
            "top": null,
            "visibility": null,
            "width": null
          }
        },
        "2e31dc096847436788be62e7037b74b1": {
          "model_module": "@jupyter-widgets/controls",
          "model_name": "FloatProgressModel",
          "state": {
            "_dom_classes": [],
            "_model_module": "@jupyter-widgets/controls",
            "_model_module_version": "1.5.0",
            "_model_name": "FloatProgressModel",
            "_view_count": null,
            "_view_module": "@jupyter-widgets/controls",
            "_view_module_version": "1.5.0",
            "_view_name": "ProgressView",
            "bar_style": "success",
            "description": "100%",
            "description_tooltip": null,
            "layout": "IPY_MODEL_49a7ad57543c4702bcca525bb365b91e",
            "max": 5000,
            "min": 0,
            "orientation": "horizontal",
            "style": "IPY_MODEL_6cdcafeefa9042f4936e94ff125f4fa3",
            "value": 5000
          }
        },
        "c7a596ff5765469eb5ef7426a367146c": {
          "model_module": "@jupyter-widgets/controls",
          "model_name": "HTMLModel",
          "state": {
            "_dom_classes": [],
            "_model_module": "@jupyter-widgets/controls",
            "_model_module_version": "1.5.0",
            "_model_name": "HTMLModel",
            "_view_count": null,
            "_view_module": "@jupyter-widgets/controls",
            "_view_module_version": "1.5.0",
            "_view_name": "HTMLView",
            "description": "",
            "description_tooltip": null,
            "layout": "IPY_MODEL_c22fe4a797704f5fa4799202ae46a86e",
            "placeholder": "​",
            "style": "IPY_MODEL_ca585a524dd7413ba7537a4f887fb0b3",
            "value": " 5000/5000 [04:01&lt;00:00, 20.68it/s]"
          }
        },
        "6cdcafeefa9042f4936e94ff125f4fa3": {
          "model_module": "@jupyter-widgets/controls",
          "model_name": "ProgressStyleModel",
          "state": {
            "_model_module": "@jupyter-widgets/controls",
            "_model_module_version": "1.5.0",
            "_model_name": "ProgressStyleModel",
            "_view_count": null,
            "_view_module": "@jupyter-widgets/base",
            "_view_module_version": "1.2.0",
            "_view_name": "StyleView",
            "bar_color": null,
            "description_width": "initial"
          }
        },
        "49a7ad57543c4702bcca525bb365b91e": {
          "model_module": "@jupyter-widgets/base",
          "model_name": "LayoutModel",
          "state": {
            "_model_module": "@jupyter-widgets/base",
            "_model_module_version": "1.2.0",
            "_model_name": "LayoutModel",
            "_view_count": null,
            "_view_module": "@jupyter-widgets/base",
            "_view_module_version": "1.2.0",
            "_view_name": "LayoutView",
            "align_content": null,
            "align_items": null,
            "align_self": null,
            "border": null,
            "bottom": null,
            "display": null,
            "flex": null,
            "flex_flow": null,
            "grid_area": null,
            "grid_auto_columns": null,
            "grid_auto_flow": null,
            "grid_auto_rows": null,
            "grid_column": null,
            "grid_gap": null,
            "grid_row": null,
            "grid_template_areas": null,
            "grid_template_columns": null,
            "grid_template_rows": null,
            "height": null,
            "justify_content": null,
            "justify_items": null,
            "left": null,
            "margin": null,
            "max_height": null,
            "max_width": null,
            "min_height": null,
            "min_width": null,
            "object_fit": null,
            "object_position": null,
            "order": null,
            "overflow": null,
            "overflow_x": null,
            "overflow_y": null,
            "padding": null,
            "right": null,
            "top": null,
            "visibility": null,
            "width": null
          }
        },
        "ca585a524dd7413ba7537a4f887fb0b3": {
          "model_module": "@jupyter-widgets/controls",
          "model_name": "DescriptionStyleModel",
          "state": {
            "_model_module": "@jupyter-widgets/controls",
            "_model_module_version": "1.5.0",
            "_model_name": "DescriptionStyleModel",
            "_view_count": null,
            "_view_module": "@jupyter-widgets/base",
            "_view_module_version": "1.2.0",
            "_view_name": "StyleView",
            "description_width": ""
          }
        },
        "c22fe4a797704f5fa4799202ae46a86e": {
          "model_module": "@jupyter-widgets/base",
          "model_name": "LayoutModel",
          "state": {
            "_model_module": "@jupyter-widgets/base",
            "_model_module_version": "1.2.0",
            "_model_name": "LayoutModel",
            "_view_count": null,
            "_view_module": "@jupyter-widgets/base",
            "_view_module_version": "1.2.0",
            "_view_name": "LayoutView",
            "align_content": null,
            "align_items": null,
            "align_self": null,
            "border": null,
            "bottom": null,
            "display": null,
            "flex": null,
            "flex_flow": null,
            "grid_area": null,
            "grid_auto_columns": null,
            "grid_auto_flow": null,
            "grid_auto_rows": null,
            "grid_column": null,
            "grid_gap": null,
            "grid_row": null,
            "grid_template_areas": null,
            "grid_template_columns": null,
            "grid_template_rows": null,
            "height": null,
            "justify_content": null,
            "justify_items": null,
            "left": null,
            "margin": null,
            "max_height": null,
            "max_width": null,
            "min_height": null,
            "min_width": null,
            "object_fit": null,
            "object_position": null,
            "order": null,
            "overflow": null,
            "overflow_x": null,
            "overflow_y": null,
            "padding": null,
            "right": null,
            "top": null,
            "visibility": null,
            "width": null
          }
        },
        "c898a56913cd4e19803c1492bf2791e4": {
          "model_module": "@jupyter-widgets/controls",
          "model_name": "HBoxModel",
          "state": {
            "_dom_classes": [],
            "_model_module": "@jupyter-widgets/controls",
            "_model_module_version": "1.5.0",
            "_model_name": "HBoxModel",
            "_view_count": null,
            "_view_module": "@jupyter-widgets/controls",
            "_view_module_version": "1.5.0",
            "_view_name": "HBoxView",
            "box_style": "",
            "children": [
              "IPY_MODEL_6c95aef64fce4244b749c102fc89b78d",
              "IPY_MODEL_7604ea838e1e4bce9b2fa8b0e0e6ac43"
            ],
            "layout": "IPY_MODEL_1b1992e44c534078bb36d2a2e443d840"
          }
        },
        "1b1992e44c534078bb36d2a2e443d840": {
          "model_module": "@jupyter-widgets/base",
          "model_name": "LayoutModel",
          "state": {
            "_model_module": "@jupyter-widgets/base",
            "_model_module_version": "1.2.0",
            "_model_name": "LayoutModel",
            "_view_count": null,
            "_view_module": "@jupyter-widgets/base",
            "_view_module_version": "1.2.0",
            "_view_name": "LayoutView",
            "align_content": null,
            "align_items": null,
            "align_self": null,
            "border": null,
            "bottom": null,
            "display": null,
            "flex": null,
            "flex_flow": null,
            "grid_area": null,
            "grid_auto_columns": null,
            "grid_auto_flow": null,
            "grid_auto_rows": null,
            "grid_column": null,
            "grid_gap": null,
            "grid_row": null,
            "grid_template_areas": null,
            "grid_template_columns": null,
            "grid_template_rows": null,
            "height": null,
            "justify_content": null,
            "justify_items": null,
            "left": null,
            "margin": null,
            "max_height": null,
            "max_width": null,
            "min_height": null,
            "min_width": null,
            "object_fit": null,
            "object_position": null,
            "order": null,
            "overflow": null,
            "overflow_x": null,
            "overflow_y": null,
            "padding": null,
            "right": null,
            "top": null,
            "visibility": null,
            "width": null
          }
        },
        "6c95aef64fce4244b749c102fc89b78d": {
          "model_module": "@jupyter-widgets/controls",
          "model_name": "FloatProgressModel",
          "state": {
            "_dom_classes": [],
            "_model_module": "@jupyter-widgets/controls",
            "_model_module_version": "1.5.0",
            "_model_name": "FloatProgressModel",
            "_view_count": null,
            "_view_module": "@jupyter-widgets/controls",
            "_view_module_version": "1.5.0",
            "_view_name": "ProgressView",
            "bar_style": "success",
            "description": "100%",
            "description_tooltip": null,
            "layout": "IPY_MODEL_f748391a0e5e4aa09a5bc3adc1220868",
            "max": 5000,
            "min": 0,
            "orientation": "horizontal",
            "style": "IPY_MODEL_b96700e961f340878750b76cc8759cd1",
            "value": 5000
          }
        },
        "7604ea838e1e4bce9b2fa8b0e0e6ac43": {
          "model_module": "@jupyter-widgets/controls",
          "model_name": "HTMLModel",
          "state": {
            "_dom_classes": [],
            "_model_module": "@jupyter-widgets/controls",
            "_model_module_version": "1.5.0",
            "_model_name": "HTMLModel",
            "_view_count": null,
            "_view_module": "@jupyter-widgets/controls",
            "_view_module_version": "1.5.0",
            "_view_name": "HTMLView",
            "description": "",
            "description_tooltip": null,
            "layout": "IPY_MODEL_659a4b71053b42549e689f6bf2106f68",
            "placeholder": "​",
            "style": "IPY_MODEL_2974863e7e094d18824347621f86e34a",
            "value": " 5000/5000 [03:53&lt;00:00, 21.40it/s]"
          }
        },
        "b96700e961f340878750b76cc8759cd1": {
          "model_module": "@jupyter-widgets/controls",
          "model_name": "ProgressStyleModel",
          "state": {
            "_model_module": "@jupyter-widgets/controls",
            "_model_module_version": "1.5.0",
            "_model_name": "ProgressStyleModel",
            "_view_count": null,
            "_view_module": "@jupyter-widgets/base",
            "_view_module_version": "1.2.0",
            "_view_name": "StyleView",
            "bar_color": null,
            "description_width": "initial"
          }
        },
        "f748391a0e5e4aa09a5bc3adc1220868": {
          "model_module": "@jupyter-widgets/base",
          "model_name": "LayoutModel",
          "state": {
            "_model_module": "@jupyter-widgets/base",
            "_model_module_version": "1.2.0",
            "_model_name": "LayoutModel",
            "_view_count": null,
            "_view_module": "@jupyter-widgets/base",
            "_view_module_version": "1.2.0",
            "_view_name": "LayoutView",
            "align_content": null,
            "align_items": null,
            "align_self": null,
            "border": null,
            "bottom": null,
            "display": null,
            "flex": null,
            "flex_flow": null,
            "grid_area": null,
            "grid_auto_columns": null,
            "grid_auto_flow": null,
            "grid_auto_rows": null,
            "grid_column": null,
            "grid_gap": null,
            "grid_row": null,
            "grid_template_areas": null,
            "grid_template_columns": null,
            "grid_template_rows": null,
            "height": null,
            "justify_content": null,
            "justify_items": null,
            "left": null,
            "margin": null,
            "max_height": null,
            "max_width": null,
            "min_height": null,
            "min_width": null,
            "object_fit": null,
            "object_position": null,
            "order": null,
            "overflow": null,
            "overflow_x": null,
            "overflow_y": null,
            "padding": null,
            "right": null,
            "top": null,
            "visibility": null,
            "width": null
          }
        },
        "2974863e7e094d18824347621f86e34a": {
          "model_module": "@jupyter-widgets/controls",
          "model_name": "DescriptionStyleModel",
          "state": {
            "_model_module": "@jupyter-widgets/controls",
            "_model_module_version": "1.5.0",
            "_model_name": "DescriptionStyleModel",
            "_view_count": null,
            "_view_module": "@jupyter-widgets/base",
            "_view_module_version": "1.2.0",
            "_view_name": "StyleView",
            "description_width": ""
          }
        },
        "659a4b71053b42549e689f6bf2106f68": {
          "model_module": "@jupyter-widgets/base",
          "model_name": "LayoutModel",
          "state": {
            "_model_module": "@jupyter-widgets/base",
            "_model_module_version": "1.2.0",
            "_model_name": "LayoutModel",
            "_view_count": null,
            "_view_module": "@jupyter-widgets/base",
            "_view_module_version": "1.2.0",
            "_view_name": "LayoutView",
            "align_content": null,
            "align_items": null,
            "align_self": null,
            "border": null,
            "bottom": null,
            "display": null,
            "flex": null,
            "flex_flow": null,
            "grid_area": null,
            "grid_auto_columns": null,
            "grid_auto_flow": null,
            "grid_auto_rows": null,
            "grid_column": null,
            "grid_gap": null,
            "grid_row": null,
            "grid_template_areas": null,
            "grid_template_columns": null,
            "grid_template_rows": null,
            "height": null,
            "justify_content": null,
            "justify_items": null,
            "left": null,
            "margin": null,
            "max_height": null,
            "max_width": null,
            "min_height": null,
            "min_width": null,
            "object_fit": null,
            "object_position": null,
            "order": null,
            "overflow": null,
            "overflow_x": null,
            "overflow_y": null,
            "padding": null,
            "right": null,
            "top": null,
            "visibility": null,
            "width": null
          }
        },
        "26a1263a2051467d99c8d76acb379e07": {
          "model_module": "@jupyter-widgets/controls",
          "model_name": "HBoxModel",
          "state": {
            "_dom_classes": [],
            "_model_module": "@jupyter-widgets/controls",
            "_model_module_version": "1.5.0",
            "_model_name": "HBoxModel",
            "_view_count": null,
            "_view_module": "@jupyter-widgets/controls",
            "_view_module_version": "1.5.0",
            "_view_name": "HBoxView",
            "box_style": "",
            "children": [
              "IPY_MODEL_a51e9bdbdf314a03842121b787657af1",
              "IPY_MODEL_3d18242e0dee42b1948c0fd33ab2d6bd"
            ],
            "layout": "IPY_MODEL_8468209ca4cf48eb927b129bf5dc8167"
          }
        },
        "8468209ca4cf48eb927b129bf5dc8167": {
          "model_module": "@jupyter-widgets/base",
          "model_name": "LayoutModel",
          "state": {
            "_model_module": "@jupyter-widgets/base",
            "_model_module_version": "1.2.0",
            "_model_name": "LayoutModel",
            "_view_count": null,
            "_view_module": "@jupyter-widgets/base",
            "_view_module_version": "1.2.0",
            "_view_name": "LayoutView",
            "align_content": null,
            "align_items": null,
            "align_self": null,
            "border": null,
            "bottom": null,
            "display": null,
            "flex": null,
            "flex_flow": null,
            "grid_area": null,
            "grid_auto_columns": null,
            "grid_auto_flow": null,
            "grid_auto_rows": null,
            "grid_column": null,
            "grid_gap": null,
            "grid_row": null,
            "grid_template_areas": null,
            "grid_template_columns": null,
            "grid_template_rows": null,
            "height": null,
            "justify_content": null,
            "justify_items": null,
            "left": null,
            "margin": null,
            "max_height": null,
            "max_width": null,
            "min_height": null,
            "min_width": null,
            "object_fit": null,
            "object_position": null,
            "order": null,
            "overflow": null,
            "overflow_x": null,
            "overflow_y": null,
            "padding": null,
            "right": null,
            "top": null,
            "visibility": null,
            "width": null
          }
        },
        "a51e9bdbdf314a03842121b787657af1": {
          "model_module": "@jupyter-widgets/controls",
          "model_name": "FloatProgressModel",
          "state": {
            "_dom_classes": [],
            "_model_module": "@jupyter-widgets/controls",
            "_model_module_version": "1.5.0",
            "_model_name": "FloatProgressModel",
            "_view_count": null,
            "_view_module": "@jupyter-widgets/controls",
            "_view_module_version": "1.5.0",
            "_view_name": "ProgressView",
            "bar_style": "success",
            "description": "100%",
            "description_tooltip": null,
            "layout": "IPY_MODEL_cadc5acfd9d946afaf2611b33232e3e0",
            "max": 5000,
            "min": 0,
            "orientation": "horizontal",
            "style": "IPY_MODEL_991f448e960d4cc0ac5e9730d2bc7998",
            "value": 5000
          }
        },
        "3d18242e0dee42b1948c0fd33ab2d6bd": {
          "model_module": "@jupyter-widgets/controls",
          "model_name": "HTMLModel",
          "state": {
            "_dom_classes": [],
            "_model_module": "@jupyter-widgets/controls",
            "_model_module_version": "1.5.0",
            "_model_name": "HTMLModel",
            "_view_count": null,
            "_view_module": "@jupyter-widgets/controls",
            "_view_module_version": "1.5.0",
            "_view_name": "HTMLView",
            "description": "",
            "description_tooltip": null,
            "layout": "IPY_MODEL_8dad1ece36be49b982c05caea1a28775",
            "placeholder": "​",
            "style": "IPY_MODEL_536b683149bb4dcf9ea46bcb88a8bd3f",
            "value": " 5000/5000 [03:42&lt;00:00, 22.47it/s]"
          }
        },
        "991f448e960d4cc0ac5e9730d2bc7998": {
          "model_module": "@jupyter-widgets/controls",
          "model_name": "ProgressStyleModel",
          "state": {
            "_model_module": "@jupyter-widgets/controls",
            "_model_module_version": "1.5.0",
            "_model_name": "ProgressStyleModel",
            "_view_count": null,
            "_view_module": "@jupyter-widgets/base",
            "_view_module_version": "1.2.0",
            "_view_name": "StyleView",
            "bar_color": null,
            "description_width": "initial"
          }
        },
        "cadc5acfd9d946afaf2611b33232e3e0": {
          "model_module": "@jupyter-widgets/base",
          "model_name": "LayoutModel",
          "state": {
            "_model_module": "@jupyter-widgets/base",
            "_model_module_version": "1.2.0",
            "_model_name": "LayoutModel",
            "_view_count": null,
            "_view_module": "@jupyter-widgets/base",
            "_view_module_version": "1.2.0",
            "_view_name": "LayoutView",
            "align_content": null,
            "align_items": null,
            "align_self": null,
            "border": null,
            "bottom": null,
            "display": null,
            "flex": null,
            "flex_flow": null,
            "grid_area": null,
            "grid_auto_columns": null,
            "grid_auto_flow": null,
            "grid_auto_rows": null,
            "grid_column": null,
            "grid_gap": null,
            "grid_row": null,
            "grid_template_areas": null,
            "grid_template_columns": null,
            "grid_template_rows": null,
            "height": null,
            "justify_content": null,
            "justify_items": null,
            "left": null,
            "margin": null,
            "max_height": null,
            "max_width": null,
            "min_height": null,
            "min_width": null,
            "object_fit": null,
            "object_position": null,
            "order": null,
            "overflow": null,
            "overflow_x": null,
            "overflow_y": null,
            "padding": null,
            "right": null,
            "top": null,
            "visibility": null,
            "width": null
          }
        },
        "536b683149bb4dcf9ea46bcb88a8bd3f": {
          "model_module": "@jupyter-widgets/controls",
          "model_name": "DescriptionStyleModel",
          "state": {
            "_model_module": "@jupyter-widgets/controls",
            "_model_module_version": "1.5.0",
            "_model_name": "DescriptionStyleModel",
            "_view_count": null,
            "_view_module": "@jupyter-widgets/base",
            "_view_module_version": "1.2.0",
            "_view_name": "StyleView",
            "description_width": ""
          }
        },
        "8dad1ece36be49b982c05caea1a28775": {
          "model_module": "@jupyter-widgets/base",
          "model_name": "LayoutModel",
          "state": {
            "_model_module": "@jupyter-widgets/base",
            "_model_module_version": "1.2.0",
            "_model_name": "LayoutModel",
            "_view_count": null,
            "_view_module": "@jupyter-widgets/base",
            "_view_module_version": "1.2.0",
            "_view_name": "LayoutView",
            "align_content": null,
            "align_items": null,
            "align_self": null,
            "border": null,
            "bottom": null,
            "display": null,
            "flex": null,
            "flex_flow": null,
            "grid_area": null,
            "grid_auto_columns": null,
            "grid_auto_flow": null,
            "grid_auto_rows": null,
            "grid_column": null,
            "grid_gap": null,
            "grid_row": null,
            "grid_template_areas": null,
            "grid_template_columns": null,
            "grid_template_rows": null,
            "height": null,
            "justify_content": null,
            "justify_items": null,
            "left": null,
            "margin": null,
            "max_height": null,
            "max_width": null,
            "min_height": null,
            "min_width": null,
            "object_fit": null,
            "object_position": null,
            "order": null,
            "overflow": null,
            "overflow_x": null,
            "overflow_y": null,
            "padding": null,
            "right": null,
            "top": null,
            "visibility": null,
            "width": null
          }
        },
        "3b44da59746645d7b58833770a815a93": {
          "model_module": "@jupyter-widgets/controls",
          "model_name": "HBoxModel",
          "state": {
            "_dom_classes": [],
            "_model_module": "@jupyter-widgets/controls",
            "_model_module_version": "1.5.0",
            "_model_name": "HBoxModel",
            "_view_count": null,
            "_view_module": "@jupyter-widgets/controls",
            "_view_module_version": "1.5.0",
            "_view_name": "HBoxView",
            "box_style": "",
            "children": [
              "IPY_MODEL_6928704b84174827ad576c3f4b4bbd8e",
              "IPY_MODEL_3e2b0169425c429c9bec5229f0e58ae2"
            ],
            "layout": "IPY_MODEL_1f0811c3c703480daa9ddbb24f09657f"
          }
        },
        "1f0811c3c703480daa9ddbb24f09657f": {
          "model_module": "@jupyter-widgets/base",
          "model_name": "LayoutModel",
          "state": {
            "_model_module": "@jupyter-widgets/base",
            "_model_module_version": "1.2.0",
            "_model_name": "LayoutModel",
            "_view_count": null,
            "_view_module": "@jupyter-widgets/base",
            "_view_module_version": "1.2.0",
            "_view_name": "LayoutView",
            "align_content": null,
            "align_items": null,
            "align_self": null,
            "border": null,
            "bottom": null,
            "display": null,
            "flex": null,
            "flex_flow": null,
            "grid_area": null,
            "grid_auto_columns": null,
            "grid_auto_flow": null,
            "grid_auto_rows": null,
            "grid_column": null,
            "grid_gap": null,
            "grid_row": null,
            "grid_template_areas": null,
            "grid_template_columns": null,
            "grid_template_rows": null,
            "height": null,
            "justify_content": null,
            "justify_items": null,
            "left": null,
            "margin": null,
            "max_height": null,
            "max_width": null,
            "min_height": null,
            "min_width": null,
            "object_fit": null,
            "object_position": null,
            "order": null,
            "overflow": null,
            "overflow_x": null,
            "overflow_y": null,
            "padding": null,
            "right": null,
            "top": null,
            "visibility": null,
            "width": null
          }
        },
        "6928704b84174827ad576c3f4b4bbd8e": {
          "model_module": "@jupyter-widgets/controls",
          "model_name": "FloatProgressModel",
          "state": {
            "_dom_classes": [],
            "_model_module": "@jupyter-widgets/controls",
            "_model_module_version": "1.5.0",
            "_model_name": "FloatProgressModel",
            "_view_count": null,
            "_view_module": "@jupyter-widgets/controls",
            "_view_module_version": "1.5.0",
            "_view_name": "ProgressView",
            "bar_style": "danger",
            "description": "  0%",
            "description_tooltip": null,
            "layout": "IPY_MODEL_8a72272c2cb944b7a020fa29c4e3b1b5",
            "max": 5000,
            "min": 0,
            "orientation": "horizontal",
            "style": "IPY_MODEL_236ab1b525d948199e84a3173b09f939",
            "value": 0
          }
        },
        "3e2b0169425c429c9bec5229f0e58ae2": {
          "model_module": "@jupyter-widgets/controls",
          "model_name": "HTMLModel",
          "state": {
            "_dom_classes": [],
            "_model_module": "@jupyter-widgets/controls",
            "_model_module_version": "1.5.0",
            "_model_name": "HTMLModel",
            "_view_count": null,
            "_view_module": "@jupyter-widgets/controls",
            "_view_module_version": "1.5.0",
            "_view_name": "HTMLView",
            "description": "",
            "description_tooltip": null,
            "layout": "IPY_MODEL_61f5f48c407047aeae4c9097aa9b36c0",
            "placeholder": "​",
            "style": "IPY_MODEL_156a8c9020fa4d77b995a222b765404c",
            "value": " 0/5000 [00:00&lt;?, ?it/s]"
          }
        },
        "236ab1b525d948199e84a3173b09f939": {
          "model_module": "@jupyter-widgets/controls",
          "model_name": "ProgressStyleModel",
          "state": {
            "_model_module": "@jupyter-widgets/controls",
            "_model_module_version": "1.5.0",
            "_model_name": "ProgressStyleModel",
            "_view_count": null,
            "_view_module": "@jupyter-widgets/base",
            "_view_module_version": "1.2.0",
            "_view_name": "StyleView",
            "bar_color": null,
            "description_width": "initial"
          }
        },
        "8a72272c2cb944b7a020fa29c4e3b1b5": {
          "model_module": "@jupyter-widgets/base",
          "model_name": "LayoutModel",
          "state": {
            "_model_module": "@jupyter-widgets/base",
            "_model_module_version": "1.2.0",
            "_model_name": "LayoutModel",
            "_view_count": null,
            "_view_module": "@jupyter-widgets/base",
            "_view_module_version": "1.2.0",
            "_view_name": "LayoutView",
            "align_content": null,
            "align_items": null,
            "align_self": null,
            "border": null,
            "bottom": null,
            "display": null,
            "flex": null,
            "flex_flow": null,
            "grid_area": null,
            "grid_auto_columns": null,
            "grid_auto_flow": null,
            "grid_auto_rows": null,
            "grid_column": null,
            "grid_gap": null,
            "grid_row": null,
            "grid_template_areas": null,
            "grid_template_columns": null,
            "grid_template_rows": null,
            "height": null,
            "justify_content": null,
            "justify_items": null,
            "left": null,
            "margin": null,
            "max_height": null,
            "max_width": null,
            "min_height": null,
            "min_width": null,
            "object_fit": null,
            "object_position": null,
            "order": null,
            "overflow": null,
            "overflow_x": null,
            "overflow_y": null,
            "padding": null,
            "right": null,
            "top": null,
            "visibility": null,
            "width": null
          }
        },
        "156a8c9020fa4d77b995a222b765404c": {
          "model_module": "@jupyter-widgets/controls",
          "model_name": "DescriptionStyleModel",
          "state": {
            "_model_module": "@jupyter-widgets/controls",
            "_model_module_version": "1.5.0",
            "_model_name": "DescriptionStyleModel",
            "_view_count": null,
            "_view_module": "@jupyter-widgets/base",
            "_view_module_version": "1.2.0",
            "_view_name": "StyleView",
            "description_width": ""
          }
        },
        "61f5f48c407047aeae4c9097aa9b36c0": {
          "model_module": "@jupyter-widgets/base",
          "model_name": "LayoutModel",
          "state": {
            "_model_module": "@jupyter-widgets/base",
            "_model_module_version": "1.2.0",
            "_model_name": "LayoutModel",
            "_view_count": null,
            "_view_module": "@jupyter-widgets/base",
            "_view_module_version": "1.2.0",
            "_view_name": "LayoutView",
            "align_content": null,
            "align_items": null,
            "align_self": null,
            "border": null,
            "bottom": null,
            "display": null,
            "flex": null,
            "flex_flow": null,
            "grid_area": null,
            "grid_auto_columns": null,
            "grid_auto_flow": null,
            "grid_auto_rows": null,
            "grid_column": null,
            "grid_gap": null,
            "grid_row": null,
            "grid_template_areas": null,
            "grid_template_columns": null,
            "grid_template_rows": null,
            "height": null,
            "justify_content": null,
            "justify_items": null,
            "left": null,
            "margin": null,
            "max_height": null,
            "max_width": null,
            "min_height": null,
            "min_width": null,
            "object_fit": null,
            "object_position": null,
            "order": null,
            "overflow": null,
            "overflow_x": null,
            "overflow_y": null,
            "padding": null,
            "right": null,
            "top": null,
            "visibility": null,
            "width": null
          }
        },
        "d50ba7ced98f47a6b851f294d903914e": {
          "model_module": "@jupyter-widgets/controls",
          "model_name": "HBoxModel",
          "state": {
            "_dom_classes": [],
            "_model_module": "@jupyter-widgets/controls",
            "_model_module_version": "1.5.0",
            "_model_name": "HBoxModel",
            "_view_count": null,
            "_view_module": "@jupyter-widgets/controls",
            "_view_module_version": "1.5.0",
            "_view_name": "HBoxView",
            "box_style": "",
            "children": [
              "IPY_MODEL_2e53a389462041e5864db749b4f70484",
              "IPY_MODEL_53ba91507f624d9ab484b5032fe0a9d3"
            ],
            "layout": "IPY_MODEL_f795d841a4e84c768e4251b453556257"
          }
        },
        "f795d841a4e84c768e4251b453556257": {
          "model_module": "@jupyter-widgets/base",
          "model_name": "LayoutModel",
          "state": {
            "_model_module": "@jupyter-widgets/base",
            "_model_module_version": "1.2.0",
            "_model_name": "LayoutModel",
            "_view_count": null,
            "_view_module": "@jupyter-widgets/base",
            "_view_module_version": "1.2.0",
            "_view_name": "LayoutView",
            "align_content": null,
            "align_items": null,
            "align_self": null,
            "border": null,
            "bottom": null,
            "display": null,
            "flex": null,
            "flex_flow": null,
            "grid_area": null,
            "grid_auto_columns": null,
            "grid_auto_flow": null,
            "grid_auto_rows": null,
            "grid_column": null,
            "grid_gap": null,
            "grid_row": null,
            "grid_template_areas": null,
            "grid_template_columns": null,
            "grid_template_rows": null,
            "height": null,
            "justify_content": null,
            "justify_items": null,
            "left": null,
            "margin": null,
            "max_height": null,
            "max_width": null,
            "min_height": null,
            "min_width": null,
            "object_fit": null,
            "object_position": null,
            "order": null,
            "overflow": null,
            "overflow_x": null,
            "overflow_y": null,
            "padding": null,
            "right": null,
            "top": null,
            "visibility": null,
            "width": null
          }
        },
        "2e53a389462041e5864db749b4f70484": {
          "model_module": "@jupyter-widgets/controls",
          "model_name": "FloatProgressModel",
          "state": {
            "_dom_classes": [],
            "_model_module": "@jupyter-widgets/controls",
            "_model_module_version": "1.5.0",
            "_model_name": "FloatProgressModel",
            "_view_count": null,
            "_view_module": "@jupyter-widgets/controls",
            "_view_module_version": "1.5.0",
            "_view_name": "ProgressView",
            "bar_style": "success",
            "description": "100%",
            "description_tooltip": null,
            "layout": "IPY_MODEL_66d34c905cf446fea4ade2bae611cbf2",
            "max": 5000,
            "min": 0,
            "orientation": "horizontal",
            "style": "IPY_MODEL_4dc03aa8774944918f4b50191ff94f35",
            "value": 5000
          }
        },
        "53ba91507f624d9ab484b5032fe0a9d3": {
          "model_module": "@jupyter-widgets/controls",
          "model_name": "HTMLModel",
          "state": {
            "_dom_classes": [],
            "_model_module": "@jupyter-widgets/controls",
            "_model_module_version": "1.5.0",
            "_model_name": "HTMLModel",
            "_view_count": null,
            "_view_module": "@jupyter-widgets/controls",
            "_view_module_version": "1.5.0",
            "_view_name": "HTMLView",
            "description": "",
            "description_tooltip": null,
            "layout": "IPY_MODEL_daa7669511534719aa4722511f5af8a8",
            "placeholder": "​",
            "style": "IPY_MODEL_0c8b561f4b3e498cb32216627b40b6cc",
            "value": " 5000/5000 [04:11&lt;00:00, 19.88it/s]"
          }
        },
        "4dc03aa8774944918f4b50191ff94f35": {
          "model_module": "@jupyter-widgets/controls",
          "model_name": "ProgressStyleModel",
          "state": {
            "_model_module": "@jupyter-widgets/controls",
            "_model_module_version": "1.5.0",
            "_model_name": "ProgressStyleModel",
            "_view_count": null,
            "_view_module": "@jupyter-widgets/base",
            "_view_module_version": "1.2.0",
            "_view_name": "StyleView",
            "bar_color": null,
            "description_width": "initial"
          }
        },
        "66d34c905cf446fea4ade2bae611cbf2": {
          "model_module": "@jupyter-widgets/base",
          "model_name": "LayoutModel",
          "state": {
            "_model_module": "@jupyter-widgets/base",
            "_model_module_version": "1.2.0",
            "_model_name": "LayoutModel",
            "_view_count": null,
            "_view_module": "@jupyter-widgets/base",
            "_view_module_version": "1.2.0",
            "_view_name": "LayoutView",
            "align_content": null,
            "align_items": null,
            "align_self": null,
            "border": null,
            "bottom": null,
            "display": null,
            "flex": null,
            "flex_flow": null,
            "grid_area": null,
            "grid_auto_columns": null,
            "grid_auto_flow": null,
            "grid_auto_rows": null,
            "grid_column": null,
            "grid_gap": null,
            "grid_row": null,
            "grid_template_areas": null,
            "grid_template_columns": null,
            "grid_template_rows": null,
            "height": null,
            "justify_content": null,
            "justify_items": null,
            "left": null,
            "margin": null,
            "max_height": null,
            "max_width": null,
            "min_height": null,
            "min_width": null,
            "object_fit": null,
            "object_position": null,
            "order": null,
            "overflow": null,
            "overflow_x": null,
            "overflow_y": null,
            "padding": null,
            "right": null,
            "top": null,
            "visibility": null,
            "width": null
          }
        },
        "0c8b561f4b3e498cb32216627b40b6cc": {
          "model_module": "@jupyter-widgets/controls",
          "model_name": "DescriptionStyleModel",
          "state": {
            "_model_module": "@jupyter-widgets/controls",
            "_model_module_version": "1.5.0",
            "_model_name": "DescriptionStyleModel",
            "_view_count": null,
            "_view_module": "@jupyter-widgets/base",
            "_view_module_version": "1.2.0",
            "_view_name": "StyleView",
            "description_width": ""
          }
        },
        "daa7669511534719aa4722511f5af8a8": {
          "model_module": "@jupyter-widgets/base",
          "model_name": "LayoutModel",
          "state": {
            "_model_module": "@jupyter-widgets/base",
            "_model_module_version": "1.2.0",
            "_model_name": "LayoutModel",
            "_view_count": null,
            "_view_module": "@jupyter-widgets/base",
            "_view_module_version": "1.2.0",
            "_view_name": "LayoutView",
            "align_content": null,
            "align_items": null,
            "align_self": null,
            "border": null,
            "bottom": null,
            "display": null,
            "flex": null,
            "flex_flow": null,
            "grid_area": null,
            "grid_auto_columns": null,
            "grid_auto_flow": null,
            "grid_auto_rows": null,
            "grid_column": null,
            "grid_gap": null,
            "grid_row": null,
            "grid_template_areas": null,
            "grid_template_columns": null,
            "grid_template_rows": null,
            "height": null,
            "justify_content": null,
            "justify_items": null,
            "left": null,
            "margin": null,
            "max_height": null,
            "max_width": null,
            "min_height": null,
            "min_width": null,
            "object_fit": null,
            "object_position": null,
            "order": null,
            "overflow": null,
            "overflow_x": null,
            "overflow_y": null,
            "padding": null,
            "right": null,
            "top": null,
            "visibility": null,
            "width": null
          }
        },
        "c32bdc4c0b6c4b8488843447b87589ad": {
          "model_module": "@jupyter-widgets/controls",
          "model_name": "HBoxModel",
          "state": {
            "_dom_classes": [],
            "_model_module": "@jupyter-widgets/controls",
            "_model_module_version": "1.5.0",
            "_model_name": "HBoxModel",
            "_view_count": null,
            "_view_module": "@jupyter-widgets/controls",
            "_view_module_version": "1.5.0",
            "_view_name": "HBoxView",
            "box_style": "",
            "children": [
              "IPY_MODEL_7a2825e8052b405dae0e20daf1da8416",
              "IPY_MODEL_7fdd2386d5f74a8c9d49ede1d884722a"
            ],
            "layout": "IPY_MODEL_beafc888c13f47d1b0d74d03cb843b04"
          }
        },
        "beafc888c13f47d1b0d74d03cb843b04": {
          "model_module": "@jupyter-widgets/base",
          "model_name": "LayoutModel",
          "state": {
            "_model_module": "@jupyter-widgets/base",
            "_model_module_version": "1.2.0",
            "_model_name": "LayoutModel",
            "_view_count": null,
            "_view_module": "@jupyter-widgets/base",
            "_view_module_version": "1.2.0",
            "_view_name": "LayoutView",
            "align_content": null,
            "align_items": null,
            "align_self": null,
            "border": null,
            "bottom": null,
            "display": null,
            "flex": null,
            "flex_flow": null,
            "grid_area": null,
            "grid_auto_columns": null,
            "grid_auto_flow": null,
            "grid_auto_rows": null,
            "grid_column": null,
            "grid_gap": null,
            "grid_row": null,
            "grid_template_areas": null,
            "grid_template_columns": null,
            "grid_template_rows": null,
            "height": null,
            "justify_content": null,
            "justify_items": null,
            "left": null,
            "margin": null,
            "max_height": null,
            "max_width": null,
            "min_height": null,
            "min_width": null,
            "object_fit": null,
            "object_position": null,
            "order": null,
            "overflow": null,
            "overflow_x": null,
            "overflow_y": null,
            "padding": null,
            "right": null,
            "top": null,
            "visibility": null,
            "width": null
          }
        },
        "7a2825e8052b405dae0e20daf1da8416": {
          "model_module": "@jupyter-widgets/controls",
          "model_name": "FloatProgressModel",
          "state": {
            "_dom_classes": [],
            "_model_module": "@jupyter-widgets/controls",
            "_model_module_version": "1.5.0",
            "_model_name": "FloatProgressModel",
            "_view_count": null,
            "_view_module": "@jupyter-widgets/controls",
            "_view_module_version": "1.5.0",
            "_view_name": "ProgressView",
            "bar_style": "success",
            "description": "100%",
            "description_tooltip": null,
            "layout": "IPY_MODEL_18ffb077a0d04fbfbcbf9aec97e0ba35",
            "max": 5000,
            "min": 0,
            "orientation": "horizontal",
            "style": "IPY_MODEL_fb2f9e1788f741a894b9c2c06700dc6e",
            "value": 5000
          }
        },
        "7fdd2386d5f74a8c9d49ede1d884722a": {
          "model_module": "@jupyter-widgets/controls",
          "model_name": "HTMLModel",
          "state": {
            "_dom_classes": [],
            "_model_module": "@jupyter-widgets/controls",
            "_model_module_version": "1.5.0",
            "_model_name": "HTMLModel",
            "_view_count": null,
            "_view_module": "@jupyter-widgets/controls",
            "_view_module_version": "1.5.0",
            "_view_name": "HTMLView",
            "description": "",
            "description_tooltip": null,
            "layout": "IPY_MODEL_7b3c69479c344389a26e5b2b33dfcbc9",
            "placeholder": "​",
            "style": "IPY_MODEL_c44daf4574ba4d5698621b30b1727356",
            "value": " 5000/5000 [03:59&lt;00:00, 20.86it/s]"
          }
        },
        "fb2f9e1788f741a894b9c2c06700dc6e": {
          "model_module": "@jupyter-widgets/controls",
          "model_name": "ProgressStyleModel",
          "state": {
            "_model_module": "@jupyter-widgets/controls",
            "_model_module_version": "1.5.0",
            "_model_name": "ProgressStyleModel",
            "_view_count": null,
            "_view_module": "@jupyter-widgets/base",
            "_view_module_version": "1.2.0",
            "_view_name": "StyleView",
            "bar_color": null,
            "description_width": "initial"
          }
        },
        "18ffb077a0d04fbfbcbf9aec97e0ba35": {
          "model_module": "@jupyter-widgets/base",
          "model_name": "LayoutModel",
          "state": {
            "_model_module": "@jupyter-widgets/base",
            "_model_module_version": "1.2.0",
            "_model_name": "LayoutModel",
            "_view_count": null,
            "_view_module": "@jupyter-widgets/base",
            "_view_module_version": "1.2.0",
            "_view_name": "LayoutView",
            "align_content": null,
            "align_items": null,
            "align_self": null,
            "border": null,
            "bottom": null,
            "display": null,
            "flex": null,
            "flex_flow": null,
            "grid_area": null,
            "grid_auto_columns": null,
            "grid_auto_flow": null,
            "grid_auto_rows": null,
            "grid_column": null,
            "grid_gap": null,
            "grid_row": null,
            "grid_template_areas": null,
            "grid_template_columns": null,
            "grid_template_rows": null,
            "height": null,
            "justify_content": null,
            "justify_items": null,
            "left": null,
            "margin": null,
            "max_height": null,
            "max_width": null,
            "min_height": null,
            "min_width": null,
            "object_fit": null,
            "object_position": null,
            "order": null,
            "overflow": null,
            "overflow_x": null,
            "overflow_y": null,
            "padding": null,
            "right": null,
            "top": null,
            "visibility": null,
            "width": null
          }
        },
        "c44daf4574ba4d5698621b30b1727356": {
          "model_module": "@jupyter-widgets/controls",
          "model_name": "DescriptionStyleModel",
          "state": {
            "_model_module": "@jupyter-widgets/controls",
            "_model_module_version": "1.5.0",
            "_model_name": "DescriptionStyleModel",
            "_view_count": null,
            "_view_module": "@jupyter-widgets/base",
            "_view_module_version": "1.2.0",
            "_view_name": "StyleView",
            "description_width": ""
          }
        },
        "7b3c69479c344389a26e5b2b33dfcbc9": {
          "model_module": "@jupyter-widgets/base",
          "model_name": "LayoutModel",
          "state": {
            "_model_module": "@jupyter-widgets/base",
            "_model_module_version": "1.2.0",
            "_model_name": "LayoutModel",
            "_view_count": null,
            "_view_module": "@jupyter-widgets/base",
            "_view_module_version": "1.2.0",
            "_view_name": "LayoutView",
            "align_content": null,
            "align_items": null,
            "align_self": null,
            "border": null,
            "bottom": null,
            "display": null,
            "flex": null,
            "flex_flow": null,
            "grid_area": null,
            "grid_auto_columns": null,
            "grid_auto_flow": null,
            "grid_auto_rows": null,
            "grid_column": null,
            "grid_gap": null,
            "grid_row": null,
            "grid_template_areas": null,
            "grid_template_columns": null,
            "grid_template_rows": null,
            "height": null,
            "justify_content": null,
            "justify_items": null,
            "left": null,
            "margin": null,
            "max_height": null,
            "max_width": null,
            "min_height": null,
            "min_width": null,
            "object_fit": null,
            "object_position": null,
            "order": null,
            "overflow": null,
            "overflow_x": null,
            "overflow_y": null,
            "padding": null,
            "right": null,
            "top": null,
            "visibility": null,
            "width": null
          }
        },
        "068029c1d39341b7914fb4650134c5a2": {
          "model_module": "@jupyter-widgets/controls",
          "model_name": "HBoxModel",
          "state": {
            "_dom_classes": [],
            "_model_module": "@jupyter-widgets/controls",
            "_model_module_version": "1.5.0",
            "_model_name": "HBoxModel",
            "_view_count": null,
            "_view_module": "@jupyter-widgets/controls",
            "_view_module_version": "1.5.0",
            "_view_name": "HBoxView",
            "box_style": "",
            "children": [
              "IPY_MODEL_9f735489abf74fef9293c0de9f7a1742",
              "IPY_MODEL_55c50897d868451b80cb8718ccbf9e46"
            ],
            "layout": "IPY_MODEL_ef9a94b6a33447fab2b5414c4635848a"
          }
        },
        "ef9a94b6a33447fab2b5414c4635848a": {
          "model_module": "@jupyter-widgets/base",
          "model_name": "LayoutModel",
          "state": {
            "_model_module": "@jupyter-widgets/base",
            "_model_module_version": "1.2.0",
            "_model_name": "LayoutModel",
            "_view_count": null,
            "_view_module": "@jupyter-widgets/base",
            "_view_module_version": "1.2.0",
            "_view_name": "LayoutView",
            "align_content": null,
            "align_items": null,
            "align_self": null,
            "border": null,
            "bottom": null,
            "display": null,
            "flex": null,
            "flex_flow": null,
            "grid_area": null,
            "grid_auto_columns": null,
            "grid_auto_flow": null,
            "grid_auto_rows": null,
            "grid_column": null,
            "grid_gap": null,
            "grid_row": null,
            "grid_template_areas": null,
            "grid_template_columns": null,
            "grid_template_rows": null,
            "height": null,
            "justify_content": null,
            "justify_items": null,
            "left": null,
            "margin": null,
            "max_height": null,
            "max_width": null,
            "min_height": null,
            "min_width": null,
            "object_fit": null,
            "object_position": null,
            "order": null,
            "overflow": null,
            "overflow_x": null,
            "overflow_y": null,
            "padding": null,
            "right": null,
            "top": null,
            "visibility": null,
            "width": null
          }
        },
        "9f735489abf74fef9293c0de9f7a1742": {
          "model_module": "@jupyter-widgets/controls",
          "model_name": "FloatProgressModel",
          "state": {
            "_dom_classes": [],
            "_model_module": "@jupyter-widgets/controls",
            "_model_module_version": "1.5.0",
            "_model_name": "FloatProgressModel",
            "_view_count": null,
            "_view_module": "@jupyter-widgets/controls",
            "_view_module_version": "1.5.0",
            "_view_name": "ProgressView",
            "bar_style": "success",
            "description": "100%",
            "description_tooltip": null,
            "layout": "IPY_MODEL_469ce428a4d14c21a9861761b8366597",
            "max": 5000,
            "min": 0,
            "orientation": "horizontal",
            "style": "IPY_MODEL_fc69e08dfb314dc8946937853250ad04",
            "value": 5000
          }
        },
        "55c50897d868451b80cb8718ccbf9e46": {
          "model_module": "@jupyter-widgets/controls",
          "model_name": "HTMLModel",
          "state": {
            "_dom_classes": [],
            "_model_module": "@jupyter-widgets/controls",
            "_model_module_version": "1.5.0",
            "_model_name": "HTMLModel",
            "_view_count": null,
            "_view_module": "@jupyter-widgets/controls",
            "_view_module_version": "1.5.0",
            "_view_name": "HTMLView",
            "description": "",
            "description_tooltip": null,
            "layout": "IPY_MODEL_8e34a1add25c4835815d42a35f79730d",
            "placeholder": "​",
            "style": "IPY_MODEL_a459edbeb4984a1a8f248726e48498d0",
            "value": " 5000/5000 [03:50&lt;00:00, 21.71it/s]"
          }
        },
        "fc69e08dfb314dc8946937853250ad04": {
          "model_module": "@jupyter-widgets/controls",
          "model_name": "ProgressStyleModel",
          "state": {
            "_model_module": "@jupyter-widgets/controls",
            "_model_module_version": "1.5.0",
            "_model_name": "ProgressStyleModel",
            "_view_count": null,
            "_view_module": "@jupyter-widgets/base",
            "_view_module_version": "1.2.0",
            "_view_name": "StyleView",
            "bar_color": null,
            "description_width": "initial"
          }
        },
        "469ce428a4d14c21a9861761b8366597": {
          "model_module": "@jupyter-widgets/base",
          "model_name": "LayoutModel",
          "state": {
            "_model_module": "@jupyter-widgets/base",
            "_model_module_version": "1.2.0",
            "_model_name": "LayoutModel",
            "_view_count": null,
            "_view_module": "@jupyter-widgets/base",
            "_view_module_version": "1.2.0",
            "_view_name": "LayoutView",
            "align_content": null,
            "align_items": null,
            "align_self": null,
            "border": null,
            "bottom": null,
            "display": null,
            "flex": null,
            "flex_flow": null,
            "grid_area": null,
            "grid_auto_columns": null,
            "grid_auto_flow": null,
            "grid_auto_rows": null,
            "grid_column": null,
            "grid_gap": null,
            "grid_row": null,
            "grid_template_areas": null,
            "grid_template_columns": null,
            "grid_template_rows": null,
            "height": null,
            "justify_content": null,
            "justify_items": null,
            "left": null,
            "margin": null,
            "max_height": null,
            "max_width": null,
            "min_height": null,
            "min_width": null,
            "object_fit": null,
            "object_position": null,
            "order": null,
            "overflow": null,
            "overflow_x": null,
            "overflow_y": null,
            "padding": null,
            "right": null,
            "top": null,
            "visibility": null,
            "width": null
          }
        },
        "a459edbeb4984a1a8f248726e48498d0": {
          "model_module": "@jupyter-widgets/controls",
          "model_name": "DescriptionStyleModel",
          "state": {
            "_model_module": "@jupyter-widgets/controls",
            "_model_module_version": "1.5.0",
            "_model_name": "DescriptionStyleModel",
            "_view_count": null,
            "_view_module": "@jupyter-widgets/base",
            "_view_module_version": "1.2.0",
            "_view_name": "StyleView",
            "description_width": ""
          }
        },
        "8e34a1add25c4835815d42a35f79730d": {
          "model_module": "@jupyter-widgets/base",
          "model_name": "LayoutModel",
          "state": {
            "_model_module": "@jupyter-widgets/base",
            "_model_module_version": "1.2.0",
            "_model_name": "LayoutModel",
            "_view_count": null,
            "_view_module": "@jupyter-widgets/base",
            "_view_module_version": "1.2.0",
            "_view_name": "LayoutView",
            "align_content": null,
            "align_items": null,
            "align_self": null,
            "border": null,
            "bottom": null,
            "display": null,
            "flex": null,
            "flex_flow": null,
            "grid_area": null,
            "grid_auto_columns": null,
            "grid_auto_flow": null,
            "grid_auto_rows": null,
            "grid_column": null,
            "grid_gap": null,
            "grid_row": null,
            "grid_template_areas": null,
            "grid_template_columns": null,
            "grid_template_rows": null,
            "height": null,
            "justify_content": null,
            "justify_items": null,
            "left": null,
            "margin": null,
            "max_height": null,
            "max_width": null,
            "min_height": null,
            "min_width": null,
            "object_fit": null,
            "object_position": null,
            "order": null,
            "overflow": null,
            "overflow_x": null,
            "overflow_y": null,
            "padding": null,
            "right": null,
            "top": null,
            "visibility": null,
            "width": null
          }
        },
        "316f280dfb154adb8d799cf45bdf2c64": {
          "model_module": "@jupyter-widgets/controls",
          "model_name": "HBoxModel",
          "state": {
            "_dom_classes": [],
            "_model_module": "@jupyter-widgets/controls",
            "_model_module_version": "1.5.0",
            "_model_name": "HBoxModel",
            "_view_count": null,
            "_view_module": "@jupyter-widgets/controls",
            "_view_module_version": "1.5.0",
            "_view_name": "HBoxView",
            "box_style": "",
            "children": [
              "IPY_MODEL_3063a0095bfd41568799946271126111",
              "IPY_MODEL_72f8821a4fb14774a3337c102ff72c0c"
            ],
            "layout": "IPY_MODEL_5696c65c47f44c6a8bef5d5550541b33"
          }
        },
        "5696c65c47f44c6a8bef5d5550541b33": {
          "model_module": "@jupyter-widgets/base",
          "model_name": "LayoutModel",
          "state": {
            "_model_module": "@jupyter-widgets/base",
            "_model_module_version": "1.2.0",
            "_model_name": "LayoutModel",
            "_view_count": null,
            "_view_module": "@jupyter-widgets/base",
            "_view_module_version": "1.2.0",
            "_view_name": "LayoutView",
            "align_content": null,
            "align_items": null,
            "align_self": null,
            "border": null,
            "bottom": null,
            "display": null,
            "flex": null,
            "flex_flow": null,
            "grid_area": null,
            "grid_auto_columns": null,
            "grid_auto_flow": null,
            "grid_auto_rows": null,
            "grid_column": null,
            "grid_gap": null,
            "grid_row": null,
            "grid_template_areas": null,
            "grid_template_columns": null,
            "grid_template_rows": null,
            "height": null,
            "justify_content": null,
            "justify_items": null,
            "left": null,
            "margin": null,
            "max_height": null,
            "max_width": null,
            "min_height": null,
            "min_width": null,
            "object_fit": null,
            "object_position": null,
            "order": null,
            "overflow": null,
            "overflow_x": null,
            "overflow_y": null,
            "padding": null,
            "right": null,
            "top": null,
            "visibility": null,
            "width": null
          }
        },
        "3063a0095bfd41568799946271126111": {
          "model_module": "@jupyter-widgets/controls",
          "model_name": "FloatProgressModel",
          "state": {
            "_dom_classes": [],
            "_model_module": "@jupyter-widgets/controls",
            "_model_module_version": "1.5.0",
            "_model_name": "FloatProgressModel",
            "_view_count": null,
            "_view_module": "@jupyter-widgets/controls",
            "_view_module_version": "1.5.0",
            "_view_name": "ProgressView",
            "bar_style": "success",
            "description": "100%",
            "description_tooltip": null,
            "layout": "IPY_MODEL_d06b44da0de940ef86cf6801f5c46dfe",
            "max": 5000,
            "min": 0,
            "orientation": "horizontal",
            "style": "IPY_MODEL_96f6665f411d44278cc39b10428262eb",
            "value": 5000
          }
        },
        "72f8821a4fb14774a3337c102ff72c0c": {
          "model_module": "@jupyter-widgets/controls",
          "model_name": "HTMLModel",
          "state": {
            "_dom_classes": [],
            "_model_module": "@jupyter-widgets/controls",
            "_model_module_version": "1.5.0",
            "_model_name": "HTMLModel",
            "_view_count": null,
            "_view_module": "@jupyter-widgets/controls",
            "_view_module_version": "1.5.0",
            "_view_name": "HTMLView",
            "description": "",
            "description_tooltip": null,
            "layout": "IPY_MODEL_c409ea4bd4704edf992bb3eb77e32045",
            "placeholder": "​",
            "style": "IPY_MODEL_3e50ca1c158f400f9b107053f9d7eac9",
            "value": " 5000/5000 [03:41&lt;00:00, 22.59it/s]"
          }
        },
        "96f6665f411d44278cc39b10428262eb": {
          "model_module": "@jupyter-widgets/controls",
          "model_name": "ProgressStyleModel",
          "state": {
            "_model_module": "@jupyter-widgets/controls",
            "_model_module_version": "1.5.0",
            "_model_name": "ProgressStyleModel",
            "_view_count": null,
            "_view_module": "@jupyter-widgets/base",
            "_view_module_version": "1.2.0",
            "_view_name": "StyleView",
            "bar_color": null,
            "description_width": "initial"
          }
        },
        "d06b44da0de940ef86cf6801f5c46dfe": {
          "model_module": "@jupyter-widgets/base",
          "model_name": "LayoutModel",
          "state": {
            "_model_module": "@jupyter-widgets/base",
            "_model_module_version": "1.2.0",
            "_model_name": "LayoutModel",
            "_view_count": null,
            "_view_module": "@jupyter-widgets/base",
            "_view_module_version": "1.2.0",
            "_view_name": "LayoutView",
            "align_content": null,
            "align_items": null,
            "align_self": null,
            "border": null,
            "bottom": null,
            "display": null,
            "flex": null,
            "flex_flow": null,
            "grid_area": null,
            "grid_auto_columns": null,
            "grid_auto_flow": null,
            "grid_auto_rows": null,
            "grid_column": null,
            "grid_gap": null,
            "grid_row": null,
            "grid_template_areas": null,
            "grid_template_columns": null,
            "grid_template_rows": null,
            "height": null,
            "justify_content": null,
            "justify_items": null,
            "left": null,
            "margin": null,
            "max_height": null,
            "max_width": null,
            "min_height": null,
            "min_width": null,
            "object_fit": null,
            "object_position": null,
            "order": null,
            "overflow": null,
            "overflow_x": null,
            "overflow_y": null,
            "padding": null,
            "right": null,
            "top": null,
            "visibility": null,
            "width": null
          }
        },
        "3e50ca1c158f400f9b107053f9d7eac9": {
          "model_module": "@jupyter-widgets/controls",
          "model_name": "DescriptionStyleModel",
          "state": {
            "_model_module": "@jupyter-widgets/controls",
            "_model_module_version": "1.5.0",
            "_model_name": "DescriptionStyleModel",
            "_view_count": null,
            "_view_module": "@jupyter-widgets/base",
            "_view_module_version": "1.2.0",
            "_view_name": "StyleView",
            "description_width": ""
          }
        },
        "c409ea4bd4704edf992bb3eb77e32045": {
          "model_module": "@jupyter-widgets/base",
          "model_name": "LayoutModel",
          "state": {
            "_model_module": "@jupyter-widgets/base",
            "_model_module_version": "1.2.0",
            "_model_name": "LayoutModel",
            "_view_count": null,
            "_view_module": "@jupyter-widgets/base",
            "_view_module_version": "1.2.0",
            "_view_name": "LayoutView",
            "align_content": null,
            "align_items": null,
            "align_self": null,
            "border": null,
            "bottom": null,
            "display": null,
            "flex": null,
            "flex_flow": null,
            "grid_area": null,
            "grid_auto_columns": null,
            "grid_auto_flow": null,
            "grid_auto_rows": null,
            "grid_column": null,
            "grid_gap": null,
            "grid_row": null,
            "grid_template_areas": null,
            "grid_template_columns": null,
            "grid_template_rows": null,
            "height": null,
            "justify_content": null,
            "justify_items": null,
            "left": null,
            "margin": null,
            "max_height": null,
            "max_width": null,
            "min_height": null,
            "min_width": null,
            "object_fit": null,
            "object_position": null,
            "order": null,
            "overflow": null,
            "overflow_x": null,
            "overflow_y": null,
            "padding": null,
            "right": null,
            "top": null,
            "visibility": null,
            "width": null
          }
        },
        "471dc90a3b724ea997fc2e8f7951d106": {
          "model_module": "@jupyter-widgets/controls",
          "model_name": "HBoxModel",
          "state": {
            "_dom_classes": [],
            "_model_module": "@jupyter-widgets/controls",
            "_model_module_version": "1.5.0",
            "_model_name": "HBoxModel",
            "_view_count": null,
            "_view_module": "@jupyter-widgets/controls",
            "_view_module_version": "1.5.0",
            "_view_name": "HBoxView",
            "box_style": "",
            "children": [
              "IPY_MODEL_fcc0de14804640d99fbad6b700307ad1",
              "IPY_MODEL_49b8624541e54a3c8a476deaa02510ab"
            ],
            "layout": "IPY_MODEL_00d6cd0787634658bbef568acfbc6ff9"
          }
        },
        "00d6cd0787634658bbef568acfbc6ff9": {
          "model_module": "@jupyter-widgets/base",
          "model_name": "LayoutModel",
          "state": {
            "_model_module": "@jupyter-widgets/base",
            "_model_module_version": "1.2.0",
            "_model_name": "LayoutModel",
            "_view_count": null,
            "_view_module": "@jupyter-widgets/base",
            "_view_module_version": "1.2.0",
            "_view_name": "LayoutView",
            "align_content": null,
            "align_items": null,
            "align_self": null,
            "border": null,
            "bottom": null,
            "display": null,
            "flex": null,
            "flex_flow": null,
            "grid_area": null,
            "grid_auto_columns": null,
            "grid_auto_flow": null,
            "grid_auto_rows": null,
            "grid_column": null,
            "grid_gap": null,
            "grid_row": null,
            "grid_template_areas": null,
            "grid_template_columns": null,
            "grid_template_rows": null,
            "height": null,
            "justify_content": null,
            "justify_items": null,
            "left": null,
            "margin": null,
            "max_height": null,
            "max_width": null,
            "min_height": null,
            "min_width": null,
            "object_fit": null,
            "object_position": null,
            "order": null,
            "overflow": null,
            "overflow_x": null,
            "overflow_y": null,
            "padding": null,
            "right": null,
            "top": null,
            "visibility": null,
            "width": null
          }
        },
        "fcc0de14804640d99fbad6b700307ad1": {
          "model_module": "@jupyter-widgets/controls",
          "model_name": "FloatProgressModel",
          "state": {
            "_dom_classes": [],
            "_model_module": "@jupyter-widgets/controls",
            "_model_module_version": "1.5.0",
            "_model_name": "FloatProgressModel",
            "_view_count": null,
            "_view_module": "@jupyter-widgets/controls",
            "_view_module_version": "1.5.0",
            "_view_name": "ProgressView",
            "bar_style": "success",
            "description": "100%",
            "description_tooltip": null,
            "layout": "IPY_MODEL_bfa56faf8c2447edba6edcedb765cb41",
            "max": 5000,
            "min": 0,
            "orientation": "horizontal",
            "style": "IPY_MODEL_43e99313e7be4efdb7ac978274f579ea",
            "value": 5000
          }
        },
        "49b8624541e54a3c8a476deaa02510ab": {
          "model_module": "@jupyter-widgets/controls",
          "model_name": "HTMLModel",
          "state": {
            "_dom_classes": [],
            "_model_module": "@jupyter-widgets/controls",
            "_model_module_version": "1.5.0",
            "_model_name": "HTMLModel",
            "_view_count": null,
            "_view_module": "@jupyter-widgets/controls",
            "_view_module_version": "1.5.0",
            "_view_name": "HTMLView",
            "description": "",
            "description_tooltip": null,
            "layout": "IPY_MODEL_2aa77e42c7254c4e964a2aac2aa73acb",
            "placeholder": "​",
            "style": "IPY_MODEL_4ad5a75cf8034de1a2dd92fe5393f723",
            "value": " 5000/5000 [04:13&lt;00:00, 19.69it/s]"
          }
        },
        "43e99313e7be4efdb7ac978274f579ea": {
          "model_module": "@jupyter-widgets/controls",
          "model_name": "ProgressStyleModel",
          "state": {
            "_model_module": "@jupyter-widgets/controls",
            "_model_module_version": "1.5.0",
            "_model_name": "ProgressStyleModel",
            "_view_count": null,
            "_view_module": "@jupyter-widgets/base",
            "_view_module_version": "1.2.0",
            "_view_name": "StyleView",
            "bar_color": null,
            "description_width": "initial"
          }
        },
        "bfa56faf8c2447edba6edcedb765cb41": {
          "model_module": "@jupyter-widgets/base",
          "model_name": "LayoutModel",
          "state": {
            "_model_module": "@jupyter-widgets/base",
            "_model_module_version": "1.2.0",
            "_model_name": "LayoutModel",
            "_view_count": null,
            "_view_module": "@jupyter-widgets/base",
            "_view_module_version": "1.2.0",
            "_view_name": "LayoutView",
            "align_content": null,
            "align_items": null,
            "align_self": null,
            "border": null,
            "bottom": null,
            "display": null,
            "flex": null,
            "flex_flow": null,
            "grid_area": null,
            "grid_auto_columns": null,
            "grid_auto_flow": null,
            "grid_auto_rows": null,
            "grid_column": null,
            "grid_gap": null,
            "grid_row": null,
            "grid_template_areas": null,
            "grid_template_columns": null,
            "grid_template_rows": null,
            "height": null,
            "justify_content": null,
            "justify_items": null,
            "left": null,
            "margin": null,
            "max_height": null,
            "max_width": null,
            "min_height": null,
            "min_width": null,
            "object_fit": null,
            "object_position": null,
            "order": null,
            "overflow": null,
            "overflow_x": null,
            "overflow_y": null,
            "padding": null,
            "right": null,
            "top": null,
            "visibility": null,
            "width": null
          }
        },
        "4ad5a75cf8034de1a2dd92fe5393f723": {
          "model_module": "@jupyter-widgets/controls",
          "model_name": "DescriptionStyleModel",
          "state": {
            "_model_module": "@jupyter-widgets/controls",
            "_model_module_version": "1.5.0",
            "_model_name": "DescriptionStyleModel",
            "_view_count": null,
            "_view_module": "@jupyter-widgets/base",
            "_view_module_version": "1.2.0",
            "_view_name": "StyleView",
            "description_width": ""
          }
        },
        "2aa77e42c7254c4e964a2aac2aa73acb": {
          "model_module": "@jupyter-widgets/base",
          "model_name": "LayoutModel",
          "state": {
            "_model_module": "@jupyter-widgets/base",
            "_model_module_version": "1.2.0",
            "_model_name": "LayoutModel",
            "_view_count": null,
            "_view_module": "@jupyter-widgets/base",
            "_view_module_version": "1.2.0",
            "_view_name": "LayoutView",
            "align_content": null,
            "align_items": null,
            "align_self": null,
            "border": null,
            "bottom": null,
            "display": null,
            "flex": null,
            "flex_flow": null,
            "grid_area": null,
            "grid_auto_columns": null,
            "grid_auto_flow": null,
            "grid_auto_rows": null,
            "grid_column": null,
            "grid_gap": null,
            "grid_row": null,
            "grid_template_areas": null,
            "grid_template_columns": null,
            "grid_template_rows": null,
            "height": null,
            "justify_content": null,
            "justify_items": null,
            "left": null,
            "margin": null,
            "max_height": null,
            "max_width": null,
            "min_height": null,
            "min_width": null,
            "object_fit": null,
            "object_position": null,
            "order": null,
            "overflow": null,
            "overflow_x": null,
            "overflow_y": null,
            "padding": null,
            "right": null,
            "top": null,
            "visibility": null,
            "width": null
          }
        },
        "bb820b93ee6a490f97d4c22c6bda9499": {
          "model_module": "@jupyter-widgets/controls",
          "model_name": "HBoxModel",
          "state": {
            "_dom_classes": [],
            "_model_module": "@jupyter-widgets/controls",
            "_model_module_version": "1.5.0",
            "_model_name": "HBoxModel",
            "_view_count": null,
            "_view_module": "@jupyter-widgets/controls",
            "_view_module_version": "1.5.0",
            "_view_name": "HBoxView",
            "box_style": "",
            "children": [
              "IPY_MODEL_fc22554f134f4bf1bed3b89969effb8d",
              "IPY_MODEL_b8734a8b240b4d65a18c544052f3e6ac"
            ],
            "layout": "IPY_MODEL_55d5ae1bad29416a944562fe4cd9a89d"
          }
        },
        "55d5ae1bad29416a944562fe4cd9a89d": {
          "model_module": "@jupyter-widgets/base",
          "model_name": "LayoutModel",
          "state": {
            "_model_module": "@jupyter-widgets/base",
            "_model_module_version": "1.2.0",
            "_model_name": "LayoutModel",
            "_view_count": null,
            "_view_module": "@jupyter-widgets/base",
            "_view_module_version": "1.2.0",
            "_view_name": "LayoutView",
            "align_content": null,
            "align_items": null,
            "align_self": null,
            "border": null,
            "bottom": null,
            "display": null,
            "flex": null,
            "flex_flow": null,
            "grid_area": null,
            "grid_auto_columns": null,
            "grid_auto_flow": null,
            "grid_auto_rows": null,
            "grid_column": null,
            "grid_gap": null,
            "grid_row": null,
            "grid_template_areas": null,
            "grid_template_columns": null,
            "grid_template_rows": null,
            "height": null,
            "justify_content": null,
            "justify_items": null,
            "left": null,
            "margin": null,
            "max_height": null,
            "max_width": null,
            "min_height": null,
            "min_width": null,
            "object_fit": null,
            "object_position": null,
            "order": null,
            "overflow": null,
            "overflow_x": null,
            "overflow_y": null,
            "padding": null,
            "right": null,
            "top": null,
            "visibility": null,
            "width": null
          }
        },
        "fc22554f134f4bf1bed3b89969effb8d": {
          "model_module": "@jupyter-widgets/controls",
          "model_name": "FloatProgressModel",
          "state": {
            "_dom_classes": [],
            "_model_module": "@jupyter-widgets/controls",
            "_model_module_version": "1.5.0",
            "_model_name": "FloatProgressModel",
            "_view_count": null,
            "_view_module": "@jupyter-widgets/controls",
            "_view_module_version": "1.5.0",
            "_view_name": "ProgressView",
            "bar_style": "success",
            "description": "100%",
            "description_tooltip": null,
            "layout": "IPY_MODEL_d627c7da6dd5410a953b2754d91bdbd9",
            "max": 5000,
            "min": 0,
            "orientation": "horizontal",
            "style": "IPY_MODEL_11100458683a495c9fc3865c75d9eb31",
            "value": 5000
          }
        },
        "b8734a8b240b4d65a18c544052f3e6ac": {
          "model_module": "@jupyter-widgets/controls",
          "model_name": "HTMLModel",
          "state": {
            "_dom_classes": [],
            "_model_module": "@jupyter-widgets/controls",
            "_model_module_version": "1.5.0",
            "_model_name": "HTMLModel",
            "_view_count": null,
            "_view_module": "@jupyter-widgets/controls",
            "_view_module_version": "1.5.0",
            "_view_name": "HTMLView",
            "description": "",
            "description_tooltip": null,
            "layout": "IPY_MODEL_c70fd98f414e42e2914847a753579a62",
            "placeholder": "​",
            "style": "IPY_MODEL_4df933d29f28456b86415e940306df80",
            "value": " 5000/5000 [04:04&lt;00:00, 20.49it/s]"
          }
        },
        "11100458683a495c9fc3865c75d9eb31": {
          "model_module": "@jupyter-widgets/controls",
          "model_name": "ProgressStyleModel",
          "state": {
            "_model_module": "@jupyter-widgets/controls",
            "_model_module_version": "1.5.0",
            "_model_name": "ProgressStyleModel",
            "_view_count": null,
            "_view_module": "@jupyter-widgets/base",
            "_view_module_version": "1.2.0",
            "_view_name": "StyleView",
            "bar_color": null,
            "description_width": "initial"
          }
        },
        "d627c7da6dd5410a953b2754d91bdbd9": {
          "model_module": "@jupyter-widgets/base",
          "model_name": "LayoutModel",
          "state": {
            "_model_module": "@jupyter-widgets/base",
            "_model_module_version": "1.2.0",
            "_model_name": "LayoutModel",
            "_view_count": null,
            "_view_module": "@jupyter-widgets/base",
            "_view_module_version": "1.2.0",
            "_view_name": "LayoutView",
            "align_content": null,
            "align_items": null,
            "align_self": null,
            "border": null,
            "bottom": null,
            "display": null,
            "flex": null,
            "flex_flow": null,
            "grid_area": null,
            "grid_auto_columns": null,
            "grid_auto_flow": null,
            "grid_auto_rows": null,
            "grid_column": null,
            "grid_gap": null,
            "grid_row": null,
            "grid_template_areas": null,
            "grid_template_columns": null,
            "grid_template_rows": null,
            "height": null,
            "justify_content": null,
            "justify_items": null,
            "left": null,
            "margin": null,
            "max_height": null,
            "max_width": null,
            "min_height": null,
            "min_width": null,
            "object_fit": null,
            "object_position": null,
            "order": null,
            "overflow": null,
            "overflow_x": null,
            "overflow_y": null,
            "padding": null,
            "right": null,
            "top": null,
            "visibility": null,
            "width": null
          }
        },
        "4df933d29f28456b86415e940306df80": {
          "model_module": "@jupyter-widgets/controls",
          "model_name": "DescriptionStyleModel",
          "state": {
            "_model_module": "@jupyter-widgets/controls",
            "_model_module_version": "1.5.0",
            "_model_name": "DescriptionStyleModel",
            "_view_count": null,
            "_view_module": "@jupyter-widgets/base",
            "_view_module_version": "1.2.0",
            "_view_name": "StyleView",
            "description_width": ""
          }
        },
        "c70fd98f414e42e2914847a753579a62": {
          "model_module": "@jupyter-widgets/base",
          "model_name": "LayoutModel",
          "state": {
            "_model_module": "@jupyter-widgets/base",
            "_model_module_version": "1.2.0",
            "_model_name": "LayoutModel",
            "_view_count": null,
            "_view_module": "@jupyter-widgets/base",
            "_view_module_version": "1.2.0",
            "_view_name": "LayoutView",
            "align_content": null,
            "align_items": null,
            "align_self": null,
            "border": null,
            "bottom": null,
            "display": null,
            "flex": null,
            "flex_flow": null,
            "grid_area": null,
            "grid_auto_columns": null,
            "grid_auto_flow": null,
            "grid_auto_rows": null,
            "grid_column": null,
            "grid_gap": null,
            "grid_row": null,
            "grid_template_areas": null,
            "grid_template_columns": null,
            "grid_template_rows": null,
            "height": null,
            "justify_content": null,
            "justify_items": null,
            "left": null,
            "margin": null,
            "max_height": null,
            "max_width": null,
            "min_height": null,
            "min_width": null,
            "object_fit": null,
            "object_position": null,
            "order": null,
            "overflow": null,
            "overflow_x": null,
            "overflow_y": null,
            "padding": null,
            "right": null,
            "top": null,
            "visibility": null,
            "width": null
          }
        },
        "7ecd06d3a355457687ffe913f65fee91": {
          "model_module": "@jupyter-widgets/controls",
          "model_name": "HBoxModel",
          "state": {
            "_dom_classes": [],
            "_model_module": "@jupyter-widgets/controls",
            "_model_module_version": "1.5.0",
            "_model_name": "HBoxModel",
            "_view_count": null,
            "_view_module": "@jupyter-widgets/controls",
            "_view_module_version": "1.5.0",
            "_view_name": "HBoxView",
            "box_style": "",
            "children": [
              "IPY_MODEL_4e9a3a4722b8422382283ea2bb738939",
              "IPY_MODEL_332624e638194522aaccf929dcfedca3"
            ],
            "layout": "IPY_MODEL_54316cf5628c40c3ae65695233843da0"
          }
        },
        "54316cf5628c40c3ae65695233843da0": {
          "model_module": "@jupyter-widgets/base",
          "model_name": "LayoutModel",
          "state": {
            "_model_module": "@jupyter-widgets/base",
            "_model_module_version": "1.2.0",
            "_model_name": "LayoutModel",
            "_view_count": null,
            "_view_module": "@jupyter-widgets/base",
            "_view_module_version": "1.2.0",
            "_view_name": "LayoutView",
            "align_content": null,
            "align_items": null,
            "align_self": null,
            "border": null,
            "bottom": null,
            "display": null,
            "flex": null,
            "flex_flow": null,
            "grid_area": null,
            "grid_auto_columns": null,
            "grid_auto_flow": null,
            "grid_auto_rows": null,
            "grid_column": null,
            "grid_gap": null,
            "grid_row": null,
            "grid_template_areas": null,
            "grid_template_columns": null,
            "grid_template_rows": null,
            "height": null,
            "justify_content": null,
            "justify_items": null,
            "left": null,
            "margin": null,
            "max_height": null,
            "max_width": null,
            "min_height": null,
            "min_width": null,
            "object_fit": null,
            "object_position": null,
            "order": null,
            "overflow": null,
            "overflow_x": null,
            "overflow_y": null,
            "padding": null,
            "right": null,
            "top": null,
            "visibility": null,
            "width": null
          }
        },
        "4e9a3a4722b8422382283ea2bb738939": {
          "model_module": "@jupyter-widgets/controls",
          "model_name": "FloatProgressModel",
          "state": {
            "_dom_classes": [],
            "_model_module": "@jupyter-widgets/controls",
            "_model_module_version": "1.5.0",
            "_model_name": "FloatProgressModel",
            "_view_count": null,
            "_view_module": "@jupyter-widgets/controls",
            "_view_module_version": "1.5.0",
            "_view_name": "ProgressView",
            "bar_style": "danger",
            "description": "  0%",
            "description_tooltip": null,
            "layout": "IPY_MODEL_42166fcbaa844e9ea3713c5698c6cc43",
            "max": 5000,
            "min": 0,
            "orientation": "horizontal",
            "style": "IPY_MODEL_8b076298a99549c1b83bfe60dd3273a0",
            "value": 0
          }
        },
        "332624e638194522aaccf929dcfedca3": {
          "model_module": "@jupyter-widgets/controls",
          "model_name": "HTMLModel",
          "state": {
            "_dom_classes": [],
            "_model_module": "@jupyter-widgets/controls",
            "_model_module_version": "1.5.0",
            "_model_name": "HTMLModel",
            "_view_count": null,
            "_view_module": "@jupyter-widgets/controls",
            "_view_module_version": "1.5.0",
            "_view_name": "HTMLView",
            "description": "",
            "description_tooltip": null,
            "layout": "IPY_MODEL_4aa7a933022e4a8bb2a8fb6117a53991",
            "placeholder": "​",
            "style": "IPY_MODEL_f38298c0da504d9689061154e70d597f",
            "value": " 0/5000 [00:00&lt;?, ?it/s]"
          }
        },
        "8b076298a99549c1b83bfe60dd3273a0": {
          "model_module": "@jupyter-widgets/controls",
          "model_name": "ProgressStyleModel",
          "state": {
            "_model_module": "@jupyter-widgets/controls",
            "_model_module_version": "1.5.0",
            "_model_name": "ProgressStyleModel",
            "_view_count": null,
            "_view_module": "@jupyter-widgets/base",
            "_view_module_version": "1.2.0",
            "_view_name": "StyleView",
            "bar_color": null,
            "description_width": "initial"
          }
        },
        "42166fcbaa844e9ea3713c5698c6cc43": {
          "model_module": "@jupyter-widgets/base",
          "model_name": "LayoutModel",
          "state": {
            "_model_module": "@jupyter-widgets/base",
            "_model_module_version": "1.2.0",
            "_model_name": "LayoutModel",
            "_view_count": null,
            "_view_module": "@jupyter-widgets/base",
            "_view_module_version": "1.2.0",
            "_view_name": "LayoutView",
            "align_content": null,
            "align_items": null,
            "align_self": null,
            "border": null,
            "bottom": null,
            "display": null,
            "flex": null,
            "flex_flow": null,
            "grid_area": null,
            "grid_auto_columns": null,
            "grid_auto_flow": null,
            "grid_auto_rows": null,
            "grid_column": null,
            "grid_gap": null,
            "grid_row": null,
            "grid_template_areas": null,
            "grid_template_columns": null,
            "grid_template_rows": null,
            "height": null,
            "justify_content": null,
            "justify_items": null,
            "left": null,
            "margin": null,
            "max_height": null,
            "max_width": null,
            "min_height": null,
            "min_width": null,
            "object_fit": null,
            "object_position": null,
            "order": null,
            "overflow": null,
            "overflow_x": null,
            "overflow_y": null,
            "padding": null,
            "right": null,
            "top": null,
            "visibility": null,
            "width": null
          }
        },
        "f38298c0da504d9689061154e70d597f": {
          "model_module": "@jupyter-widgets/controls",
          "model_name": "DescriptionStyleModel",
          "state": {
            "_model_module": "@jupyter-widgets/controls",
            "_model_module_version": "1.5.0",
            "_model_name": "DescriptionStyleModel",
            "_view_count": null,
            "_view_module": "@jupyter-widgets/base",
            "_view_module_version": "1.2.0",
            "_view_name": "StyleView",
            "description_width": ""
          }
        },
        "4aa7a933022e4a8bb2a8fb6117a53991": {
          "model_module": "@jupyter-widgets/base",
          "model_name": "LayoutModel",
          "state": {
            "_model_module": "@jupyter-widgets/base",
            "_model_module_version": "1.2.0",
            "_model_name": "LayoutModel",
            "_view_count": null,
            "_view_module": "@jupyter-widgets/base",
            "_view_module_version": "1.2.0",
            "_view_name": "LayoutView",
            "align_content": null,
            "align_items": null,
            "align_self": null,
            "border": null,
            "bottom": null,
            "display": null,
            "flex": null,
            "flex_flow": null,
            "grid_area": null,
            "grid_auto_columns": null,
            "grid_auto_flow": null,
            "grid_auto_rows": null,
            "grid_column": null,
            "grid_gap": null,
            "grid_row": null,
            "grid_template_areas": null,
            "grid_template_columns": null,
            "grid_template_rows": null,
            "height": null,
            "justify_content": null,
            "justify_items": null,
            "left": null,
            "margin": null,
            "max_height": null,
            "max_width": null,
            "min_height": null,
            "min_width": null,
            "object_fit": null,
            "object_position": null,
            "order": null,
            "overflow": null,
            "overflow_x": null,
            "overflow_y": null,
            "padding": null,
            "right": null,
            "top": null,
            "visibility": null,
            "width": null
          }
        },
        "3d20b38b1751438287f33b205aee4e38": {
          "model_module": "@jupyter-widgets/controls",
          "model_name": "HBoxModel",
          "state": {
            "_dom_classes": [],
            "_model_module": "@jupyter-widgets/controls",
            "_model_module_version": "1.5.0",
            "_model_name": "HBoxModel",
            "_view_count": null,
            "_view_module": "@jupyter-widgets/controls",
            "_view_module_version": "1.5.0",
            "_view_name": "HBoxView",
            "box_style": "",
            "children": [
              "IPY_MODEL_9c8b891dd33140bd9307950c82f49055",
              "IPY_MODEL_2a06c27a3a8647238c679149ee3424ed"
            ],
            "layout": "IPY_MODEL_4888dae3ea564fda81b748ab8514938b"
          }
        },
        "4888dae3ea564fda81b748ab8514938b": {
          "model_module": "@jupyter-widgets/base",
          "model_name": "LayoutModel",
          "state": {
            "_model_module": "@jupyter-widgets/base",
            "_model_module_version": "1.2.0",
            "_model_name": "LayoutModel",
            "_view_count": null,
            "_view_module": "@jupyter-widgets/base",
            "_view_module_version": "1.2.0",
            "_view_name": "LayoutView",
            "align_content": null,
            "align_items": null,
            "align_self": null,
            "border": null,
            "bottom": null,
            "display": null,
            "flex": null,
            "flex_flow": null,
            "grid_area": null,
            "grid_auto_columns": null,
            "grid_auto_flow": null,
            "grid_auto_rows": null,
            "grid_column": null,
            "grid_gap": null,
            "grid_row": null,
            "grid_template_areas": null,
            "grid_template_columns": null,
            "grid_template_rows": null,
            "height": null,
            "justify_content": null,
            "justify_items": null,
            "left": null,
            "margin": null,
            "max_height": null,
            "max_width": null,
            "min_height": null,
            "min_width": null,
            "object_fit": null,
            "object_position": null,
            "order": null,
            "overflow": null,
            "overflow_x": null,
            "overflow_y": null,
            "padding": null,
            "right": null,
            "top": null,
            "visibility": null,
            "width": null
          }
        },
        "9c8b891dd33140bd9307950c82f49055": {
          "model_module": "@jupyter-widgets/controls",
          "model_name": "FloatProgressModel",
          "state": {
            "_dom_classes": [],
            "_model_module": "@jupyter-widgets/controls",
            "_model_module_version": "1.5.0",
            "_model_name": "FloatProgressModel",
            "_view_count": null,
            "_view_module": "@jupyter-widgets/controls",
            "_view_module_version": "1.5.0",
            "_view_name": "ProgressView",
            "bar_style": "success",
            "description": "100%",
            "description_tooltip": null,
            "layout": "IPY_MODEL_0c55a143de08498f9bc7218a0324b84c",
            "max": 5000,
            "min": 0,
            "orientation": "horizontal",
            "style": "IPY_MODEL_ed398206b29943b5b66021040c1d9b09",
            "value": 5000
          }
        },
        "2a06c27a3a8647238c679149ee3424ed": {
          "model_module": "@jupyter-widgets/controls",
          "model_name": "HTMLModel",
          "state": {
            "_dom_classes": [],
            "_model_module": "@jupyter-widgets/controls",
            "_model_module_version": "1.5.0",
            "_model_name": "HTMLModel",
            "_view_count": null,
            "_view_module": "@jupyter-widgets/controls",
            "_view_module_version": "1.5.0",
            "_view_name": "HTMLView",
            "description": "",
            "description_tooltip": null,
            "layout": "IPY_MODEL_856ac2b8794c4876b249ed69d3d54fcb",
            "placeholder": "​",
            "style": "IPY_MODEL_3ddedf2d44c5427598ba7391dc667e0a",
            "value": " 5000/5000 [03:55&lt;00:00, 21.22it/s]"
          }
        },
        "ed398206b29943b5b66021040c1d9b09": {
          "model_module": "@jupyter-widgets/controls",
          "model_name": "ProgressStyleModel",
          "state": {
            "_model_module": "@jupyter-widgets/controls",
            "_model_module_version": "1.5.0",
            "_model_name": "ProgressStyleModel",
            "_view_count": null,
            "_view_module": "@jupyter-widgets/base",
            "_view_module_version": "1.2.0",
            "_view_name": "StyleView",
            "bar_color": null,
            "description_width": "initial"
          }
        },
        "0c55a143de08498f9bc7218a0324b84c": {
          "model_module": "@jupyter-widgets/base",
          "model_name": "LayoutModel",
          "state": {
            "_model_module": "@jupyter-widgets/base",
            "_model_module_version": "1.2.0",
            "_model_name": "LayoutModel",
            "_view_count": null,
            "_view_module": "@jupyter-widgets/base",
            "_view_module_version": "1.2.0",
            "_view_name": "LayoutView",
            "align_content": null,
            "align_items": null,
            "align_self": null,
            "border": null,
            "bottom": null,
            "display": null,
            "flex": null,
            "flex_flow": null,
            "grid_area": null,
            "grid_auto_columns": null,
            "grid_auto_flow": null,
            "grid_auto_rows": null,
            "grid_column": null,
            "grid_gap": null,
            "grid_row": null,
            "grid_template_areas": null,
            "grid_template_columns": null,
            "grid_template_rows": null,
            "height": null,
            "justify_content": null,
            "justify_items": null,
            "left": null,
            "margin": null,
            "max_height": null,
            "max_width": null,
            "min_height": null,
            "min_width": null,
            "object_fit": null,
            "object_position": null,
            "order": null,
            "overflow": null,
            "overflow_x": null,
            "overflow_y": null,
            "padding": null,
            "right": null,
            "top": null,
            "visibility": null,
            "width": null
          }
        },
        "3ddedf2d44c5427598ba7391dc667e0a": {
          "model_module": "@jupyter-widgets/controls",
          "model_name": "DescriptionStyleModel",
          "state": {
            "_model_module": "@jupyter-widgets/controls",
            "_model_module_version": "1.5.0",
            "_model_name": "DescriptionStyleModel",
            "_view_count": null,
            "_view_module": "@jupyter-widgets/base",
            "_view_module_version": "1.2.0",
            "_view_name": "StyleView",
            "description_width": ""
          }
        },
        "856ac2b8794c4876b249ed69d3d54fcb": {
          "model_module": "@jupyter-widgets/base",
          "model_name": "LayoutModel",
          "state": {
            "_model_module": "@jupyter-widgets/base",
            "_model_module_version": "1.2.0",
            "_model_name": "LayoutModel",
            "_view_count": null,
            "_view_module": "@jupyter-widgets/base",
            "_view_module_version": "1.2.0",
            "_view_name": "LayoutView",
            "align_content": null,
            "align_items": null,
            "align_self": null,
            "border": null,
            "bottom": null,
            "display": null,
            "flex": null,
            "flex_flow": null,
            "grid_area": null,
            "grid_auto_columns": null,
            "grid_auto_flow": null,
            "grid_auto_rows": null,
            "grid_column": null,
            "grid_gap": null,
            "grid_row": null,
            "grid_template_areas": null,
            "grid_template_columns": null,
            "grid_template_rows": null,
            "height": null,
            "justify_content": null,
            "justify_items": null,
            "left": null,
            "margin": null,
            "max_height": null,
            "max_width": null,
            "min_height": null,
            "min_width": null,
            "object_fit": null,
            "object_position": null,
            "order": null,
            "overflow": null,
            "overflow_x": null,
            "overflow_y": null,
            "padding": null,
            "right": null,
            "top": null,
            "visibility": null,
            "width": null
          }
        },
        "6d9d35e5809b4f29b4f2bec960ee9217": {
          "model_module": "@jupyter-widgets/controls",
          "model_name": "HBoxModel",
          "state": {
            "_dom_classes": [],
            "_model_module": "@jupyter-widgets/controls",
            "_model_module_version": "1.5.0",
            "_model_name": "HBoxModel",
            "_view_count": null,
            "_view_module": "@jupyter-widgets/controls",
            "_view_module_version": "1.5.0",
            "_view_name": "HBoxView",
            "box_style": "",
            "children": [
              "IPY_MODEL_dc7c8a3d2de141df8ffde18f70aead38",
              "IPY_MODEL_faa2ebb23481415fb739e9240e23aa9f"
            ],
            "layout": "IPY_MODEL_80d6955ffa964c35877942bdca7aa46c"
          }
        },
        "80d6955ffa964c35877942bdca7aa46c": {
          "model_module": "@jupyter-widgets/base",
          "model_name": "LayoutModel",
          "state": {
            "_model_module": "@jupyter-widgets/base",
            "_model_module_version": "1.2.0",
            "_model_name": "LayoutModel",
            "_view_count": null,
            "_view_module": "@jupyter-widgets/base",
            "_view_module_version": "1.2.0",
            "_view_name": "LayoutView",
            "align_content": null,
            "align_items": null,
            "align_self": null,
            "border": null,
            "bottom": null,
            "display": null,
            "flex": null,
            "flex_flow": null,
            "grid_area": null,
            "grid_auto_columns": null,
            "grid_auto_flow": null,
            "grid_auto_rows": null,
            "grid_column": null,
            "grid_gap": null,
            "grid_row": null,
            "grid_template_areas": null,
            "grid_template_columns": null,
            "grid_template_rows": null,
            "height": null,
            "justify_content": null,
            "justify_items": null,
            "left": null,
            "margin": null,
            "max_height": null,
            "max_width": null,
            "min_height": null,
            "min_width": null,
            "object_fit": null,
            "object_position": null,
            "order": null,
            "overflow": null,
            "overflow_x": null,
            "overflow_y": null,
            "padding": null,
            "right": null,
            "top": null,
            "visibility": null,
            "width": null
          }
        },
        "dc7c8a3d2de141df8ffde18f70aead38": {
          "model_module": "@jupyter-widgets/controls",
          "model_name": "FloatProgressModel",
          "state": {
            "_dom_classes": [],
            "_model_module": "@jupyter-widgets/controls",
            "_model_module_version": "1.5.0",
            "_model_name": "FloatProgressModel",
            "_view_count": null,
            "_view_module": "@jupyter-widgets/controls",
            "_view_module_version": "1.5.0",
            "_view_name": "ProgressView",
            "bar_style": "success",
            "description": "100%",
            "description_tooltip": null,
            "layout": "IPY_MODEL_cda590f400164f4bac0ba7a5270b6492",
            "max": 5000,
            "min": 0,
            "orientation": "horizontal",
            "style": "IPY_MODEL_c707be4132e14ac69929f74d02fe39e1",
            "value": 5000
          }
        },
        "faa2ebb23481415fb739e9240e23aa9f": {
          "model_module": "@jupyter-widgets/controls",
          "model_name": "HTMLModel",
          "state": {
            "_dom_classes": [],
            "_model_module": "@jupyter-widgets/controls",
            "_model_module_version": "1.5.0",
            "_model_name": "HTMLModel",
            "_view_count": null,
            "_view_module": "@jupyter-widgets/controls",
            "_view_module_version": "1.5.0",
            "_view_name": "HTMLView",
            "description": "",
            "description_tooltip": null,
            "layout": "IPY_MODEL_a87337b7725640b98d084c5e34366737",
            "placeholder": "​",
            "style": "IPY_MODEL_7eae18c04e78476fb2d0ab415f79a115",
            "value": " 5000/5000 [03:25&lt;00:00, 24.38it/s]"
          }
        }
      }
    }
  },
  "cells": [
    {
      "cell_type": "markdown",
      "metadata": {
        "id": "Iz5ETRHFElUp"
      },
      "source": [
        "# 0.Libraray Import & Data Load\n",
        "- 유동인구 데이터 (SKT)\n",
        "- 카드데이터 (신한카드)\n",
        "- 유통데이터 (편의점, GS)\n",
        "\n",
        "- 외부데이터\n",
        "  - 코로나데이터 (코로나 확진자 수 데이터)\n",
        "  - 휴일 여부 데이터 (2020, 2019)"
      ]
    },
    {
      "cell_type": "code",
      "metadata": {
        "id": "eLPdKf0MKeJj",
        "outputId": "21250fa4-e745-4911-ddba-b463732b8a25",
        "colab": {
          "base_uri": "https://localhost:8080/",
          "height": 0
        }
      },
      "source": [
        "from google.colab import drive\n",
        "drive.mount('/content/drive')"
      ],
      "execution_count": 1,
      "outputs": [
        {
          "output_type": "stream",
          "text": [
            "Mounted at /content/drive\n"
          ],
          "name": "stdout"
        }
      ]
    },
    {
      "cell_type": "code",
      "metadata": {
        "id": "KU990c0AElU1",
        "outputId": "8c6abf8d-0bee-4a17-f9c7-a48102da0238",
        "colab": {
          "base_uri": "https://localhost:8080/",
          "height": 0
        }
      },
      "source": [
        "# 데이터 분석 library\n",
        "import pandas as pd\n",
        "import numpy as np\n",
        "\n",
        "# 통계용 library\n",
        "import scipy\n",
        "from scipy.stats.stats import pearsonr # 상관계수\n",
        "import statsmodels.formula.api as smf # 회귀모델용\n",
        "\n",
        "!pip install pingouin\n",
        "import pingouin as pg # 편상관분석용\n",
        "\n",
        "# 기타\n",
        "from functools import reduce\n",
        "import datetime\n",
        "from datetime import datetime, timedelta\n",
        "from itertools import combinations\n",
        "import warnings\n",
        "warnings.filterwarnings('ignore')"
      ],
      "execution_count": 2,
      "outputs": [
        {
          "output_type": "stream",
          "text": [
            "/usr/local/lib/python3.6/dist-packages/statsmodels/tools/_testing.py:19: FutureWarning: pandas.util.testing is deprecated. Use the functions in the public API at pandas.testing instead.\n",
            "  import pandas.util.testing as tm\n"
          ],
          "name": "stderr"
        },
        {
          "output_type": "stream",
          "text": [
            "Collecting pingouin\n",
            "\u001b[?25l  Downloading https://files.pythonhosted.org/packages/e6/5f/4618f878765a8b7037b8831f19105c5c2764b26e5e9afa4a29c58fc11d26/pingouin-0.3.8.tar.gz (223kB)\n",
            "\r\u001b[K     |█▌                              | 10kB 16.3MB/s eta 0:00:01\r\u001b[K     |███                             | 20kB 2.1MB/s eta 0:00:01\r\u001b[K     |████▍                           | 30kB 2.7MB/s eta 0:00:01\r\u001b[K     |█████▉                          | 40kB 3.0MB/s eta 0:00:01\r\u001b[K     |███████▍                        | 51kB 2.5MB/s eta 0:00:01\r\u001b[K     |████████▉                       | 61kB 2.8MB/s eta 0:00:01\r\u001b[K     |██████████▎                     | 71kB 3.0MB/s eta 0:00:01\r\u001b[K     |███████████▊                    | 81kB 3.3MB/s eta 0:00:01\r\u001b[K     |█████████████▏                  | 92kB 3.5MB/s eta 0:00:01\r\u001b[K     |██████████████▊                 | 102kB 3.4MB/s eta 0:00:01\r\u001b[K     |████████████████▏               | 112kB 3.4MB/s eta 0:00:01\r\u001b[K     |█████████████████▋              | 122kB 3.4MB/s eta 0:00:01\r\u001b[K     |███████████████████             | 133kB 3.4MB/s eta 0:00:01\r\u001b[K     |████████████████████▌           | 143kB 3.4MB/s eta 0:00:01\r\u001b[K     |██████████████████████          | 153kB 3.4MB/s eta 0:00:01\r\u001b[K     |███████████████████████▌        | 163kB 3.4MB/s eta 0:00:01\r\u001b[K     |█████████████████████████       | 174kB 3.4MB/s eta 0:00:01\r\u001b[K     |██████████████████████████▍     | 184kB 3.4MB/s eta 0:00:01\r\u001b[K     |████████████████████████████    | 194kB 3.4MB/s eta 0:00:01\r\u001b[K     |█████████████████████████████▍  | 204kB 3.4MB/s eta 0:00:01\r\u001b[K     |██████████████████████████████▉ | 215kB 3.4MB/s eta 0:00:01\r\u001b[K     |████████████████████████████████| 225kB 3.4MB/s \n",
            "\u001b[?25hRequirement already satisfied: numpy>=1.15 in /usr/local/lib/python3.6/dist-packages (from pingouin) (1.18.5)\n",
            "Requirement already satisfied: scipy>=1.3 in /usr/local/lib/python3.6/dist-packages (from pingouin) (1.4.1)\n",
            "Requirement already satisfied: pandas>=0.24 in /usr/local/lib/python3.6/dist-packages (from pingouin) (1.0.5)\n",
            "Requirement already satisfied: matplotlib>=3.0.2 in /usr/local/lib/python3.6/dist-packages (from pingouin) (3.2.2)\n",
            "Requirement already satisfied: seaborn>=0.9.0 in /usr/local/lib/python3.6/dist-packages (from pingouin) (0.10.1)\n",
            "Requirement already satisfied: statsmodels>=0.10.0 in /usr/local/lib/python3.6/dist-packages (from pingouin) (0.10.2)\n",
            "Requirement already satisfied: scikit-learn in /usr/local/lib/python3.6/dist-packages (from pingouin) (0.22.2.post1)\n",
            "Collecting pandas_flavor>=0.1.2\n",
            "  Downloading https://files.pythonhosted.org/packages/9a/57/7fbcff4c0961ed190ac5fcb0bd8194152ee1ee6487edf64fdbae16e2bc4b/pandas_flavor-0.2.0-py2.py3-none-any.whl\n",
            "Collecting outdated\n",
            "  Downloading https://files.pythonhosted.org/packages/86/70/2f166266438a30e94140f00c99c0eac1c45807981052a1d4c123660e1323/outdated-0.2.0.tar.gz\n",
            "Requirement already satisfied: tabulate in /usr/local/lib/python3.6/dist-packages (from pingouin) (0.8.7)\n",
            "Requirement already satisfied: pytz>=2017.2 in /usr/local/lib/python3.6/dist-packages (from pandas>=0.24->pingouin) (2018.9)\n",
            "Requirement already satisfied: python-dateutil>=2.6.1 in /usr/local/lib/python3.6/dist-packages (from pandas>=0.24->pingouin) (2.8.1)\n",
            "Requirement already satisfied: cycler>=0.10 in /usr/local/lib/python3.6/dist-packages (from matplotlib>=3.0.2->pingouin) (0.10.0)\n",
            "Requirement already satisfied: pyparsing!=2.0.4,!=2.1.2,!=2.1.6,>=2.0.1 in /usr/local/lib/python3.6/dist-packages (from matplotlib>=3.0.2->pingouin) (2.4.7)\n",
            "Requirement already satisfied: kiwisolver>=1.0.1 in /usr/local/lib/python3.6/dist-packages (from matplotlib>=3.0.2->pingouin) (1.2.0)\n",
            "Requirement already satisfied: patsy>=0.4.0 in /usr/local/lib/python3.6/dist-packages (from statsmodels>=0.10.0->pingouin) (0.5.1)\n",
            "Requirement already satisfied: joblib>=0.11 in /usr/local/lib/python3.6/dist-packages (from scikit-learn->pingouin) (0.16.0)\n",
            "Requirement already satisfied: xarray in /usr/local/lib/python3.6/dist-packages (from pandas_flavor>=0.1.2->pingouin) (0.15.1)\n",
            "Collecting littleutils\n",
            "  Downloading https://files.pythonhosted.org/packages/4e/b1/bb4e06f010947d67349f863b6a2ad71577f85590180a935f60543f622652/littleutils-0.2.2.tar.gz\n",
            "Requirement already satisfied: requests in /usr/local/lib/python3.6/dist-packages (from outdated->pingouin) (2.23.0)\n",
            "Requirement already satisfied: six>=1.5 in /usr/local/lib/python3.6/dist-packages (from python-dateutil>=2.6.1->pandas>=0.24->pingouin) (1.15.0)\n",
            "Requirement already satisfied: setuptools>=41.2 in /usr/local/lib/python3.6/dist-packages (from xarray->pandas_flavor>=0.1.2->pingouin) (50.3.0)\n",
            "Requirement already satisfied: idna<3,>=2.5 in /usr/local/lib/python3.6/dist-packages (from requests->outdated->pingouin) (2.10)\n",
            "Requirement already satisfied: urllib3!=1.25.0,!=1.25.1,<1.26,>=1.21.1 in /usr/local/lib/python3.6/dist-packages (from requests->outdated->pingouin) (1.24.3)\n",
            "Requirement already satisfied: certifi>=2017.4.17 in /usr/local/lib/python3.6/dist-packages (from requests->outdated->pingouin) (2020.6.20)\n",
            "Requirement already satisfied: chardet<4,>=3.0.2 in /usr/local/lib/python3.6/dist-packages (from requests->outdated->pingouin) (3.0.4)\n",
            "Building wheels for collected packages: pingouin, outdated, littleutils\n",
            "  Building wheel for pingouin (setup.py) ... \u001b[?25l\u001b[?25hdone\n",
            "  Created wheel for pingouin: filename=pingouin-0.3.8-cp36-none-any.whl size=221688 sha256=af6f0cc89aa2176696b959ab45738ab576c2e3e68fd4b038e9cb6ab33db3a740\n",
            "  Stored in directory: /root/.cache/pip/wheels/d6/9e/53/f885f73f29cf7c8cac3d8f4b1532bbfef2f5eb543946ac9055\n",
            "  Building wheel for outdated (setup.py) ... \u001b[?25l\u001b[?25hdone\n",
            "  Created wheel for outdated: filename=outdated-0.2.0-cp36-none-any.whl size=4961 sha256=2f1d5a63d96079264c68d811576404f929f55ad15646c6e180feab9ea65fa486\n",
            "  Stored in directory: /root/.cache/pip/wheels/fd/7c/ef/814f514d31197310872b5abf353feb8fef9d67ee658e1e7e39\n",
            "  Building wheel for littleutils (setup.py) ... \u001b[?25l\u001b[?25hdone\n",
            "  Created wheel for littleutils: filename=littleutils-0.2.2-cp36-none-any.whl size=7051 sha256=19e817278d82d4e30fb63945c9a2c62f11bcd9526ce8595a636415e9ba5092ef\n",
            "  Stored in directory: /root/.cache/pip/wheels/53/16/9f/ac67d15c40243754fd73f620e1b9b6dedc20492ecc19a2bae1\n",
            "Successfully built pingouin outdated littleutils\n",
            "Installing collected packages: pandas-flavor, littleutils, outdated, pingouin\n",
            "Successfully installed littleutils-0.2.2 outdated-0.2.0 pandas-flavor-0.2.0 pingouin-0.3.8\n"
          ],
          "name": "stdout"
        }
      ]
    },
    {
      "cell_type": "markdown",
      "metadata": {
        "id": "xvyOXsouElU4"
      },
      "source": [
        "## 유동인구 데이터 (2020, 2019)\n",
        "- SKT 유동인구 데이터 2020, 2019 사용"
      ]
    },
    {
      "cell_type": "code",
      "metadata": {
        "id": "Q2oxkAhFElU4",
        "outputId": "20b8f049-f9b6-4d4b-e041-39b6b8636802",
        "colab": {
          "base_uri": "https://localhost:8080/",
          "height": 0
        }
      },
      "source": [
        "# 2020년 데이터\n",
        "skt_age_202002 = pd.read_csv(\"/content/drive/My Drive/big_contest/skt/4개지역_FLOW_AGE_202002.CSV\", sep=\"|\")\n",
        "skt_age_202003 = pd.read_csv(\"/content/drive/My Drive/big_contest/skt/4개지역_FLOW_AGE_202003.CSV\", sep=\"|\")\n",
        "skt_age_202004 = pd.read_csv(\"/content/drive/My Drive/big_contest/skt/4개지역_FLOW_AGE_202004.CSV\", sep=\"|\")\n",
        "skt_age_202005 = pd.read_csv(\"/content/drive/My Drive/big_contest/skt/4개지역_FLOW_AGE_202005.CSV\", sep=\"|\")\n",
        "\n",
        "# 2019 유동인구 데이터 age\n",
        "skt_age_201902=pd.read_csv(\"/content/drive/My Drive/big_contest/skt/4개지역_FLOW_AGE_201902.CSV\", sep=\"|\")\n",
        "skt_age_201903=pd.read_csv(\"/content/drive/My Drive/big_contest/skt/4개지역_FLOW_AGE_201903.CSV\", sep=\"|\")\n",
        "skt_age_201904=pd.read_csv(\"/content/drive/My Drive/big_contest/skt/4개지역_FLOW_AGE_201904.CSV\", sep=\"|\")\n",
        "skt_age_201905=pd.read_csv(\"/content/drive/My Drive/big_contest/skt/4개지역_FLOW_AGE_201905.CSV\", sep=\"|\")\n",
        "\n",
        "# skt 데이터 합침 (2020, 2019)\n",
        "skt_2020 = pd.concat([skt_age_202002,skt_age_202003,skt_age_202004,skt_age_202005]) # 2020년 데이터\n",
        "skt_2019 = pd.concat([skt_age_201902, skt_age_201903, skt_age_201904, skt_age_201905]) # 2019년 데이터\n",
        "\n",
        "print(skt_2020.shape, skt_2019.shape)\n",
        "skt_2020"
      ],
      "execution_count": 3,
      "outputs": [
        {
          "output_type": "stream",
          "text": [
            "(8349, 34) (8280, 34)\n"
          ],
          "name": "stdout"
        },
        {
          "output_type": "execute_result",
          "data": {
            "text/html": [
              "<div>\n",
              "<style scoped>\n",
              "    .dataframe tbody tr th:only-of-type {\n",
              "        vertical-align: middle;\n",
              "    }\n",
              "\n",
              "    .dataframe tbody tr th {\n",
              "        vertical-align: top;\n",
              "    }\n",
              "\n",
              "    .dataframe thead th {\n",
              "        text-align: right;\n",
              "    }\n",
              "</style>\n",
              "<table border=\"1\" class=\"dataframe\">\n",
              "  <thead>\n",
              "    <tr style=\"text-align: right;\">\n",
              "      <th></th>\n",
              "      <th>STD_YM</th>\n",
              "      <th>STD_YMD</th>\n",
              "      <th>HDONG_CD</th>\n",
              "      <th>HDONG_NM</th>\n",
              "      <th>MAN_FLOW_POP_CNT_0004</th>\n",
              "      <th>MAN_FLOW_POP_CNT_0509</th>\n",
              "      <th>MAN_FLOW_POP_CNT_1014</th>\n",
              "      <th>MAN_FLOW_POP_CNT_1519</th>\n",
              "      <th>MAN_FLOW_POP_CNT_2024</th>\n",
              "      <th>MAN_FLOW_POP_CNT_2529</th>\n",
              "      <th>MAN_FLOW_POP_CNT_3034</th>\n",
              "      <th>MAN_FLOW_POP_CNT_3539</th>\n",
              "      <th>MAN_FLOW_POP_CNT_4044</th>\n",
              "      <th>MAN_FLOW_POP_CNT_4549</th>\n",
              "      <th>MAN_FLOW_POP_CNT_5054</th>\n",
              "      <th>MAN_FLOW_POP_CNT_5559</th>\n",
              "      <th>MAN_FLOW_POP_CNT_6064</th>\n",
              "      <th>MAN_FLOW_POP_CNT_6569</th>\n",
              "      <th>MAN_FLOW_POP_CNT_70U</th>\n",
              "      <th>WMAN_FLOW_POP_CNT_0004</th>\n",
              "      <th>WMAN_FLOW_POP_CNT_0509</th>\n",
              "      <th>WMAN_FLOW_POP_CNT_1014</th>\n",
              "      <th>WMAN_FLOW_POP_CNT_1519</th>\n",
              "      <th>WMAN_FLOW_POP_CNT_2024</th>\n",
              "      <th>WMAN_FLOW_POP_CNT_2529</th>\n",
              "      <th>WMAN_FLOW_POP_CNT_3034</th>\n",
              "      <th>WMAN_FLOW_POP_CNT_3539</th>\n",
              "      <th>WMAN_FLOW_POP_CNT_4044</th>\n",
              "      <th>WMAN_FLOW_POP_CNT_4549</th>\n",
              "      <th>WMAN_FLOW_POP_CNT_5054</th>\n",
              "      <th>WMAN_FLOW_POP_CNT_5559</th>\n",
              "      <th>WMAN_FLOW_POP_CNT_6064</th>\n",
              "      <th>WMAN_FLOW_POP_CNT_6569</th>\n",
              "      <th>WMAN_FLOW_POP_CNT_70U</th>\n",
              "    </tr>\n",
              "  </thead>\n",
              "  <tbody>\n",
              "    <tr>\n",
              "      <th>0</th>\n",
              "      <td>202002</td>\n",
              "      <td>20200201</td>\n",
              "      <td>1114052000</td>\n",
              "      <td>소공동</td>\n",
              "      <td>0.0</td>\n",
              "      <td>88.95</td>\n",
              "      <td>376.68</td>\n",
              "      <td>1077.03</td>\n",
              "      <td>3602.41</td>\n",
              "      <td>6660.39</td>\n",
              "      <td>6519.52</td>\n",
              "      <td>5675.54</td>\n",
              "      <td>5063.35</td>\n",
              "      <td>5992.92</td>\n",
              "      <td>6207.66</td>\n",
              "      <td>5997.45</td>\n",
              "      <td>6356.51</td>\n",
              "      <td>4740.35</td>\n",
              "      <td>5766.20</td>\n",
              "      <td>0.0</td>\n",
              "      <td>73.78</td>\n",
              "      <td>433.73</td>\n",
              "      <td>1408.06</td>\n",
              "      <td>4999.85</td>\n",
              "      <td>6961.02</td>\n",
              "      <td>5115.24</td>\n",
              "      <td>4164.47</td>\n",
              "      <td>3927.93</td>\n",
              "      <td>4058.47</td>\n",
              "      <td>3932.39</td>\n",
              "      <td>3650.70</td>\n",
              "      <td>3361.05</td>\n",
              "      <td>2440.61</td>\n",
              "      <td>2665.43</td>\n",
              "    </tr>\n",
              "    <tr>\n",
              "      <th>1</th>\n",
              "      <td>202002</td>\n",
              "      <td>20200202</td>\n",
              "      <td>1114052000</td>\n",
              "      <td>소공동</td>\n",
              "      <td>0.0</td>\n",
              "      <td>51.03</td>\n",
              "      <td>271.96</td>\n",
              "      <td>871.27</td>\n",
              "      <td>2824.97</td>\n",
              "      <td>5031.63</td>\n",
              "      <td>4626.14</td>\n",
              "      <td>3975.63</td>\n",
              "      <td>3455.81</td>\n",
              "      <td>4218.84</td>\n",
              "      <td>4473.19</td>\n",
              "      <td>4183.04</td>\n",
              "      <td>4278.93</td>\n",
              "      <td>3182.24</td>\n",
              "      <td>3567.28</td>\n",
              "      <td>0.0</td>\n",
              "      <td>55.15</td>\n",
              "      <td>327.72</td>\n",
              "      <td>1231.75</td>\n",
              "      <td>3807.14</td>\n",
              "      <td>4702.91</td>\n",
              "      <td>3698.04</td>\n",
              "      <td>2922.33</td>\n",
              "      <td>2781.63</td>\n",
              "      <td>2947.01</td>\n",
              "      <td>2632.34</td>\n",
              "      <td>2669.56</td>\n",
              "      <td>2399.90</td>\n",
              "      <td>1704.22</td>\n",
              "      <td>2026.77</td>\n",
              "    </tr>\n",
              "    <tr>\n",
              "      <th>2</th>\n",
              "      <td>202002</td>\n",
              "      <td>20200203</td>\n",
              "      <td>1114052000</td>\n",
              "      <td>소공동</td>\n",
              "      <td>0.0</td>\n",
              "      <td>32.47</td>\n",
              "      <td>136.94</td>\n",
              "      <td>826.26</td>\n",
              "      <td>3580.23</td>\n",
              "      <td>8823.11</td>\n",
              "      <td>11803.45</td>\n",
              "      <td>14934.31</td>\n",
              "      <td>14823.99</td>\n",
              "      <td>16430.05</td>\n",
              "      <td>14201.85</td>\n",
              "      <td>10908.99</td>\n",
              "      <td>9628.67</td>\n",
              "      <td>6658.04</td>\n",
              "      <td>7411.35</td>\n",
              "      <td>0.0</td>\n",
              "      <td>35.09</td>\n",
              "      <td>155.99</td>\n",
              "      <td>1166.65</td>\n",
              "      <td>6301.35</td>\n",
              "      <td>11109.59</td>\n",
              "      <td>10754.75</td>\n",
              "      <td>9655.01</td>\n",
              "      <td>9018.58</td>\n",
              "      <td>8786.59</td>\n",
              "      <td>7257.35</td>\n",
              "      <td>5710.55</td>\n",
              "      <td>4935.00</td>\n",
              "      <td>3070.67</td>\n",
              "      <td>3349.99</td>\n",
              "    </tr>\n",
              "    <tr>\n",
              "      <th>3</th>\n",
              "      <td>202002</td>\n",
              "      <td>20200204</td>\n",
              "      <td>1114052000</td>\n",
              "      <td>소공동</td>\n",
              "      <td>0.0</td>\n",
              "      <td>27.34</td>\n",
              "      <td>154.75</td>\n",
              "      <td>823.69</td>\n",
              "      <td>3510.75</td>\n",
              "      <td>9361.85</td>\n",
              "      <td>12127.55</td>\n",
              "      <td>15650.18</td>\n",
              "      <td>15484.99</td>\n",
              "      <td>16854.01</td>\n",
              "      <td>14653.71</td>\n",
              "      <td>11550.17</td>\n",
              "      <td>9567.69</td>\n",
              "      <td>6884.62</td>\n",
              "      <td>7319.09</td>\n",
              "      <td>0.0</td>\n",
              "      <td>40.41</td>\n",
              "      <td>193.20</td>\n",
              "      <td>1148.80</td>\n",
              "      <td>6345.14</td>\n",
              "      <td>11771.06</td>\n",
              "      <td>11467.86</td>\n",
              "      <td>9834.22</td>\n",
              "      <td>9323.74</td>\n",
              "      <td>8982.67</td>\n",
              "      <td>7448.09</td>\n",
              "      <td>5938.57</td>\n",
              "      <td>4948.10</td>\n",
              "      <td>3091.30</td>\n",
              "      <td>3494.91</td>\n",
              "    </tr>\n",
              "    <tr>\n",
              "      <th>4</th>\n",
              "      <td>202002</td>\n",
              "      <td>20200205</td>\n",
              "      <td>1114052000</td>\n",
              "      <td>소공동</td>\n",
              "      <td>0.0</td>\n",
              "      <td>26.30</td>\n",
              "      <td>177.28</td>\n",
              "      <td>809.21</td>\n",
              "      <td>3579.35</td>\n",
              "      <td>9631.85</td>\n",
              "      <td>12378.43</td>\n",
              "      <td>15876.88</td>\n",
              "      <td>15624.94</td>\n",
              "      <td>16730.33</td>\n",
              "      <td>14462.22</td>\n",
              "      <td>11456.97</td>\n",
              "      <td>9360.22</td>\n",
              "      <td>6709.08</td>\n",
              "      <td>6951.99</td>\n",
              "      <td>0.0</td>\n",
              "      <td>36.44</td>\n",
              "      <td>172.20</td>\n",
              "      <td>1285.73</td>\n",
              "      <td>6587.78</td>\n",
              "      <td>11876.40</td>\n",
              "      <td>11285.83</td>\n",
              "      <td>9972.17</td>\n",
              "      <td>9299.52</td>\n",
              "      <td>8976.55</td>\n",
              "      <td>7183.79</td>\n",
              "      <td>5719.89</td>\n",
              "      <td>4822.39</td>\n",
              "      <td>2960.73</td>\n",
              "      <td>3204.18</td>\n",
              "    </tr>\n",
              "    <tr>\n",
              "      <th>...</th>\n",
              "      <td>...</td>\n",
              "      <td>...</td>\n",
              "      <td>...</td>\n",
              "      <td>...</td>\n",
              "      <td>...</td>\n",
              "      <td>...</td>\n",
              "      <td>...</td>\n",
              "      <td>...</td>\n",
              "      <td>...</td>\n",
              "      <td>...</td>\n",
              "      <td>...</td>\n",
              "      <td>...</td>\n",
              "      <td>...</td>\n",
              "      <td>...</td>\n",
              "      <td>...</td>\n",
              "      <td>...</td>\n",
              "      <td>...</td>\n",
              "      <td>...</td>\n",
              "      <td>...</td>\n",
              "      <td>...</td>\n",
              "      <td>...</td>\n",
              "      <td>...</td>\n",
              "      <td>...</td>\n",
              "      <td>...</td>\n",
              "      <td>...</td>\n",
              "      <td>...</td>\n",
              "      <td>...</td>\n",
              "      <td>...</td>\n",
              "      <td>...</td>\n",
              "      <td>...</td>\n",
              "      <td>...</td>\n",
              "      <td>...</td>\n",
              "      <td>...</td>\n",
              "      <td>...</td>\n",
              "    </tr>\n",
              "    <tr>\n",
              "      <th>2134</th>\n",
              "      <td>202005</td>\n",
              "      <td>20200527</td>\n",
              "      <td>2726069000</td>\n",
              "      <td>고산3동</td>\n",
              "      <td>0.0</td>\n",
              "      <td>70.07</td>\n",
              "      <td>519.05</td>\n",
              "      <td>956.45</td>\n",
              "      <td>1205.44</td>\n",
              "      <td>1507.57</td>\n",
              "      <td>1500.51</td>\n",
              "      <td>2014.87</td>\n",
              "      <td>2295.21</td>\n",
              "      <td>2947.78</td>\n",
              "      <td>3020.17</td>\n",
              "      <td>2653.97</td>\n",
              "      <td>2217.68</td>\n",
              "      <td>1561.13</td>\n",
              "      <td>1492.80</td>\n",
              "      <td>0.0</td>\n",
              "      <td>114.34</td>\n",
              "      <td>552.87</td>\n",
              "      <td>842.82</td>\n",
              "      <td>1264.78</td>\n",
              "      <td>1201.14</td>\n",
              "      <td>1106.57</td>\n",
              "      <td>1728.34</td>\n",
              "      <td>2209.31</td>\n",
              "      <td>2808.54</td>\n",
              "      <td>2721.54</td>\n",
              "      <td>2070.62</td>\n",
              "      <td>1613.50</td>\n",
              "      <td>1086.34</td>\n",
              "      <td>1143.37</td>\n",
              "    </tr>\n",
              "    <tr>\n",
              "      <th>2135</th>\n",
              "      <td>202005</td>\n",
              "      <td>20200528</td>\n",
              "      <td>2726069000</td>\n",
              "      <td>고산3동</td>\n",
              "      <td>0.0</td>\n",
              "      <td>99.04</td>\n",
              "      <td>749.36</td>\n",
              "      <td>1085.68</td>\n",
              "      <td>1639.82</td>\n",
              "      <td>1777.32</td>\n",
              "      <td>1776.02</td>\n",
              "      <td>2137.50</td>\n",
              "      <td>2582.56</td>\n",
              "      <td>3415.30</td>\n",
              "      <td>3458.23</td>\n",
              "      <td>3019.66</td>\n",
              "      <td>2550.45</td>\n",
              "      <td>1845.30</td>\n",
              "      <td>1780.62</td>\n",
              "      <td>0.0</td>\n",
              "      <td>146.62</td>\n",
              "      <td>733.55</td>\n",
              "      <td>1117.85</td>\n",
              "      <td>1597.98</td>\n",
              "      <td>1377.94</td>\n",
              "      <td>1258.02</td>\n",
              "      <td>1847.61</td>\n",
              "      <td>2677.19</td>\n",
              "      <td>3342.68</td>\n",
              "      <td>3036.71</td>\n",
              "      <td>2389.70</td>\n",
              "      <td>1848.92</td>\n",
              "      <td>1291.19</td>\n",
              "      <td>1515.36</td>\n",
              "    </tr>\n",
              "    <tr>\n",
              "      <th>2136</th>\n",
              "      <td>202005</td>\n",
              "      <td>20200529</td>\n",
              "      <td>2726069000</td>\n",
              "      <td>고산3동</td>\n",
              "      <td>0.0</td>\n",
              "      <td>155.70</td>\n",
              "      <td>781.70</td>\n",
              "      <td>1235.94</td>\n",
              "      <td>1706.97</td>\n",
              "      <td>1982.74</td>\n",
              "      <td>1924.60</td>\n",
              "      <td>2500.02</td>\n",
              "      <td>2810.11</td>\n",
              "      <td>3625.34</td>\n",
              "      <td>3718.35</td>\n",
              "      <td>3212.18</td>\n",
              "      <td>2852.53</td>\n",
              "      <td>1755.48</td>\n",
              "      <td>1811.35</td>\n",
              "      <td>0.0</td>\n",
              "      <td>111.30</td>\n",
              "      <td>801.94</td>\n",
              "      <td>1167.51</td>\n",
              "      <td>1709.27</td>\n",
              "      <td>1583.58</td>\n",
              "      <td>1487.06</td>\n",
              "      <td>2149.30</td>\n",
              "      <td>2916.87</td>\n",
              "      <td>3643.31</td>\n",
              "      <td>3395.24</td>\n",
              "      <td>2800.02</td>\n",
              "      <td>2043.25</td>\n",
              "      <td>1356.15</td>\n",
              "      <td>1455.89</td>\n",
              "    </tr>\n",
              "    <tr>\n",
              "      <th>2137</th>\n",
              "      <td>202005</td>\n",
              "      <td>20200530</td>\n",
              "      <td>2726069000</td>\n",
              "      <td>고산3동</td>\n",
              "      <td>0.0</td>\n",
              "      <td>119.89</td>\n",
              "      <td>903.85</td>\n",
              "      <td>1236.60</td>\n",
              "      <td>1722.01</td>\n",
              "      <td>2142.41</td>\n",
              "      <td>2106.49</td>\n",
              "      <td>2215.86</td>\n",
              "      <td>2649.30</td>\n",
              "      <td>3713.62</td>\n",
              "      <td>3854.18</td>\n",
              "      <td>3138.66</td>\n",
              "      <td>2506.90</td>\n",
              "      <td>1683.99</td>\n",
              "      <td>1666.55</td>\n",
              "      <td>0.0</td>\n",
              "      <td>152.58</td>\n",
              "      <td>727.46</td>\n",
              "      <td>1229.17</td>\n",
              "      <td>1627.58</td>\n",
              "      <td>1644.73</td>\n",
              "      <td>1420.31</td>\n",
              "      <td>1812.27</td>\n",
              "      <td>2640.71</td>\n",
              "      <td>3362.25</td>\n",
              "      <td>2909.34</td>\n",
              "      <td>2353.82</td>\n",
              "      <td>1812.56</td>\n",
              "      <td>1242.56</td>\n",
              "      <td>1372.38</td>\n",
              "    </tr>\n",
              "    <tr>\n",
              "      <th>2138</th>\n",
              "      <td>202005</td>\n",
              "      <td>20200531</td>\n",
              "      <td>2726069000</td>\n",
              "      <td>고산3동</td>\n",
              "      <td>0.0</td>\n",
              "      <td>137.40</td>\n",
              "      <td>756.71</td>\n",
              "      <td>1139.23</td>\n",
              "      <td>1500.39</td>\n",
              "      <td>1814.26</td>\n",
              "      <td>1641.03</td>\n",
              "      <td>1901.57</td>\n",
              "      <td>2282.31</td>\n",
              "      <td>3044.90</td>\n",
              "      <td>3231.60</td>\n",
              "      <td>2614.13</td>\n",
              "      <td>2122.87</td>\n",
              "      <td>1448.72</td>\n",
              "      <td>1374.66</td>\n",
              "      <td>0.0</td>\n",
              "      <td>140.94</td>\n",
              "      <td>673.50</td>\n",
              "      <td>1106.60</td>\n",
              "      <td>1452.02</td>\n",
              "      <td>1367.72</td>\n",
              "      <td>1145.01</td>\n",
              "      <td>1661.90</td>\n",
              "      <td>2208.72</td>\n",
              "      <td>2782.10</td>\n",
              "      <td>2544.62</td>\n",
              "      <td>2074.62</td>\n",
              "      <td>1529.44</td>\n",
              "      <td>1034.47</td>\n",
              "      <td>1142.95</td>\n",
              "    </tr>\n",
              "  </tbody>\n",
              "</table>\n",
              "<p>8349 rows × 34 columns</p>\n",
              "</div>"
            ],
            "text/plain": [
              "      STD_YM   STD_YMD  ...  WMAN_FLOW_POP_CNT_6569 WMAN_FLOW_POP_CNT_70U\n",
              "0     202002  20200201  ...                 2440.61               2665.43\n",
              "1     202002  20200202  ...                 1704.22               2026.77\n",
              "2     202002  20200203  ...                 3070.67               3349.99\n",
              "3     202002  20200204  ...                 3091.30               3494.91\n",
              "4     202002  20200205  ...                 2960.73               3204.18\n",
              "...      ...       ...  ...                     ...                   ...\n",
              "2134  202005  20200527  ...                 1086.34               1143.37\n",
              "2135  202005  20200528  ...                 1291.19               1515.36\n",
              "2136  202005  20200529  ...                 1356.15               1455.89\n",
              "2137  202005  20200530  ...                 1242.56               1372.38\n",
              "2138  202005  20200531  ...                 1034.47               1142.95\n",
              "\n",
              "[8349 rows x 34 columns]"
            ]
          },
          "metadata": {
            "tags": []
          },
          "execution_count": 3
        }
      ]
    },
    {
      "cell_type": "code",
      "metadata": {
        "id": "k2C71lgCElU7",
        "outputId": "7af0721d-8c7f-4bc8-aaf2-af04babd661e",
        "colab": {
          "base_uri": "https://localhost:8080/",
          "height": 0
        }
      },
      "source": [
        "# skt 유동인구 데이터\n",
        "\n",
        "# 2020 유동인구 데이터 연령 총합 변수 만들기\n",
        "skt_2020['sum_20'] = skt_2020.iloc[:,4:].sum(axis=1)\n",
        "skt_2020 = skt_2020[['STD_YMD','HDONG_NM','sum_20']]\n",
        "skt_2020.columns = ['STD_DD','HDONG_NM','sum_20']\n",
        "skt_2020 = skt_2020.reset_index(drop=True)\n",
        "\n",
        "# 2019 유동인구 데이터 연령 총합 변수 만들기\n",
        "skt_2019[\"sum_19\"] = skt_2019.iloc[:,4:].sum(axis=1)\n",
        "skt_2019 = skt_2019[[\"STD_YMD\",\"HDONG_NM\",\"sum_19\"]]\n",
        "skt_2019.columns = ['STD_DD','HDONG_NM','sum_19']\n",
        "skt_2019 = skt_2019.reset_index(drop=True)\n",
        "\n",
        "print(skt_2020.shape, skt_2019.shape)\n",
        "skt_2019"
      ],
      "execution_count": 4,
      "outputs": [
        {
          "output_type": "stream",
          "text": [
            "(8349, 3) (8280, 3)\n"
          ],
          "name": "stdout"
        },
        {
          "output_type": "execute_result",
          "data": {
            "text/html": [
              "<div>\n",
              "<style scoped>\n",
              "    .dataframe tbody tr th:only-of-type {\n",
              "        vertical-align: middle;\n",
              "    }\n",
              "\n",
              "    .dataframe tbody tr th {\n",
              "        vertical-align: top;\n",
              "    }\n",
              "\n",
              "    .dataframe thead th {\n",
              "        text-align: right;\n",
              "    }\n",
              "</style>\n",
              "<table border=\"1\" class=\"dataframe\">\n",
              "  <thead>\n",
              "    <tr style=\"text-align: right;\">\n",
              "      <th></th>\n",
              "      <th>STD_DD</th>\n",
              "      <th>HDONG_NM</th>\n",
              "      <th>sum_19</th>\n",
              "    </tr>\n",
              "  </thead>\n",
              "  <tbody>\n",
              "    <tr>\n",
              "      <th>0</th>\n",
              "      <td>20190201</td>\n",
              "      <td>소공동</td>\n",
              "      <td>242230.68</td>\n",
              "    </tr>\n",
              "    <tr>\n",
              "      <th>1</th>\n",
              "      <td>20190202</td>\n",
              "      <td>소공동</td>\n",
              "      <td>133411.99</td>\n",
              "    </tr>\n",
              "    <tr>\n",
              "      <th>2</th>\n",
              "      <td>20190203</td>\n",
              "      <td>소공동</td>\n",
              "      <td>90124.93</td>\n",
              "    </tr>\n",
              "    <tr>\n",
              "      <th>3</th>\n",
              "      <td>20190204</td>\n",
              "      <td>소공동</td>\n",
              "      <td>83378.55</td>\n",
              "    </tr>\n",
              "    <tr>\n",
              "      <th>4</th>\n",
              "      <td>20190205</td>\n",
              "      <td>소공동</td>\n",
              "      <td>111009.47</td>\n",
              "    </tr>\n",
              "    <tr>\n",
              "      <th>...</th>\n",
              "      <td>...</td>\n",
              "      <td>...</td>\n",
              "      <td>...</td>\n",
              "    </tr>\n",
              "    <tr>\n",
              "      <th>8275</th>\n",
              "      <td>20190527</td>\n",
              "      <td>고산3동</td>\n",
              "      <td>47011.48</td>\n",
              "    </tr>\n",
              "    <tr>\n",
              "      <th>8276</th>\n",
              "      <td>20190528</td>\n",
              "      <td>고산3동</td>\n",
              "      <td>49344.74</td>\n",
              "    </tr>\n",
              "    <tr>\n",
              "      <th>8277</th>\n",
              "      <td>20190529</td>\n",
              "      <td>고산3동</td>\n",
              "      <td>50345.41</td>\n",
              "    </tr>\n",
              "    <tr>\n",
              "      <th>8278</th>\n",
              "      <td>20190530</td>\n",
              "      <td>고산3동</td>\n",
              "      <td>50148.22</td>\n",
              "    </tr>\n",
              "    <tr>\n",
              "      <th>8279</th>\n",
              "      <td>20190531</td>\n",
              "      <td>고산3동</td>\n",
              "      <td>52772.46</td>\n",
              "    </tr>\n",
              "  </tbody>\n",
              "</table>\n",
              "<p>8280 rows × 3 columns</p>\n",
              "</div>"
            ],
            "text/plain": [
              "        STD_DD HDONG_NM     sum_19\n",
              "0     20190201      소공동  242230.68\n",
              "1     20190202      소공동  133411.99\n",
              "2     20190203      소공동   90124.93\n",
              "3     20190204      소공동   83378.55\n",
              "4     20190205      소공동  111009.47\n",
              "...        ...      ...        ...\n",
              "8275  20190527     고산3동   47011.48\n",
              "8276  20190528     고산3동   49344.74\n",
              "8277  20190529     고산3동   50345.41\n",
              "8278  20190530     고산3동   50148.22\n",
              "8279  20190531     고산3동   52772.46\n",
              "\n",
              "[8280 rows x 3 columns]"
            ]
          },
          "metadata": {
            "tags": []
          },
          "execution_count": 4
        }
      ]
    },
    {
      "cell_type": "markdown",
      "metadata": {
        "id": "kVlui7e5ElU-"
      },
      "source": [
        "## 카드데이터 (2020, 2019)\n",
        "- 신한카드 데이터 (외국인 + 내국인)\n",
        "- 신한카드 행정동 데이터\n",
        "- 카드 데이터 + 행정동 데이터 Merge\n",
        "- 2020, 2019 데이터 분리\n",
        "- 카드데이터 업종별 대분류 리스트 변수 생성"
      ]
    },
    {
      "cell_type": "code",
      "metadata": {
        "id": "vTJvbTOEElVB",
        "outputId": "9cbebfe5-76d4-49db-bbe9-9c74c6704b92",
        "colab": {
          "base_uri": "https://localhost:8080/",
          "height": 0
        }
      },
      "source": [
        "# 신한 카드 데이터 (내국인, 외국인)\n",
        "card_re = pd.read_csv('/content/drive/My Drive/big_contest/shinhan/CARD_SPENDING_RESIDENT.txt', sep = \"\\t\", engine='python', encoding = \"cp949\")\n",
        "card_fo = pd.read_csv('/content/drive/My Drive/big_contest/shinhan/CARD_SPENDING_FOREIGNER.txt', sep = \"\\t\", engine='python', encoding = \"cp949\")\n",
        "\n",
        "# 신한 카드 행정동 데이터\n",
        "dong = pd.read_excel('/content/drive/My Drive/big_contest/shinhan/02_혁신아이디어분야_카드소비데이터(신한카드)_데이터정의서.xlsx', sheet_name='(참고) 행정동코드',index_col=0, header=None)\n",
        "\n",
        "print(card_re.shape, card_fo.shape, dong.shape)"
      ],
      "execution_count": 5,
      "outputs": [
        {
          "output_type": "stream",
          "text": [
            "(2537753, 8) (238829, 7) (71, 4)\n"
          ],
          "name": "stdout"
        }
      ]
    },
    {
      "cell_type": "code",
      "metadata": {
        "id": "oPpTJjbcElVH",
        "outputId": "19c2ca5e-4bdd-43c9-e064-f8d657c6be8e",
        "colab": {
          "base_uri": "https://localhost:8080/",
          "height": 0
        }
      },
      "source": [
        "# 카드 행정동 데이터 전처리\n",
        "dong.columns = ['GU_CD','DONG_CD','GU_NM','HDONG_NM']\n",
        "dong.reset_index(inplace=True, drop=True)\n",
        "dong = dong.loc[2:]\n",
        "dong = dong.reset_index(drop=True)\n",
        "\n",
        "# 컬럼 type int 형으로 변경\n",
        "dong['GU_CD'] = dong['GU_CD'].astype(int)\n",
        "dong['DONG_CD'] = dong['DONG_CD'].astype(int)\n",
        "\n",
        "# 카드 데이터 (내국인 + 외국인) concat\n",
        "card = pd.concat([card_fo,card_re])\n",
        "\n",
        "# 행정동 이름과 카드 데이터 merge\n",
        "card = pd.merge(card, dong, on=['GU_CD','DONG_CD'])\n",
        "\n",
        "print(card.shape)\n",
        "card"
      ],
      "execution_count": 6,
      "outputs": [
        {
          "output_type": "stream",
          "text": [
            "(2776582, 11)\n"
          ],
          "name": "stdout"
        },
        {
          "output_type": "execute_result",
          "data": {
            "text/html": [
              "<div>\n",
              "<style scoped>\n",
              "    .dataframe tbody tr th:only-of-type {\n",
              "        vertical-align: middle;\n",
              "    }\n",
              "\n",
              "    .dataframe tbody tr th {\n",
              "        vertical-align: top;\n",
              "    }\n",
              "\n",
              "    .dataframe thead th {\n",
              "        text-align: right;\n",
              "    }\n",
              "</style>\n",
              "<table border=\"1\" class=\"dataframe\">\n",
              "  <thead>\n",
              "    <tr style=\"text-align: right;\">\n",
              "      <th></th>\n",
              "      <th>STD_DD</th>\n",
              "      <th>GU_CD</th>\n",
              "      <th>DONG_CD</th>\n",
              "      <th>MCT_CAT_CD</th>\n",
              "      <th>COUNTRY_NM</th>\n",
              "      <th>USE_CNT</th>\n",
              "      <th>USE_AMT</th>\n",
              "      <th>SEX_CD</th>\n",
              "      <th>AGE_CD</th>\n",
              "      <th>GU_NM</th>\n",
              "      <th>HDONG_NM</th>\n",
              "    </tr>\n",
              "  </thead>\n",
              "  <tbody>\n",
              "    <tr>\n",
              "      <th>0</th>\n",
              "      <td>20190204</td>\n",
              "      <td>260</td>\n",
              "      <td>510</td>\n",
              "      <td>81</td>\n",
              "      <td>대만</td>\n",
              "      <td>2</td>\n",
              "      <td>30.0</td>\n",
              "      <td>NaN</td>\n",
              "      <td>NaN</td>\n",
              "      <td>대구 수성구</td>\n",
              "      <td>범어1동</td>\n",
              "    </tr>\n",
              "    <tr>\n",
              "      <th>1</th>\n",
              "      <td>20190213</td>\n",
              "      <td>260</td>\n",
              "      <td>510</td>\n",
              "      <td>40</td>\n",
              "      <td>대만</td>\n",
              "      <td>2</td>\n",
              "      <td>32.0</td>\n",
              "      <td>NaN</td>\n",
              "      <td>NaN</td>\n",
              "      <td>대구 수성구</td>\n",
              "      <td>범어1동</td>\n",
              "    </tr>\n",
              "    <tr>\n",
              "      <th>2</th>\n",
              "      <td>20190416</td>\n",
              "      <td>260</td>\n",
              "      <td>510</td>\n",
              "      <td>40</td>\n",
              "      <td>대만</td>\n",
              "      <td>2</td>\n",
              "      <td>16.0</td>\n",
              "      <td>NaN</td>\n",
              "      <td>NaN</td>\n",
              "      <td>대구 수성구</td>\n",
              "      <td>범어1동</td>\n",
              "    </tr>\n",
              "    <tr>\n",
              "      <th>3</th>\n",
              "      <td>20190419</td>\n",
              "      <td>260</td>\n",
              "      <td>510</td>\n",
              "      <td>42</td>\n",
              "      <td>대만</td>\n",
              "      <td>3</td>\n",
              "      <td>610.0</td>\n",
              "      <td>NaN</td>\n",
              "      <td>NaN</td>\n",
              "      <td>대구 수성구</td>\n",
              "      <td>범어1동</td>\n",
              "    </tr>\n",
              "    <tr>\n",
              "      <th>4</th>\n",
              "      <td>20190308</td>\n",
              "      <td>260</td>\n",
              "      <td>510</td>\n",
              "      <td>10</td>\n",
              "      <td>대만</td>\n",
              "      <td>7</td>\n",
              "      <td>629.0</td>\n",
              "      <td>NaN</td>\n",
              "      <td>NaN</td>\n",
              "      <td>대구 수성구</td>\n",
              "      <td>범어1동</td>\n",
              "    </tr>\n",
              "    <tr>\n",
              "      <th>...</th>\n",
              "      <td>...</td>\n",
              "      <td>...</td>\n",
              "      <td>...</td>\n",
              "      <td>...</td>\n",
              "      <td>...</td>\n",
              "      <td>...</td>\n",
              "      <td>...</td>\n",
              "      <td>...</td>\n",
              "      <td>...</td>\n",
              "      <td>...</td>\n",
              "      <td>...</td>\n",
              "    </tr>\n",
              "    <tr>\n",
              "      <th>2776577</th>\n",
              "      <td>20200531</td>\n",
              "      <td>350</td>\n",
              "      <td>710</td>\n",
              "      <td>81</td>\n",
              "      <td>NaN</td>\n",
              "      <td>47</td>\n",
              "      <td>570.0</td>\n",
              "      <td>M</td>\n",
              "      <td>45.0</td>\n",
              "      <td>서울 노원구</td>\n",
              "      <td>상계9동</td>\n",
              "    </tr>\n",
              "    <tr>\n",
              "      <th>2776578</th>\n",
              "      <td>20200531</td>\n",
              "      <td>350</td>\n",
              "      <td>710</td>\n",
              "      <td>81</td>\n",
              "      <td>NaN</td>\n",
              "      <td>33</td>\n",
              "      <td>444.0</td>\n",
              "      <td>M</td>\n",
              "      <td>50.0</td>\n",
              "      <td>서울 노원구</td>\n",
              "      <td>상계9동</td>\n",
              "    </tr>\n",
              "    <tr>\n",
              "      <th>2776579</th>\n",
              "      <td>20200531</td>\n",
              "      <td>350</td>\n",
              "      <td>710</td>\n",
              "      <td>81</td>\n",
              "      <td>NaN</td>\n",
              "      <td>28</td>\n",
              "      <td>403.0</td>\n",
              "      <td>M</td>\n",
              "      <td>55.0</td>\n",
              "      <td>서울 노원구</td>\n",
              "      <td>상계9동</td>\n",
              "    </tr>\n",
              "    <tr>\n",
              "      <th>2776580</th>\n",
              "      <td>20200531</td>\n",
              "      <td>350</td>\n",
              "      <td>710</td>\n",
              "      <td>81</td>\n",
              "      <td>NaN</td>\n",
              "      <td>33</td>\n",
              "      <td>384.0</td>\n",
              "      <td>M</td>\n",
              "      <td>60.0</td>\n",
              "      <td>서울 노원구</td>\n",
              "      <td>상계9동</td>\n",
              "    </tr>\n",
              "    <tr>\n",
              "      <th>2776581</th>\n",
              "      <td>20200531</td>\n",
              "      <td>350</td>\n",
              "      <td>710</td>\n",
              "      <td>81</td>\n",
              "      <td>NaN</td>\n",
              "      <td>9</td>\n",
              "      <td>229.0</td>\n",
              "      <td>M</td>\n",
              "      <td>65.0</td>\n",
              "      <td>서울 노원구</td>\n",
              "      <td>상계9동</td>\n",
              "    </tr>\n",
              "  </tbody>\n",
              "</table>\n",
              "<p>2776582 rows × 11 columns</p>\n",
              "</div>"
            ],
            "text/plain": [
              "           STD_DD  GU_CD  DONG_CD  MCT_CAT_CD  ... SEX_CD  AGE_CD   GU_NM HDONG_NM\n",
              "0        20190204    260      510          81  ...    NaN     NaN  대구 수성구     범어1동\n",
              "1        20190213    260      510          40  ...    NaN     NaN  대구 수성구     범어1동\n",
              "2        20190416    260      510          40  ...    NaN     NaN  대구 수성구     범어1동\n",
              "3        20190419    260      510          42  ...    NaN     NaN  대구 수성구     범어1동\n",
              "4        20190308    260      510          10  ...    NaN     NaN  대구 수성구     범어1동\n",
              "...           ...    ...      ...         ...  ...    ...     ...     ...      ...\n",
              "2776577  20200531    350      710          81  ...      M    45.0  서울 노원구     상계9동\n",
              "2776578  20200531    350      710          81  ...      M    50.0  서울 노원구     상계9동\n",
              "2776579  20200531    350      710          81  ...      M    55.0  서울 노원구     상계9동\n",
              "2776580  20200531    350      710          81  ...      M    60.0  서울 노원구     상계9동\n",
              "2776581  20200531    350      710          81  ...      M    65.0  서울 노원구     상계9동\n",
              "\n",
              "[2776582 rows x 11 columns]"
            ]
          },
          "metadata": {
            "tags": []
          },
          "execution_count": 6
        }
      ]
    },
    {
      "cell_type": "code",
      "metadata": {
        "id": "8mu2C05PElVJ",
        "outputId": "1afe1384-6e61-4953-d129-f133dbb5ed96",
        "colab": {
          "base_uri": "https://localhost:8080/",
          "height": 0
        }
      },
      "source": [
        "# 일별, 구별 ,동별 USE_AMT, USE_AMT 합\n",
        "card_group = card.groupby([\"STD_DD\",'GU_NM','HDONG_NM'], as_index=False)['USE_CNT','USE_AMT'].agg(\"sum\")\n",
        "\n",
        "# 2020, 2019 카드 데이터 분리\n",
        "card_2020 = card_group[card_group.STD_DD>=20200101] # 2020년 카드 데이터\n",
        "card_2019 = card_group[card_group.STD_DD<20200101] # 2019년 카드 데이터\n",
        "\n",
        "print(card_2020.shape, card_2019.shape)"
      ],
      "execution_count": 7,
      "outputs": [
        {
          "output_type": "stream",
          "text": [
            "(8349, 5) (8280, 5)\n"
          ],
          "name": "stdout"
        }
      ]
    },
    {
      "cell_type": "code",
      "metadata": {
        "id": "MDvZwrsUElVL",
        "outputId": "1250ac0e-b6a4-47c0-962f-368a73111460",
        "colab": {
          "base_uri": "https://localhost:8080/",
          "height": 0
        }
      },
      "source": [
        "# 카드 대분류 list dictionary\n",
        "type_list = {'10':'숙박(10)', '20':'레저용품(20)', '21':'레저업소(21)', \n",
        "            '22':'문화취미(22)', '30':'가구(30)' , '31':'전기(31)' ,\n",
        "            '32':'주방용구(32)', '33':'연료판매(33)' , '34':'광학제품(34)',\n",
        "            '35':'가전(35)', '40':'유통업(40)', '42':'의복(42)', \n",
        "            '43':'직물(43)', '44':'신변잡화(44)', '50':'서적문구(50)',\n",
        "            '52':'사무통신(52)', '60':'자동차판매(60)','62':'자동차정비(62)',\n",
        "            '70':'의료기관(70)', '71':'보건위생(71)', '80':'요식업소(80)',\n",
        "            '81':'음료식품(81)', '92':'수리서비스(92)'}\n",
        "\n",
        "# 업종 list\n",
        "MCT_CAT_CD_list = card['MCT_CAT_CD'].unique()\n",
        "MCT_CAT_CD_list = sorted(MCT_CAT_CD_list)\n",
        "MCT_CAT_CD_list = list(map(str, MCT_CAT_CD_list))\n",
        "print(len(MCT_CAT_CD_list), MCT_CAT_CD_list)"
      ],
      "execution_count": 8,
      "outputs": [
        {
          "output_type": "stream",
          "text": [
            "23 ['10', '20', '21', '22', '30', '31', '32', '33', '34', '35', '40', '42', '43', '44', '50', '52', '60', '62', '70', '71', '80', '81', '92']\n"
          ],
          "name": "stdout"
        }
      ]
    },
    {
      "cell_type": "markdown",
      "metadata": {
        "id": "SQb7YefQElVN"
      },
      "source": [
        "## 편의점(유통, GS) 데이터 (2020,2019)\n",
        "- GS 제공 편의점 데이터\n",
        "- 구조방정식, 매개효과용 데이터 변수 : gs\n",
        "- 회귀용 데이터 변수명 : gs_row -> 2020, 2019 분리해서 사용"
      ]
    },
    {
      "cell_type": "code",
      "metadata": {
        "id": "3OFpfLrjElVO",
        "outputId": "b0f4c0d3-2d7f-4251-9737-c857448cab59",
        "colab": {
          "base_uri": "https://localhost:8080/",
          "height": 0
        }
      },
      "source": [
        "# GS 데이터 가져오기\n",
        "gs = pd.read_excel('/content/drive/My Drive/big_contest/GS/유통(GS리테일).xlsx', sheet_name='종합테이블(TB_DD_STR_PURCH_CLS)')\n",
        "print(gs.shape)\n",
        "gs"
      ],
      "execution_count": 9,
      "outputs": [
        {
          "output_type": "stream",
          "text": [
            "(14460, 13)\n"
          ],
          "name": "stdout"
        },
        {
          "output_type": "execute_result",
          "data": {
            "text/html": [
              "<div>\n",
              "<style scoped>\n",
              "    .dataframe tbody tr th:only-of-type {\n",
              "        vertical-align: middle;\n",
              "    }\n",
              "\n",
              "    .dataframe tbody tr th {\n",
              "        vertical-align: top;\n",
              "    }\n",
              "\n",
              "    .dataframe thead th {\n",
              "        text-align: right;\n",
              "    }\n",
              "</style>\n",
              "<table border=\"1\" class=\"dataframe\">\n",
              "  <thead>\n",
              "    <tr style=\"text-align: right;\">\n",
              "      <th></th>\n",
              "      <th>OPER_DT</th>\n",
              "      <th>PVN</th>\n",
              "      <th>BOR</th>\n",
              "      <th>ADMD</th>\n",
              "      <th>AMT_IND</th>\n",
              "      <th>LCLS_10_P</th>\n",
              "      <th>LCLS_20_P</th>\n",
              "      <th>LCLS_30_P</th>\n",
              "      <th>LCLS_40_P</th>\n",
              "      <th>LCLS_50_P</th>\n",
              "      <th>LCLS_60_P</th>\n",
              "      <th>LCLS_70_P</th>\n",
              "      <th>LCLS_80_P</th>\n",
              "    </tr>\n",
              "  </thead>\n",
              "  <tbody>\n",
              "    <tr>\n",
              "      <th>0</th>\n",
              "      <td>20190201</td>\n",
              "      <td>대구광역시</td>\n",
              "      <td>수성구</td>\n",
              "      <td>고산1동</td>\n",
              "      <td>1.064336</td>\n",
              "      <td>0.450848</td>\n",
              "      <td>0.172221</td>\n",
              "      <td>0.295458</td>\n",
              "      <td>0.023263</td>\n",
              "      <td>0.044679</td>\n",
              "      <td>0.005075</td>\n",
              "      <td>0.004820</td>\n",
              "      <td>0.003637</td>\n",
              "    </tr>\n",
              "    <tr>\n",
              "      <th>1</th>\n",
              "      <td>20190201</td>\n",
              "      <td>대구광역시</td>\n",
              "      <td>수성구</td>\n",
              "      <td>고산2동</td>\n",
              "      <td>1.076418</td>\n",
              "      <td>0.457937</td>\n",
              "      <td>0.196274</td>\n",
              "      <td>0.295564</td>\n",
              "      <td>0.005521</td>\n",
              "      <td>0.034056</td>\n",
              "      <td>0.000844</td>\n",
              "      <td>0.008893</td>\n",
              "      <td>0.000913</td>\n",
              "    </tr>\n",
              "    <tr>\n",
              "      <th>2</th>\n",
              "      <td>20190201</td>\n",
              "      <td>대구광역시</td>\n",
              "      <td>수성구</td>\n",
              "      <td>고산3동</td>\n",
              "      <td>0.856071</td>\n",
              "      <td>0.359978</td>\n",
              "      <td>0.196602</td>\n",
              "      <td>0.376762</td>\n",
              "      <td>0.013408</td>\n",
              "      <td>0.029606</td>\n",
              "      <td>0.009117</td>\n",
              "      <td>0.008831</td>\n",
              "      <td>0.005697</td>\n",
              "    </tr>\n",
              "    <tr>\n",
              "      <th>3</th>\n",
              "      <td>20190201</td>\n",
              "      <td>대구광역시</td>\n",
              "      <td>수성구</td>\n",
              "      <td>두산동</td>\n",
              "      <td>0.724868</td>\n",
              "      <td>0.281969</td>\n",
              "      <td>0.175207</td>\n",
              "      <td>0.363202</td>\n",
              "      <td>0.024235</td>\n",
              "      <td>0.134191</td>\n",
              "      <td>0.000000</td>\n",
              "      <td>0.021196</td>\n",
              "      <td>0.000000</td>\n",
              "    </tr>\n",
              "    <tr>\n",
              "      <th>4</th>\n",
              "      <td>20190201</td>\n",
              "      <td>대구광역시</td>\n",
              "      <td>수성구</td>\n",
              "      <td>만촌1동</td>\n",
              "      <td>1.155728</td>\n",
              "      <td>0.400983</td>\n",
              "      <td>0.200454</td>\n",
              "      <td>0.310531</td>\n",
              "      <td>0.038868</td>\n",
              "      <td>0.035427</td>\n",
              "      <td>0.005284</td>\n",
              "      <td>0.005734</td>\n",
              "      <td>0.002719</td>\n",
              "    </tr>\n",
              "    <tr>\n",
              "      <th>...</th>\n",
              "      <td>...</td>\n",
              "      <td>...</td>\n",
              "      <td>...</td>\n",
              "      <td>...</td>\n",
              "      <td>...</td>\n",
              "      <td>...</td>\n",
              "      <td>...</td>\n",
              "      <td>...</td>\n",
              "      <td>...</td>\n",
              "      <td>...</td>\n",
              "      <td>...</td>\n",
              "      <td>...</td>\n",
              "      <td>...</td>\n",
              "    </tr>\n",
              "    <tr>\n",
              "      <th>14455</th>\n",
              "      <td>20200531</td>\n",
              "      <td>서울특별시</td>\n",
              "      <td>중구</td>\n",
              "      <td>중림동</td>\n",
              "      <td>1.595038</td>\n",
              "      <td>0.314217</td>\n",
              "      <td>0.221087</td>\n",
              "      <td>0.344307</td>\n",
              "      <td>0.026204</td>\n",
              "      <td>0.070094</td>\n",
              "      <td>0.006347</td>\n",
              "      <td>0.013541</td>\n",
              "      <td>0.004203</td>\n",
              "    </tr>\n",
              "    <tr>\n",
              "      <th>14456</th>\n",
              "      <td>20200531</td>\n",
              "      <td>서울특별시</td>\n",
              "      <td>중구</td>\n",
              "      <td>청구동</td>\n",
              "      <td>1.389184</td>\n",
              "      <td>0.276333</td>\n",
              "      <td>0.221216</td>\n",
              "      <td>0.363681</td>\n",
              "      <td>0.053907</td>\n",
              "      <td>0.076963</td>\n",
              "      <td>0.001592</td>\n",
              "      <td>0.000353</td>\n",
              "      <td>0.005955</td>\n",
              "    </tr>\n",
              "    <tr>\n",
              "      <th>14457</th>\n",
              "      <td>20200531</td>\n",
              "      <td>서울특별시</td>\n",
              "      <td>중구</td>\n",
              "      <td>필동</td>\n",
              "      <td>0.714265</td>\n",
              "      <td>0.303338</td>\n",
              "      <td>0.187615</td>\n",
              "      <td>0.370371</td>\n",
              "      <td>0.038908</td>\n",
              "      <td>0.079408</td>\n",
              "      <td>0.007826</td>\n",
              "      <td>0.008298</td>\n",
              "      <td>0.004236</td>\n",
              "    </tr>\n",
              "    <tr>\n",
              "      <th>14458</th>\n",
              "      <td>20200531</td>\n",
              "      <td>서울특별시</td>\n",
              "      <td>중구</td>\n",
              "      <td>황학동</td>\n",
              "      <td>1.134190</td>\n",
              "      <td>0.264708</td>\n",
              "      <td>0.257387</td>\n",
              "      <td>0.367001</td>\n",
              "      <td>0.029140</td>\n",
              "      <td>0.070770</td>\n",
              "      <td>0.001060</td>\n",
              "      <td>0.003646</td>\n",
              "      <td>0.006287</td>\n",
              "    </tr>\n",
              "    <tr>\n",
              "      <th>14459</th>\n",
              "      <td>20200531</td>\n",
              "      <td>서울특별시</td>\n",
              "      <td>중구</td>\n",
              "      <td>회현동</td>\n",
              "      <td>0.773963</td>\n",
              "      <td>0.316750</td>\n",
              "      <td>0.160035</td>\n",
              "      <td>0.410281</td>\n",
              "      <td>0.031188</td>\n",
              "      <td>0.071026</td>\n",
              "      <td>0.000000</td>\n",
              "      <td>0.009057</td>\n",
              "      <td>0.001663</td>\n",
              "    </tr>\n",
              "  </tbody>\n",
              "</table>\n",
              "<p>14460 rows × 13 columns</p>\n",
              "</div>"
            ],
            "text/plain": [
              "        OPER_DT    PVN  BOR  ADMD  ...  LCLS_50_P  LCLS_60_P  LCLS_70_P  LCLS_80_P\n",
              "0      20190201  대구광역시  수성구  고산1동  ...   0.044679   0.005075   0.004820   0.003637\n",
              "1      20190201  대구광역시  수성구  고산2동  ...   0.034056   0.000844   0.008893   0.000913\n",
              "2      20190201  대구광역시  수성구  고산3동  ...   0.029606   0.009117   0.008831   0.005697\n",
              "3      20190201  대구광역시  수성구   두산동  ...   0.134191   0.000000   0.021196   0.000000\n",
              "4      20190201  대구광역시  수성구  만촌1동  ...   0.035427   0.005284   0.005734   0.002719\n",
              "...         ...    ...  ...   ...  ...        ...        ...        ...        ...\n",
              "14455  20200531  서울특별시   중구   중림동  ...   0.070094   0.006347   0.013541   0.004203\n",
              "14456  20200531  서울특별시   중구   청구동  ...   0.076963   0.001592   0.000353   0.005955\n",
              "14457  20200531  서울특별시   중구    필동  ...   0.079408   0.007826   0.008298   0.004236\n",
              "14458  20200531  서울특별시   중구   황학동  ...   0.070770   0.001060   0.003646   0.006287\n",
              "14459  20200531  서울특별시   중구   회현동  ...   0.071026   0.000000   0.009057   0.001663\n",
              "\n",
              "[14460 rows x 13 columns]"
            ]
          },
          "metadata": {
            "tags": []
          },
          "execution_count": 9
        }
      ]
    },
    {
      "cell_type": "code",
      "metadata": {
        "id": "aQRZlCiAElVT",
        "outputId": "92471a09-9846-4e42-947d-19f4ecdaffaf",
        "colab": {
          "base_uri": "https://localhost:8080/",
          "height": 0
        }
      },
      "source": [
        "# 차후 업종별 상관계수 및 회귀 모델용 데이터 변수\n",
        "gs_row = gs.copy()\n",
        "\n",
        "# GS 데이터 필요 column 줄이기 (구조방정식, 매개효과 용 변수)\n",
        "gs.columns=['STD_DD', 'HGU_NM', 'CTGG_NM', 'HDONG_NM', 'AMT_IND', 'LCLS_10_P', 'LCLS_20_P',\n",
        "            'LCLS_30_P', 'LCLS_40_P', 'LCLS_50_P', 'LCLS_60_P', 'LCLS_70_P', 'LCLS_80_P']\n",
        "gs = gs[['STD_DD', 'HGU_NM', 'HDONG_NM', 'AMT_IND']]\n",
        "gs"
      ],
      "execution_count": 10,
      "outputs": [
        {
          "output_type": "execute_result",
          "data": {
            "text/html": [
              "<div>\n",
              "<style scoped>\n",
              "    .dataframe tbody tr th:only-of-type {\n",
              "        vertical-align: middle;\n",
              "    }\n",
              "\n",
              "    .dataframe tbody tr th {\n",
              "        vertical-align: top;\n",
              "    }\n",
              "\n",
              "    .dataframe thead th {\n",
              "        text-align: right;\n",
              "    }\n",
              "</style>\n",
              "<table border=\"1\" class=\"dataframe\">\n",
              "  <thead>\n",
              "    <tr style=\"text-align: right;\">\n",
              "      <th></th>\n",
              "      <th>STD_DD</th>\n",
              "      <th>HGU_NM</th>\n",
              "      <th>HDONG_NM</th>\n",
              "      <th>AMT_IND</th>\n",
              "    </tr>\n",
              "  </thead>\n",
              "  <tbody>\n",
              "    <tr>\n",
              "      <th>0</th>\n",
              "      <td>20190201</td>\n",
              "      <td>대구광역시</td>\n",
              "      <td>고산1동</td>\n",
              "      <td>1.064336</td>\n",
              "    </tr>\n",
              "    <tr>\n",
              "      <th>1</th>\n",
              "      <td>20190201</td>\n",
              "      <td>대구광역시</td>\n",
              "      <td>고산2동</td>\n",
              "      <td>1.076418</td>\n",
              "    </tr>\n",
              "    <tr>\n",
              "      <th>2</th>\n",
              "      <td>20190201</td>\n",
              "      <td>대구광역시</td>\n",
              "      <td>고산3동</td>\n",
              "      <td>0.856071</td>\n",
              "    </tr>\n",
              "    <tr>\n",
              "      <th>3</th>\n",
              "      <td>20190201</td>\n",
              "      <td>대구광역시</td>\n",
              "      <td>두산동</td>\n",
              "      <td>0.724868</td>\n",
              "    </tr>\n",
              "    <tr>\n",
              "      <th>4</th>\n",
              "      <td>20190201</td>\n",
              "      <td>대구광역시</td>\n",
              "      <td>만촌1동</td>\n",
              "      <td>1.155728</td>\n",
              "    </tr>\n",
              "    <tr>\n",
              "      <th>...</th>\n",
              "      <td>...</td>\n",
              "      <td>...</td>\n",
              "      <td>...</td>\n",
              "      <td>...</td>\n",
              "    </tr>\n",
              "    <tr>\n",
              "      <th>14455</th>\n",
              "      <td>20200531</td>\n",
              "      <td>서울특별시</td>\n",
              "      <td>중림동</td>\n",
              "      <td>1.595038</td>\n",
              "    </tr>\n",
              "    <tr>\n",
              "      <th>14456</th>\n",
              "      <td>20200531</td>\n",
              "      <td>서울특별시</td>\n",
              "      <td>청구동</td>\n",
              "      <td>1.389184</td>\n",
              "    </tr>\n",
              "    <tr>\n",
              "      <th>14457</th>\n",
              "      <td>20200531</td>\n",
              "      <td>서울특별시</td>\n",
              "      <td>필동</td>\n",
              "      <td>0.714265</td>\n",
              "    </tr>\n",
              "    <tr>\n",
              "      <th>14458</th>\n",
              "      <td>20200531</td>\n",
              "      <td>서울특별시</td>\n",
              "      <td>황학동</td>\n",
              "      <td>1.134190</td>\n",
              "    </tr>\n",
              "    <tr>\n",
              "      <th>14459</th>\n",
              "      <td>20200531</td>\n",
              "      <td>서울특별시</td>\n",
              "      <td>회현동</td>\n",
              "      <td>0.773963</td>\n",
              "    </tr>\n",
              "  </tbody>\n",
              "</table>\n",
              "<p>14460 rows × 4 columns</p>\n",
              "</div>"
            ],
            "text/plain": [
              "         STD_DD HGU_NM HDONG_NM   AMT_IND\n",
              "0      20190201  대구광역시     고산1동  1.064336\n",
              "1      20190201  대구광역시     고산2동  1.076418\n",
              "2      20190201  대구광역시     고산3동  0.856071\n",
              "3      20190201  대구광역시      두산동  0.724868\n",
              "4      20190201  대구광역시     만촌1동  1.155728\n",
              "...         ...    ...      ...       ...\n",
              "14455  20200531  서울특별시      중림동  1.595038\n",
              "14456  20200531  서울특별시      청구동  1.389184\n",
              "14457  20200531  서울특별시       필동  0.714265\n",
              "14458  20200531  서울특별시      황학동  1.134190\n",
              "14459  20200531  서울특별시      회현동  0.773963\n",
              "\n",
              "[14460 rows x 4 columns]"
            ]
          },
          "metadata": {
            "tags": []
          },
          "execution_count": 10
        }
      ]
    },
    {
      "cell_type": "code",
      "metadata": {
        "id": "zksIO7psElVW"
      },
      "source": [
        "# 유통 GS 품목별 대분류 list dictionary\n",
        "circulation_list = {'mul_LCLS_10_P':'식사',\n",
        "                    'mul_LCLS_20_P':'간식',\n",
        "                    'mul_LCLS_30_P':'마실거리',\n",
        "                    'mul_LCLS_40_P':'홈&리빙',\n",
        "                    'mul_LCLS_50_P':'헬스&뷰티',\n",
        "                    'mul_LCLS_60_P':'취미&여가활동_비중',\n",
        "                    'mul_LCLS_70_P':'사회활동_비중',\n",
        "                    'mul_LCLS_80_P':'임신/육아_비중',\n",
        "                    'mul_LCLS_90_P':'기호품_비중'}\n",
        "\n",
        "# 유통 GS 품목별 대분류 list dictionary\n",
        "circulation_list_reverse = {'식사':               'mul_LCLS_10_P',\n",
        "                            '간식':               'mul_LCLS_20_P',\n",
        "                            '마실거리' :          'mul_LCLS_30_P',\n",
        "                            '홈&리빙':            'mul_LCLS_40_P',\n",
        "                            '헬스&뷰티':          'mul_LCLS_50_P',\n",
        "                            '취미&여가활동_비중': 'mul_LCLS_60_P',\n",
        "                            '사회활동_비중':      'mul_LCLS_70_P',\n",
        "                            '임신/육아_비중':     'mul_LCLS_80_P',\n",
        "                            '기호품_비중':        'mul_LCLS_90_P'}"
      ],
      "execution_count": 11,
      "outputs": []
    },
    {
      "cell_type": "markdown",
      "metadata": {
        "id": "c5AVOfOnElVY"
      },
      "source": [
        "## 코로나 데이터 (2020)\n",
        "- 출처 : https://github.com/jooeungen/coronaboard_kr // CoronaBoard_kr 깃허브 \n",
        "- 출처 : http://ncov.mohw.go.kr/ // corona board에서 참조한 질병관리본부 링크\n",
        "- <b>CoronaBoard data - Available Commercial & Non-commercial</b>\n",
        "  - kr_daily.csv (코로나 일일 확진자 수 - 누적) (원본)\n",
        "  - kr_regional_data.csv (코로나 지역별  일일 확진자 수 - 누적 )(원본)\n",
        "\n",
        "- <b>사용데이터 : 코로나 일일 확진자 수 데이터 (전국, 서울, 대구)</b>\n",
        "  - <b>위 출처 데이터를 1차 가공(차분)한 데이터 (누적 -> 일일) </b>\n",
        "  - 기간 : 20200201 ~ 20200601 데이터 사용\n",
        "  - covid_all.csv : 전국 코로나 일일 확진자 수\n",
        "  - corona_seoul.csv : 서울지역 코로나 일일 확진자 수\n",
        "  - corona_daegu.csv : 대구지역 코로나 일일 확진자 수\n",
        "  - 코로나 데이터는 하루씩 당겨서 사용\n",
        "  "
      ]
    },
    {
      "cell_type": "code",
      "metadata": {
        "id": "7UUZz2QLElVZ",
        "outputId": "e80f053c-956e-4f2c-96e7-ec394ab98133",
        "colab": {
          "base_uri": "https://localhost:8080/",
          "height": 0
        }
      },
      "source": [
        "# 코로나 전국 확진자 데이터\n",
        "covid = pd.read_csv(\"/content/drive/My Drive/big_contest/corona/covid_all.csv\", index_col=0, encoding=\"cp949\")\n",
        "\n",
        "# 서울, 대구 각각의 지역 확진자 데이터\n",
        "covid_seoul = pd.read_csv(\"/content/drive/My Drive/big_contest/corona/corona_seoul.csv\", index_col=0, encoding=\"cp949\")\n",
        "covid_daegu = pd.read_csv(\"/content/drive/My Drive/big_contest/corona/corona_daegu.csv\", index_col=0, encoding=\"cp949\")\n",
        "\n",
        "# 전국 코로나 데이터\n",
        "covid = covid.reset_index()\n",
        "covid.columns = ['STD_DD','confirmed']\n",
        "covid"
      ],
      "execution_count": 12,
      "outputs": [
        {
          "output_type": "execute_result",
          "data": {
            "text/html": [
              "<div>\n",
              "<style scoped>\n",
              "    .dataframe tbody tr th:only-of-type {\n",
              "        vertical-align: middle;\n",
              "    }\n",
              "\n",
              "    .dataframe tbody tr th {\n",
              "        vertical-align: top;\n",
              "    }\n",
              "\n",
              "    .dataframe thead th {\n",
              "        text-align: right;\n",
              "    }\n",
              "</style>\n",
              "<table border=\"1\" class=\"dataframe\">\n",
              "  <thead>\n",
              "    <tr style=\"text-align: right;\">\n",
              "      <th></th>\n",
              "      <th>STD_DD</th>\n",
              "      <th>confirmed</th>\n",
              "    </tr>\n",
              "  </thead>\n",
              "  <tbody>\n",
              "    <tr>\n",
              "      <th>0</th>\n",
              "      <td>20200201</td>\n",
              "      <td>4</td>\n",
              "    </tr>\n",
              "    <tr>\n",
              "      <th>1</th>\n",
              "      <td>20200202</td>\n",
              "      <td>1</td>\n",
              "    </tr>\n",
              "    <tr>\n",
              "      <th>2</th>\n",
              "      <td>20200203</td>\n",
              "      <td>3</td>\n",
              "    </tr>\n",
              "    <tr>\n",
              "      <th>3</th>\n",
              "      <td>20200204</td>\n",
              "      <td>0</td>\n",
              "    </tr>\n",
              "    <tr>\n",
              "      <th>4</th>\n",
              "      <td>20200205</td>\n",
              "      <td>1</td>\n",
              "    </tr>\n",
              "    <tr>\n",
              "      <th>...</th>\n",
              "      <td>...</td>\n",
              "      <td>...</td>\n",
              "    </tr>\n",
              "    <tr>\n",
              "      <th>179</th>\n",
              "      <td>20200729</td>\n",
              "      <td>28</td>\n",
              "    </tr>\n",
              "    <tr>\n",
              "      <th>180</th>\n",
              "      <td>20200730</td>\n",
              "      <td>48</td>\n",
              "    </tr>\n",
              "    <tr>\n",
              "      <th>181</th>\n",
              "      <td>20200731</td>\n",
              "      <td>18</td>\n",
              "    </tr>\n",
              "    <tr>\n",
              "      <th>182</th>\n",
              "      <td>20200801</td>\n",
              "      <td>36</td>\n",
              "    </tr>\n",
              "    <tr>\n",
              "      <th>183</th>\n",
              "      <td>20200802</td>\n",
              "      <td>31</td>\n",
              "    </tr>\n",
              "  </tbody>\n",
              "</table>\n",
              "<p>184 rows × 2 columns</p>\n",
              "</div>"
            ],
            "text/plain": [
              "       STD_DD  confirmed\n",
              "0    20200201          4\n",
              "1    20200202          1\n",
              "2    20200203          3\n",
              "3    20200204          0\n",
              "4    20200205          1\n",
              "..        ...        ...\n",
              "179  20200729         28\n",
              "180  20200730         48\n",
              "181  20200731         18\n",
              "182  20200801         36\n",
              "183  20200802         31\n",
              "\n",
              "[184 rows x 2 columns]"
            ]
          },
          "metadata": {
            "tags": []
          },
          "execution_count": 12
        }
      ]
    },
    {
      "cell_type": "code",
      "metadata": {
        "id": "VFJsUd5AElVb",
        "outputId": "a873d566-6450-4a74-ecef-31c699c5218d",
        "colab": {
          "base_uri": "https://localhost:8080/",
          "height": 0
        }
      },
      "source": [
        "# corona 지역 데이터 (서울, 대구)\n",
        "covid_seoul = covid_seoul[['date','confirmed_diff']]\n",
        "covid_seoul.columns=['STD_DD','seoul_confirmed']\n",
        "covid_daegu = covid_daegu[['date','confirmed_diff']]\n",
        "covid_daegu.columns=['STD_DD','daegu_confirmed']\n",
        "\n",
        "# 서울, 대구 코로나 데이터\n",
        "print(covid_seoul.shape, covid_daegu.shape)\n",
        "covid_seoul.head(3)"
      ],
      "execution_count": 13,
      "outputs": [
        {
          "output_type": "stream",
          "text": [
            "(121, 2) (121, 2)\n"
          ],
          "name": "stdout"
        },
        {
          "output_type": "execute_result",
          "data": {
            "text/html": [
              "<div>\n",
              "<style scoped>\n",
              "    .dataframe tbody tr th:only-of-type {\n",
              "        vertical-align: middle;\n",
              "    }\n",
              "\n",
              "    .dataframe tbody tr th {\n",
              "        vertical-align: top;\n",
              "    }\n",
              "\n",
              "    .dataframe thead th {\n",
              "        text-align: right;\n",
              "    }\n",
              "</style>\n",
              "<table border=\"1\" class=\"dataframe\">\n",
              "  <thead>\n",
              "    <tr style=\"text-align: right;\">\n",
              "      <th></th>\n",
              "      <th>STD_DD</th>\n",
              "      <th>seoul_confirmed</th>\n",
              "    </tr>\n",
              "  </thead>\n",
              "  <tbody>\n",
              "    <tr>\n",
              "      <th>1</th>\n",
              "      <td>20200201</td>\n",
              "      <td>0</td>\n",
              "    </tr>\n",
              "    <tr>\n",
              "      <th>2</th>\n",
              "      <td>20200202</td>\n",
              "      <td>1</td>\n",
              "    </tr>\n",
              "    <tr>\n",
              "      <th>3</th>\n",
              "      <td>20200203</td>\n",
              "      <td>0</td>\n",
              "    </tr>\n",
              "  </tbody>\n",
              "</table>\n",
              "</div>"
            ],
            "text/plain": [
              "     STD_DD  seoul_confirmed\n",
              "1  20200201                0\n",
              "2  20200202                1\n",
              "3  20200203                0"
            ]
          },
          "metadata": {
            "tags": []
          },
          "execution_count": 13
        }
      ]
    },
    {
      "cell_type": "markdown",
      "metadata": {
        "id": "YRPdU7WZElVf"
      },
      "source": [
        "## 휴일여부 데이터 (2019, 2020)\n",
        "- 2019년, 2020년 휴일 여부 데이터\n",
        "- 직접 데이터 수작업 작성\n",
        "- 명절 및 연휴, 대체휴일 등 반영"
      ]
    },
    {
      "cell_type": "code",
      "metadata": {
        "id": "n7ywDNzUElVf",
        "outputId": "8bf4c7c2-2899-48d1-bc6d-7f36622ca8d4",
        "colab": {
          "base_uri": "https://localhost:8080/",
          "height": 0
        }
      },
      "source": [
        "# 2019, 2020 휴일 여부 데이터\n",
        "holiday = pd.read_csv(\"/content/drive/My Drive/big_contest/holiday/holiday.csv\")\n",
        "\n",
        "print(holiday.shape)\n",
        "holiday"
      ],
      "execution_count": 14,
      "outputs": [
        {
          "output_type": "stream",
          "text": [
            "(241, 3)\n"
          ],
          "name": "stdout"
        },
        {
          "output_type": "execute_result",
          "data": {
            "text/html": [
              "<div>\n",
              "<style scoped>\n",
              "    .dataframe tbody tr th:only-of-type {\n",
              "        vertical-align: middle;\n",
              "    }\n",
              "\n",
              "    .dataframe tbody tr th {\n",
              "        vertical-align: top;\n",
              "    }\n",
              "\n",
              "    .dataframe thead th {\n",
              "        text-align: right;\n",
              "    }\n",
              "</style>\n",
              "<table border=\"1\" class=\"dataframe\">\n",
              "  <thead>\n",
              "    <tr style=\"text-align: right;\">\n",
              "      <th></th>\n",
              "      <th>date</th>\n",
              "      <th>day</th>\n",
              "      <th>weekend</th>\n",
              "    </tr>\n",
              "  </thead>\n",
              "  <tbody>\n",
              "    <tr>\n",
              "      <th>0</th>\n",
              "      <td>20190201</td>\n",
              "      <td>4</td>\n",
              "      <td>0</td>\n",
              "    </tr>\n",
              "    <tr>\n",
              "      <th>1</th>\n",
              "      <td>20190202</td>\n",
              "      <td>5</td>\n",
              "      <td>1</td>\n",
              "    </tr>\n",
              "    <tr>\n",
              "      <th>2</th>\n",
              "      <td>20190203</td>\n",
              "      <td>6</td>\n",
              "      <td>1</td>\n",
              "    </tr>\n",
              "    <tr>\n",
              "      <th>3</th>\n",
              "      <td>20190204</td>\n",
              "      <td>0</td>\n",
              "      <td>1</td>\n",
              "    </tr>\n",
              "    <tr>\n",
              "      <th>4</th>\n",
              "      <td>20190205</td>\n",
              "      <td>1</td>\n",
              "      <td>1</td>\n",
              "    </tr>\n",
              "    <tr>\n",
              "      <th>...</th>\n",
              "      <td>...</td>\n",
              "      <td>...</td>\n",
              "      <td>...</td>\n",
              "    </tr>\n",
              "    <tr>\n",
              "      <th>236</th>\n",
              "      <td>20200527</td>\n",
              "      <td>2</td>\n",
              "      <td>0</td>\n",
              "    </tr>\n",
              "    <tr>\n",
              "      <th>237</th>\n",
              "      <td>20200528</td>\n",
              "      <td>3</td>\n",
              "      <td>0</td>\n",
              "    </tr>\n",
              "    <tr>\n",
              "      <th>238</th>\n",
              "      <td>20200529</td>\n",
              "      <td>4</td>\n",
              "      <td>0</td>\n",
              "    </tr>\n",
              "    <tr>\n",
              "      <th>239</th>\n",
              "      <td>20200530</td>\n",
              "      <td>5</td>\n",
              "      <td>1</td>\n",
              "    </tr>\n",
              "    <tr>\n",
              "      <th>240</th>\n",
              "      <td>20200531</td>\n",
              "      <td>6</td>\n",
              "      <td>1</td>\n",
              "    </tr>\n",
              "  </tbody>\n",
              "</table>\n",
              "<p>241 rows × 3 columns</p>\n",
              "</div>"
            ],
            "text/plain": [
              "         date  day  weekend\n",
              "0    20190201    4        0\n",
              "1    20190202    5        1\n",
              "2    20190203    6        1\n",
              "3    20190204    0        1\n",
              "4    20190205    1        1\n",
              "..        ...  ...      ...\n",
              "236  20200527    2        0\n",
              "237  20200528    3        0\n",
              "238  20200529    4        0\n",
              "239  20200530    5        1\n",
              "240  20200531    6        1\n",
              "\n",
              "[241 rows x 3 columns]"
            ]
          },
          "metadata": {
            "tags": []
          },
          "execution_count": 14
        }
      ]
    },
    {
      "cell_type": "code",
      "metadata": {
        "id": "TQaZTUTvElVm",
        "outputId": "dd65e00c-578d-4025-c9ff-2e040ed0e58e",
        "colab": {
          "base_uri": "https://localhost:8080/",
          "height": 0
        }
      },
      "source": [
        "# 컬럼명 변경, type 변경\n",
        "holiday.columns = ['STD_DD','day','weekend']\n",
        "\n",
        "holiday['STD_DD'] = holiday['STD_DD'].astype(str)\n",
        "holiday['STD_DD'] = holiday['STD_DD'].str.replace(\"-\",\"\")\n",
        "holiday['STD_DD'] = holiday['STD_DD'].astype(int)\n",
        "holiday"
      ],
      "execution_count": 15,
      "outputs": [
        {
          "output_type": "execute_result",
          "data": {
            "text/html": [
              "<div>\n",
              "<style scoped>\n",
              "    .dataframe tbody tr th:only-of-type {\n",
              "        vertical-align: middle;\n",
              "    }\n",
              "\n",
              "    .dataframe tbody tr th {\n",
              "        vertical-align: top;\n",
              "    }\n",
              "\n",
              "    .dataframe thead th {\n",
              "        text-align: right;\n",
              "    }\n",
              "</style>\n",
              "<table border=\"1\" class=\"dataframe\">\n",
              "  <thead>\n",
              "    <tr style=\"text-align: right;\">\n",
              "      <th></th>\n",
              "      <th>STD_DD</th>\n",
              "      <th>day</th>\n",
              "      <th>weekend</th>\n",
              "    </tr>\n",
              "  </thead>\n",
              "  <tbody>\n",
              "    <tr>\n",
              "      <th>0</th>\n",
              "      <td>20190201</td>\n",
              "      <td>4</td>\n",
              "      <td>0</td>\n",
              "    </tr>\n",
              "    <tr>\n",
              "      <th>1</th>\n",
              "      <td>20190202</td>\n",
              "      <td>5</td>\n",
              "      <td>1</td>\n",
              "    </tr>\n",
              "    <tr>\n",
              "      <th>2</th>\n",
              "      <td>20190203</td>\n",
              "      <td>6</td>\n",
              "      <td>1</td>\n",
              "    </tr>\n",
              "    <tr>\n",
              "      <th>3</th>\n",
              "      <td>20190204</td>\n",
              "      <td>0</td>\n",
              "      <td>1</td>\n",
              "    </tr>\n",
              "    <tr>\n",
              "      <th>4</th>\n",
              "      <td>20190205</td>\n",
              "      <td>1</td>\n",
              "      <td>1</td>\n",
              "    </tr>\n",
              "    <tr>\n",
              "      <th>...</th>\n",
              "      <td>...</td>\n",
              "      <td>...</td>\n",
              "      <td>...</td>\n",
              "    </tr>\n",
              "    <tr>\n",
              "      <th>236</th>\n",
              "      <td>20200527</td>\n",
              "      <td>2</td>\n",
              "      <td>0</td>\n",
              "    </tr>\n",
              "    <tr>\n",
              "      <th>237</th>\n",
              "      <td>20200528</td>\n",
              "      <td>3</td>\n",
              "      <td>0</td>\n",
              "    </tr>\n",
              "    <tr>\n",
              "      <th>238</th>\n",
              "      <td>20200529</td>\n",
              "      <td>4</td>\n",
              "      <td>0</td>\n",
              "    </tr>\n",
              "    <tr>\n",
              "      <th>239</th>\n",
              "      <td>20200530</td>\n",
              "      <td>5</td>\n",
              "      <td>1</td>\n",
              "    </tr>\n",
              "    <tr>\n",
              "      <th>240</th>\n",
              "      <td>20200531</td>\n",
              "      <td>6</td>\n",
              "      <td>1</td>\n",
              "    </tr>\n",
              "  </tbody>\n",
              "</table>\n",
              "<p>241 rows × 3 columns</p>\n",
              "</div>"
            ],
            "text/plain": [
              "       STD_DD  day  weekend\n",
              "0    20190201    4        0\n",
              "1    20190202    5        1\n",
              "2    20190203    6        1\n",
              "3    20190204    0        1\n",
              "4    20190205    1        1\n",
              "..        ...  ...      ...\n",
              "236  20200527    2        0\n",
              "237  20200528    3        0\n",
              "238  20200529    4        0\n",
              "239  20200530    5        1\n",
              "240  20200531    6        1\n",
              "\n",
              "[241 rows x 3 columns]"
            ]
          },
          "metadata": {
            "tags": []
          },
          "execution_count": 15
        }
      ]
    },
    {
      "cell_type": "markdown",
      "metadata": {
        "id": "ToblNNKyElVo"
      },
      "source": [
        "## 서울 대구 행정동 리스트\n",
        "- 서울 중구/노원구 행정동 리스트\n",
        "- 대구 중구/수성구 행정동 리스트"
      ]
    },
    {
      "cell_type": "code",
      "metadata": {
        "id": "uCRR0eUzElVp"
      },
      "source": [
        "# 분석의 편의를 위해 서울시 중구, 서울시 노원구, 대구시 중구, 대구시 수성구 동별로 리스트 생성\n",
        "seoul_jung_list = ['소공동', '회현동', '명동', '필동', '장충동', '광희동', '을지로동', '신당동', '다산동','약수동', '청구동', '신당5동', '동화동', '황학동', '중림동']\n",
        "seoul_nowon_list = ['월계1동', '월계2동', '월계3동','공릉1동', '공릉2동', '하계1동', '하계2동', '중계본동', '중계1동', '중계4동', '중계2.3동','상계1동', '상계2동', '상계3.4동', '상계5동', '상계6.7동', '상계8동', '상계9동','상계10동']\n",
        "daegu_jung_list = ['동인동', '삼덕동', '성내1동', '성내2동', '성내3동', '대신동', '남산1동', '남산2동', '남산3동', '남산4동', '대봉1동', '대봉2동']\n",
        "daegu_suseong_list = ['범어1동', '범어2동', '범어3동', '범어4동', '만촌1동', '만촌2동', '만촌3동', '수성1가동', '수성2.3가동', '수성4가동', '황금1동', \n",
        "                      '황금2동', '중동', '상동', '파동', '두산동', '지산1동', '지산2동', '범물1동', '범물2동', '고산1동', '고산2동', '고산3동']"
      ],
      "execution_count": 16,
      "outputs": []
    },
    {
      "cell_type": "markdown",
      "metadata": {
        "id": "-vFsPGApNAQx"
      },
      "source": [
        "# 4.부트스트래핑\n",
        "- 비정규성 분포에서 매개효과 가설검증(test)을 하기 위한 Bootstraping 진행\n",
        "- 매개효과는 2개의 통계량을 곱한 값이기 때문에 중심극한 정리로 정규성을 가정불가\n",
        "- 따라서 해당 데이터를 가지고 10000번의 30% random sampling을 통해 모집단을 대표할 수 있는 분포를 생성\n",
        "- 그 후 95% 신뢰구간에서 0이 포함된 매개효과 통계량을 통계적으로 유의하지 않다고 판단\n",
        "\n",
        "- 매개효과 동리스트 결과 csv\n",
        "  - mediation_result.csv\n",
        "\n",
        "- 부트스트래핑 진행 output csv\n",
        "  - 카드평일부트스트래핑_신뢰95_비표준화_10000.csv"
      ]
    },
    {
      "cell_type": "code",
      "metadata": {
        "id": "01kghnGWiZ6z",
        "outputId": "e8d126fe-08ba-46b2-e82c-e98b9d373c3e",
        "colab": {
          "base_uri": "https://localhost:8080/",
          "height": 178
        }
      },
      "source": [
        "# 매개효과 결과\n",
        "mediation_result = pd.read_csv('/content/drive/My Drive/big_contest/bootstraping/mediation_result.csv', encoding='cp949')\n",
        "\n",
        "# 매개 효과 존재 리스트\n",
        "card_weekday_list = mediation_result.iloc[0, ].values[0].split(',')\n",
        "card_weekend_list = mediation_result.iloc[1, ].values[0].split(',')\n",
        "gs_weekday_list = mediation_result.iloc[2, ].values[0].split(',')\n",
        "gs_weekend_list = mediation_result.iloc[3, ].values[0].split(',')\n",
        "\n",
        "print('카드 평일 매개 존재 검증 리스트 : ', len(card_weekday_list), card_weekday_list,'\\n')\n",
        "print('카드 휴일 매개 존재 검증 리스트 : ', len(card_weekend_list), card_weekend_list,'\\n')\n",
        "print('편의점 평일 매개 존재 검증 리스트 : ', len(gs_weekday_list), gs_weekday_list, '\\n')\n",
        "print('편의점 휴일 매개 존재 검증 리스트 : ', len(gs_weekend_list), gs_weekend_list, '\\n')"
      ],
      "execution_count": 17,
      "outputs": [
        {
          "output_type": "stream",
          "text": [
            "카드 평일 매개 존재 검증 리스트 :  69 ['고산1동', '고산2동', '고산3동', '두산동', '만촌1동', '만촌2동', '만촌3동', '범물1동', '범물2동', '범어1동', '범어2동', '범어3동', '범어4동', '상동', '수성1가동', '수성2.3가동', '수성4가동', '중동', '지산1동', '지산2동', '파동', '황금1동', '황금2동', '남산1동', '남산2동', '남산3동', '남산4동', '대봉1동', '대봉2동', '대신동', '동인동', '삼덕동', '성내1동', '성내2동', '성내3동', '공릉1동', '공릉2동', '상계10동', '상계1동', '상계2동', '상계3.4동', '상계5동', '상계6.7동', '상계8동', '상계9동', '월계1동', '월계2동', '월계3동', '중계1동', '중계2.3동', '중계4동', '중계본동', '하계1동', '하계2동', '광희동', '다산동', '동화동', '명동', '소공동', '신당5동', '신당동', '약수동', '을지로동', '장충동', '중림동', '청구동', '필동', '황학동', '회현동'] \n",
            "\n",
            "카드 휴일 매개 존재 검증 리스트 :  69 ['고산1동', '고산2동', '고산3동', '두산동', '만촌1동', '만촌2동', '만촌3동', '범물1동', '범물2동', '범어1동', '범어2동', '범어3동', '범어4동', '상동', '수성1가동', '수성2.3가동', '수성4가동', '중동', '지산1동', '지산2동', '파동', '황금1동', '황금2동', '남산1동', '남산2동', '남산3동', '남산4동', '대봉1동', '대봉2동', '대신동', '동인동', '삼덕동', '성내1동', '성내2동', '성내3동', '공릉1동', '공릉2동', '상계10동', '상계1동', '상계2동', '상계3.4동', '상계5동', '상계6.7동', '상계8동', '상계9동', '월계1동', '월계2동', '월계3동', '중계1동', '중계2.3동', '중계4동', '중계본동', '하계1동', '하계2동', '광희동', '다산동', '동화동', '명동', '소공동', '신당5동', '신당동', '약수동', '을지로동', '장충동', '중림동', '청구동', '필동', '황학동', '회현동'] \n",
            "\n",
            "편의점 평일 매개 존재 검증 리스트 :  60 ['고산1동', '고산2동', '고산3동', '두산동', '만촌1동', '만촌3동', '범물1동', '범물2동', '범어1동', '범어2동', '범어3동', '범어4동', '수성1가동', '수성2.3가동', '수성4가동', '중동', '지산1동', '지산2동', '황금1동', '황금2동', '남산1동', '남산4동', '동인동', '삼덕동', '성내1동', '성내2동', '성내3동', '공릉1동', '공릉2동', '상계10동', '상계1동', '상계2동', '상계3.4동', '상계5동', '상계6.7동', '상계9동', '월계1동', '월계2동', '월계3동', '중계1동', '중계2.3동', '중계4동', '중계본동', '하계1동', '하계2동', '광희동', '다산동', '동화동', '명동', '소공동', '신당5동', '신당동', '약수동', '을지로동', '장충동', '중림동', '청구동', '필동', '황학동', '회현동'] \n",
            "\n",
            "편의점 휴일 매개 존재 검증 리스트 :  60 ['고산1동', '고산2동', '고산3동', '두산동', '만촌1동', '만촌3동', '범물1동', '범물2동', '범어1동', '범어2동', '범어3동', '범어4동', '수성1가동', '수성2.3가동', '수성4가동', '중동', '지산1동', '지산2동', '황금1동', '황금2동', '남산1동', '남산4동', '동인동', '삼덕동', '성내1동', '성내2동', '성내3동', '공릉1동', '공릉2동', '상계10동', '상계1동', '상계2동', '상계3.4동', '상계5동', '상계6.7동', '상계9동', '월계1동', '월계2동', '월계3동', '중계1동', '중계2.3동', '중계4동', '중계본동', '하계1동', '하계2동', '광희동', '다산동', '동화동', '명동', '소공동', '신당5동', '신당동', '약수동', '을지로동', '장충동', '중림동', '청구동', '필동', '황학동', '회현동'] \n",
            "\n"
          ],
          "name": "stdout"
        }
      ]
    },
    {
      "cell_type": "markdown",
      "metadata": {
        "id": "EN_Z9Rms25a9"
      },
      "source": [
        "## 카드데이터부트스트래핑-평일,휴일\n",
        "- card_weekday_list : 카드 평일 매개\n",
        "- card_weekend_list : 카드 휴일 매개\n"
      ]
    },
    {
      "cell_type": "code",
      "metadata": {
        "id": "VqI-j-V827hJ",
        "outputId": "b104d597-e037-4a5f-ab4e-bd40d1672d18",
        "colab": {
          "base_uri": "https://localhost:8080/",
          "height": 406
        }
      },
      "source": [
        "# 카드 + 코로나 + 휴일 + 유동인구\n",
        "all=pd.merge(covid, card_group, on='STD_DD')\n",
        "all=pd.merge(all, skt_2020, on=['STD_DD','HDONG_NM'])\n",
        "all=pd.merge(all, holiday, on ='STD_DD')\n",
        "all"
      ],
      "execution_count": 18,
      "outputs": [
        {
          "output_type": "execute_result",
          "data": {
            "text/html": [
              "<div>\n",
              "<style scoped>\n",
              "    .dataframe tbody tr th:only-of-type {\n",
              "        vertical-align: middle;\n",
              "    }\n",
              "\n",
              "    .dataframe tbody tr th {\n",
              "        vertical-align: top;\n",
              "    }\n",
              "\n",
              "    .dataframe thead th {\n",
              "        text-align: right;\n",
              "    }\n",
              "</style>\n",
              "<table border=\"1\" class=\"dataframe\">\n",
              "  <thead>\n",
              "    <tr style=\"text-align: right;\">\n",
              "      <th></th>\n",
              "      <th>STD_DD</th>\n",
              "      <th>confirmed</th>\n",
              "      <th>GU_NM</th>\n",
              "      <th>HDONG_NM</th>\n",
              "      <th>USE_CNT</th>\n",
              "      <th>USE_AMT</th>\n",
              "      <th>sum_20</th>\n",
              "      <th>day</th>\n",
              "      <th>weekend</th>\n",
              "    </tr>\n",
              "  </thead>\n",
              "  <tbody>\n",
              "    <tr>\n",
              "      <th>0</th>\n",
              "      <td>20200201</td>\n",
              "      <td>4</td>\n",
              "      <td>대구 수성구</td>\n",
              "      <td>고산1동</td>\n",
              "      <td>14352</td>\n",
              "      <td>349206.0</td>\n",
              "      <td>132881.50</td>\n",
              "      <td>5</td>\n",
              "      <td>1</td>\n",
              "    </tr>\n",
              "    <tr>\n",
              "      <th>1</th>\n",
              "      <td>20200201</td>\n",
              "      <td>4</td>\n",
              "      <td>대구 수성구</td>\n",
              "      <td>고산2동</td>\n",
              "      <td>10433</td>\n",
              "      <td>388755.0</td>\n",
              "      <td>232618.75</td>\n",
              "      <td>5</td>\n",
              "      <td>1</td>\n",
              "    </tr>\n",
              "    <tr>\n",
              "      <th>2</th>\n",
              "      <td>20200201</td>\n",
              "      <td>4</td>\n",
              "      <td>대구 수성구</td>\n",
              "      <td>고산3동</td>\n",
              "      <td>10618</td>\n",
              "      <td>232179.0</td>\n",
              "      <td>49579.14</td>\n",
              "      <td>5</td>\n",
              "      <td>1</td>\n",
              "    </tr>\n",
              "    <tr>\n",
              "      <th>3</th>\n",
              "      <td>20200201</td>\n",
              "      <td>4</td>\n",
              "      <td>대구 수성구</td>\n",
              "      <td>두산동</td>\n",
              "      <td>17469</td>\n",
              "      <td>726841.0</td>\n",
              "      <td>96455.73</td>\n",
              "      <td>5</td>\n",
              "      <td>1</td>\n",
              "    </tr>\n",
              "    <tr>\n",
              "      <th>4</th>\n",
              "      <td>20200201</td>\n",
              "      <td>4</td>\n",
              "      <td>대구 수성구</td>\n",
              "      <td>만촌1동</td>\n",
              "      <td>10964</td>\n",
              "      <td>628024.0</td>\n",
              "      <td>104249.83</td>\n",
              "      <td>5</td>\n",
              "      <td>1</td>\n",
              "    </tr>\n",
              "    <tr>\n",
              "      <th>...</th>\n",
              "      <td>...</td>\n",
              "      <td>...</td>\n",
              "      <td>...</td>\n",
              "      <td>...</td>\n",
              "      <td>...</td>\n",
              "      <td>...</td>\n",
              "      <td>...</td>\n",
              "      <td>...</td>\n",
              "      <td>...</td>\n",
              "    </tr>\n",
              "    <tr>\n",
              "      <th>8344</th>\n",
              "      <td>20200531</td>\n",
              "      <td>39</td>\n",
              "      <td>서울 중구</td>\n",
              "      <td>중림동</td>\n",
              "      <td>7713</td>\n",
              "      <td>209653.0</td>\n",
              "      <td>21982.16</td>\n",
              "      <td>6</td>\n",
              "      <td>1</td>\n",
              "    </tr>\n",
              "    <tr>\n",
              "      <th>8345</th>\n",
              "      <td>20200531</td>\n",
              "      <td>39</td>\n",
              "      <td>서울 중구</td>\n",
              "      <td>청구동</td>\n",
              "      <td>4061</td>\n",
              "      <td>67182.0</td>\n",
              "      <td>15985.86</td>\n",
              "      <td>6</td>\n",
              "      <td>1</td>\n",
              "    </tr>\n",
              "    <tr>\n",
              "      <th>8346</th>\n",
              "      <td>20200531</td>\n",
              "      <td>39</td>\n",
              "      <td>서울 중구</td>\n",
              "      <td>필동</td>\n",
              "      <td>10271</td>\n",
              "      <td>213727.0</td>\n",
              "      <td>53756.05</td>\n",
              "      <td>6</td>\n",
              "      <td>1</td>\n",
              "    </tr>\n",
              "    <tr>\n",
              "      <th>8347</th>\n",
              "      <td>20200531</td>\n",
              "      <td>39</td>\n",
              "      <td>서울 중구</td>\n",
              "      <td>황학동</td>\n",
              "      <td>12780</td>\n",
              "      <td>389885.0</td>\n",
              "      <td>28761.22</td>\n",
              "      <td>6</td>\n",
              "      <td>1</td>\n",
              "    </tr>\n",
              "    <tr>\n",
              "      <th>8348</th>\n",
              "      <td>20200531</td>\n",
              "      <td>39</td>\n",
              "      <td>서울 중구</td>\n",
              "      <td>회현동</td>\n",
              "      <td>46965</td>\n",
              "      <td>2927720.0</td>\n",
              "      <td>104740.08</td>\n",
              "      <td>6</td>\n",
              "      <td>1</td>\n",
              "    </tr>\n",
              "  </tbody>\n",
              "</table>\n",
              "<p>8349 rows × 9 columns</p>\n",
              "</div>"
            ],
            "text/plain": [
              "        STD_DD  confirmed   GU_NM HDONG_NM  ...    USE_AMT     sum_20  day  weekend\n",
              "0     20200201          4  대구 수성구     고산1동  ...   349206.0  132881.50    5        1\n",
              "1     20200201          4  대구 수성구     고산2동  ...   388755.0  232618.75    5        1\n",
              "2     20200201          4  대구 수성구     고산3동  ...   232179.0   49579.14    5        1\n",
              "3     20200201          4  대구 수성구      두산동  ...   726841.0   96455.73    5        1\n",
              "4     20200201          4  대구 수성구     만촌1동  ...   628024.0  104249.83    5        1\n",
              "...        ...        ...     ...      ...  ...        ...        ...  ...      ...\n",
              "8344  20200531         39   서울 중구      중림동  ...   209653.0   21982.16    6        1\n",
              "8345  20200531         39   서울 중구      청구동  ...    67182.0   15985.86    6        1\n",
              "8346  20200531         39   서울 중구       필동  ...   213727.0   53756.05    6        1\n",
              "8347  20200531         39   서울 중구      황학동  ...   389885.0   28761.22    6        1\n",
              "8348  20200531         39   서울 중구      회현동  ...  2927720.0  104740.08    6        1\n",
              "\n",
              "[8349 rows x 9 columns]"
            ]
          },
          "metadata": {
            "tags": []
          },
          "execution_count": 18
        }
      ]
    },
    {
      "cell_type": "code",
      "metadata": {
        "id": "7t2PaXpOTvhC",
        "outputId": "4471c8a6-d85d-49a1-d4cb-7b3afee21e9c",
        "colab": {
          "base_uri": "https://localhost:8080/",
          "height": 1000,
          "referenced_widgets": [
            "559139068c4546b79ba854427dcf692e",
            "9eb11faf573a4e6b8756f07a5a54af13",
            "0d375c9a287e457895ac2b5ce0bfe57c",
            "d9926575fcea42f2b73844ff7dbef285",
            "8aa93699e7ec429c8939ff350df83d84",
            "cf06cd22596d4b509dc05173d1a9dbd1",
            "c5c6ca68ad784dae8b77376246fce181",
            "ac9dffe95c5c47c5bcc0651e0fc7e20b",
            "227ccbd1b3324b189311b7eb1c132426",
            "6a1a81ee74ae42df934c905c152aba4d",
            "b20f1c1bd9754de1b7f831c25dd3e69b",
            "27ed0655c4b74cd1a2666a61aa19d04b",
            "79924422b199487c842e19fb422dfdb5",
            "4e9ef2475c68451e9d9f4e79a2ed8914",
            "80dbed8f83854f32abae4da7eac7aff1",
            "897101c6443540708e184703ea29e110",
            "8d435cd7f28f41a28764a9c225f0aa95",
            "cf030e16e42e45c086f35bb4aedefe76",
            "aebcc66fa5b54b83895aa248e5e9b870",
            "894670f7bb674917a683f741da490c66",
            "558c7830cd824e9cb802f01b47248255",
            "b2b9bb8034fc4950bf41beb32826e751",
            "8205cf63c8b14a24bf4f13ece2455c15",
            "2a5f9e9c60e8470599a17fa4e67140a9",
            "e8b8364e988744b88c350ac795be22c5",
            "1003d30337914f25a22af1fabf95b619",
            "02bc0540c2354781a4b546b308cb5491",
            "c2fc555765ad4830b1ec697f4dae9403",
            "1f9a38082987452f81b687beba3141aa",
            "aa3e6dfa0397400d8c36933c37c53e9e",
            "c8f3218fc1784087a9a6e3b46140d9b2",
            "ee95a9a62b11478f8b013bd908e91ba2",
            "5d320b8b868f4bd280b3f96f0e34ceca",
            "dbd44ab0aa3642658d508352343ab5c8",
            "e12b0f6160cd47d6be71a626a836c277",
            "ba678813a9d848678e381dfe21cf6621",
            "6881066b6238489a9695fc3cc4ceff72",
            "dff3fbfe62fe4efba6c2c86da66b0249",
            "8738524def4d42c596f7c7423acf9b8a",
            "d4bb493e6a2b4851a9114f6875034b92",
            "3a319a44b36c45e1b0015f37b302eb80",
            "21f048278d1749a7b170573461792b35",
            "8719abe1a0054647b4b7be258ae9678c",
            "668394782b6848bd82519d3519e8e15b",
            "dac9a2bf1db2473288549ef2d1f300a8",
            "82873d20a6fd4faea41da4d0cd5d2658",
            "2d6830911f2e4443a02dfefa5619ebfe",
            "21dc35dd521d45cdada5f7d3b42c3d5e",
            "fa93704fe56a4a9daa8306de3af6112b",
            "05b91567b11d447aa41573e56e79dba0",
            "c37fb59431534ca2a258135b615ece50",
            "fa12d6ee85374b309abe69f4765e7f43",
            "cbf35e7f26fd4e2596bce98d1572a03e",
            "7dc02e3a15d346b5b80bdebaface83d9",
            "1dbf2f1c51e34ca0bcfad523678f4437",
            "3ba30880ae9d42f3bd3a234c7cc1586f",
            "0e8693dd89d74e6eb14b76808924a828",
            "9f82e9e24fa546c7b0c2b6c0be86afe0",
            "98f002925dcf434da47c43ff2cf8cfef",
            "74b2a54af623413fb5abb5b14020f01d",
            "16748c7eaaa443b7b3921b26dc193599",
            "523a89be55724eefab22da41537cadb1",
            "5cb7217836224cfcae7bbb36d0fc0197",
            "b2e000d0c1b14eab87cd63e7b7fed71f",
            "3192c914ad1e4b4caca91713dceab42a",
            "dd9fc1ee5a714a368c2ebd4218c56cb8",
            "66a9883f13b04a298d876e6da5c9f65c",
            "e404903646e440e388df67d68aed7800",
            "f2635efec8094ebeaf100f0ffdcf93d9",
            "2adac3c01fe24c748b1b1e82ece38312",
            "feafa7c461554313bf88985f009d958e",
            "b76e58f29e5a44b2a1a9ad15755da150",
            "c1ec4abd59af4733b4f8c7a3d35d9886",
            "5302748797e147d09255ca3227151c02",
            "a97071650b8546518ad075ca41c98c93",
            "819c807a421a4fe79b63e21920c1994c",
            "0a884e75c8634ad5a3391507ead0b01e",
            "f044bf81161b474194a2002f89a4ff01",
            "1ef28eaa1eac42d0b0d1fd09deb9df1e",
            "de8c5785fc4944bdb7f94b9933531d61",
            "3d3fc1f8f88744308266a1fc1203db10",
            "93fdc7a56e6348d89cb907bf00b35a80",
            "2d65b9a01ce94d69b8e9c940f285a2af",
            "c79776e6c1ee467f9e7ee85a71d8be96",
            "d511f72642284af080f3a0570944cab7",
            "6a353c36ebd248a7bba8e50242b46540",
            "9c3a266c7265443a81dcb8e0262d4bb7",
            "3af5405223924366b1f5f999d0e35b58",
            "16888e002b0a463b961428015960f4f3",
            "8f51b7cc8c7e4844a455fb8b948208c0",
            "2e31dc096847436788be62e7037b74b1",
            "c7a596ff5765469eb5ef7426a367146c",
            "6cdcafeefa9042f4936e94ff125f4fa3",
            "49a7ad57543c4702bcca525bb365b91e",
            "ca585a524dd7413ba7537a4f887fb0b3",
            "c22fe4a797704f5fa4799202ae46a86e",
            "c898a56913cd4e19803c1492bf2791e4",
            "1b1992e44c534078bb36d2a2e443d840",
            "6c95aef64fce4244b749c102fc89b78d",
            "7604ea838e1e4bce9b2fa8b0e0e6ac43",
            "b96700e961f340878750b76cc8759cd1",
            "f748391a0e5e4aa09a5bc3adc1220868",
            "2974863e7e094d18824347621f86e34a",
            "659a4b71053b42549e689f6bf2106f68",
            "26a1263a2051467d99c8d76acb379e07",
            "8468209ca4cf48eb927b129bf5dc8167",
            "a51e9bdbdf314a03842121b787657af1",
            "3d18242e0dee42b1948c0fd33ab2d6bd",
            "991f448e960d4cc0ac5e9730d2bc7998",
            "cadc5acfd9d946afaf2611b33232e3e0",
            "536b683149bb4dcf9ea46bcb88a8bd3f",
            "8dad1ece36be49b982c05caea1a28775",
            "3b44da59746645d7b58833770a815a93",
            "1f0811c3c703480daa9ddbb24f09657f",
            "6928704b84174827ad576c3f4b4bbd8e",
            "3e2b0169425c429c9bec5229f0e58ae2",
            "236ab1b525d948199e84a3173b09f939",
            "8a72272c2cb944b7a020fa29c4e3b1b5",
            "156a8c9020fa4d77b995a222b765404c",
            "61f5f48c407047aeae4c9097aa9b36c0",
            "d50ba7ced98f47a6b851f294d903914e",
            "f795d841a4e84c768e4251b453556257",
            "2e53a389462041e5864db749b4f70484",
            "53ba91507f624d9ab484b5032fe0a9d3",
            "4dc03aa8774944918f4b50191ff94f35",
            "66d34c905cf446fea4ade2bae611cbf2",
            "0c8b561f4b3e498cb32216627b40b6cc",
            "daa7669511534719aa4722511f5af8a8",
            "c32bdc4c0b6c4b8488843447b87589ad",
            "beafc888c13f47d1b0d74d03cb843b04",
            "7a2825e8052b405dae0e20daf1da8416",
            "7fdd2386d5f74a8c9d49ede1d884722a",
            "fb2f9e1788f741a894b9c2c06700dc6e",
            "18ffb077a0d04fbfbcbf9aec97e0ba35",
            "c44daf4574ba4d5698621b30b1727356",
            "7b3c69479c344389a26e5b2b33dfcbc9",
            "068029c1d39341b7914fb4650134c5a2",
            "ef9a94b6a33447fab2b5414c4635848a",
            "9f735489abf74fef9293c0de9f7a1742",
            "55c50897d868451b80cb8718ccbf9e46",
            "fc69e08dfb314dc8946937853250ad04",
            "469ce428a4d14c21a9861761b8366597",
            "a459edbeb4984a1a8f248726e48498d0",
            "8e34a1add25c4835815d42a35f79730d",
            "316f280dfb154adb8d799cf45bdf2c64",
            "5696c65c47f44c6a8bef5d5550541b33",
            "3063a0095bfd41568799946271126111",
            "72f8821a4fb14774a3337c102ff72c0c",
            "96f6665f411d44278cc39b10428262eb",
            "d06b44da0de940ef86cf6801f5c46dfe",
            "3e50ca1c158f400f9b107053f9d7eac9",
            "c409ea4bd4704edf992bb3eb77e32045",
            "471dc90a3b724ea997fc2e8f7951d106",
            "00d6cd0787634658bbef568acfbc6ff9",
            "fcc0de14804640d99fbad6b700307ad1",
            "49b8624541e54a3c8a476deaa02510ab",
            "43e99313e7be4efdb7ac978274f579ea",
            "bfa56faf8c2447edba6edcedb765cb41",
            "4ad5a75cf8034de1a2dd92fe5393f723",
            "2aa77e42c7254c4e964a2aac2aa73acb",
            "bb820b93ee6a490f97d4c22c6bda9499",
            "55d5ae1bad29416a944562fe4cd9a89d",
            "fc22554f134f4bf1bed3b89969effb8d",
            "b8734a8b240b4d65a18c544052f3e6ac",
            "11100458683a495c9fc3865c75d9eb31",
            "d627c7da6dd5410a953b2754d91bdbd9",
            "4df933d29f28456b86415e940306df80",
            "c70fd98f414e42e2914847a753579a62",
            "7ecd06d3a355457687ffe913f65fee91",
            "54316cf5628c40c3ae65695233843da0",
            "4e9a3a4722b8422382283ea2bb738939",
            "332624e638194522aaccf929dcfedca3",
            "8b076298a99549c1b83bfe60dd3273a0",
            "42166fcbaa844e9ea3713c5698c6cc43",
            "f38298c0da504d9689061154e70d597f",
            "4aa7a933022e4a8bb2a8fb6117a53991",
            "3d20b38b1751438287f33b205aee4e38",
            "4888dae3ea564fda81b748ab8514938b",
            "9c8b891dd33140bd9307950c82f49055",
            "2a06c27a3a8647238c679149ee3424ed",
            "ed398206b29943b5b66021040c1d9b09",
            "0c55a143de08498f9bc7218a0324b84c",
            "3ddedf2d44c5427598ba7391dc667e0a",
            "856ac2b8794c4876b249ed69d3d54fcb",
            "6d9d35e5809b4f29b4f2bec960ee9217",
            "80d6955ffa964c35877942bdca7aa46c",
            "dc7c8a3d2de141df8ffde18f70aead38",
            "faa2ebb23481415fb739e9240e23aa9f",
            "f361808f0d1b492bb7d431b0d29b078d",
            "6335e82b63ba4b3f83d499229a4c5293",
            "fe2c57d58a08450a82ae70380c9632d7",
            "f5890489f0364c3aa0e4b67b3c767b35",
            "94e1246959114853b0558bff3d4cc61c",
            "c1ca6749859e49db9854ffb3b741fea0",
            "c263fda5b8284cb0ac175d61826b6d0d",
            "b49710d55eeb4bf8b45f076f70f839bd",
            "6ecd7578298048a497580d4157ee68c3",
            "bf4a359e475e45c8bb5ef8856e7bbe1e",
            "441e0192c1ed4eeba6240e2a34cbf923",
            "7118d5582f5245059394db40e580cced",
            "53e4c47d62a4419bbe90c7dcb54b1b97",
            "97280891e4a040a48c8c393a8b8b4835",
            "0c003a973a5a4f649ec91fb33d09d1f5",
            "a8df2393dfc34c3e945ca8f7691c8830",
            "b779297ead4744249fd593540abb3dea",
            "b96a182f55be45bbb09d497125126509",
            "edbe3e3bdc1c47b68a892353dc385e36",
            "4dd6137603e74c01bb57ceb5662084c3",
            "f62b0d7c37dc4b778020a7855952a231",
            "680dd864f7054746af42e50760b739ba",
            "1a251876095b49fa8b019fc9ce070919",
            "a39e9294c9a94e75aa2f82afe2bb1ae7",
            "321bdd67653244379c6b323fd26719ec",
            "c6ffc9dc1d9142f8bc1ef3f61c9f5af3",
            "03245e1a0d7548ac88d238fea0c3f163",
            "1d22ada07ea042009d1e18ab61292daa",
            "49ba598009034d6da51b8d84c068cbf2",
            "12a8d05944be488c8c6b5a9f3e31af2a",
            "5e2e8b9083b7469db9e12b1e92b64768",
            "6189df1652b245f1b29260c3fc872523",
            "0d9904974bad47a7b70eb2bf661381ef",
            "4270a0f01f40402490791f636bd04591",
            "ac401856d90a4d4eb1d2dc0c8ec1fa78",
            "d9a6b410a60c4a43bdc9db93aa6d72a4",
            "9ed4fb9e83214663a0a8bae6094c82cf",
            "542c435773504a4c9540c620a781b1fb",
            "06e946f75ce74520bdaf20d0087211ad",
            "85042da99bf6422e87855c3c5c031d03",
            "7e08b32406494e2b90294b7a6df564a5",
            "68f0b33c187a44f8861d0e6ed7eb008a",
            "175ba56d285e41c2abac0cbb9dbe0d71",
            "dd1946ab8e8c472b938f9e4da81a1b3a",
            "ae40eafbb91a46e681093d76cb828c55",
            "93e0b80e966140c3bb02fbf19f824c97",
            "560fcf404d8943f995879d8bb675af90",
            "e91eb5bf86a641789427875d19e2a5f7",
            "3adbfbce00294104a28e675263d7323c",
            "2f12be36afd14f9abc311c5246b8f804",
            "a0cb964e498c43628e2b6554ac071cfd",
            "454cd18f4ffd49a9b025e51b6099edb7",
            "c564402010d848e583d64eef6cc54cb6",
            "e60271e6b9df4931b5c45374bc657246",
            "9552eb30b844430fb9dbc0246c6f62e1",
            "4af2bb48392d493385578a306097dd18",
            "9605579cbbd94a03a1e5f232e2dca969",
            "c354df176f514cb6913189f455afff55",
            "742d9e0db48546a1b121a3580484992c",
            "cde2fbe9f2a746dd819b806c5cd53fec",
            "5b7c951c944f4e4ca6c69e218a1e45be",
            "4994681b4e2545a3a441b951002aa722",
            "e74d5c6213e14d71ae90057566b01010",
            "8ccc07879b0342f2be486cddd73fd66e",
            "9569d65029724703929c0e3fc1ce39b6",
            "702a34a853d449c2bc03f673b3e9906a",
            "3fc6184fdd0a48548e5749cc369db221",
            "08a691067e3449809b5eadf7bc266e25",
            "90a8764c24074ce5b85ec96841f5dced",
            "887799d477e74cffb80480f80447e3a4"
          ]
        }
      },
      "source": [
        "#카드 평일 부트스트래핑 비표준화\n",
        "\n",
        "import numpy as np\n",
        "import scipy.stats\n",
        "from tqdm.notebook import tqdm\n",
        "\n",
        "def mean_confidence_interval(data, confidence=0.95):\n",
        "    a = 1.0 * np.array(data)\n",
        "    n = len(a)\n",
        "    m, se = np.mean(a), scipy.stats.sem(a)\n",
        "    h = se * scipy.stats.t.ppf((1 + confidence) / 2., n-1)\n",
        "    return m, m-h, m+h\n",
        "\n",
        "\n",
        "#평일 카드\n",
        "iterationNum = 10000\n",
        "\n",
        "data1=[]\n",
        "data1=pd.DataFrame(data1)\n",
        "for i in tqdm(all.HDONG_NM.unique()):\n",
        "    coef=[]\n",
        "    coef=pd.DataFrame(coef)\n",
        "    a=all[(all.HDONG_NM==i) & (all.weekend==0)][['confirmed','USE_AMT','sum_20']]   #휴일은 all.weekend==1\n",
        "    for n in tqdm(range(iterationNum)):\n",
        "        b=a.sample(round(len(a)*0.3))\n",
        "        #유동인구~확진자\n",
        "        model = smf.ols(formula = 'sum_20 ~ confirmed', data = b)\n",
        "        result = model.fit()\n",
        "        df = pd.read_html(result.summary().tables[1].as_html(),header=0,index_col=0)[0]\n",
        "        coef.loc[n,i+'confirmed'+\"_\"+'sum_20'+\"_coef\"]=df.loc['confirmed','coef']\n",
        "        #USE_AMT~유동인구+확진자 통제\n",
        "        model = smf.ols(formula = 'USE_AMT ~ confirmed +sum_20', data = b)\n",
        "        result = model.fit()\n",
        "        df = pd.read_html(result.summary().tables[1].as_html(),header=0,index_col=0)[0]\n",
        "        coef.loc[n,i+\"_sum_20_USE_AMT_coef\"]=df.loc['sum_20','coef']\n",
        "\n",
        "    coef['ac']=coef[i+\"confirmed_sum_20_coef\"]*coef[i+'_sum_20_USE_AMT_coef']\n",
        "    coef=coef['ac']\n",
        "    print(i)\n",
        "    c=mean_confidence_interval(coef,confidence=0.95)[1]\n",
        "    d=mean_confidence_interval(coef,confidence=0.95)[2]\n",
        "    data1.loc[i,'하한']=c\n",
        "    data1.loc[i,'상한']=d\n",
        "    data1.loc[i,'mean']=coef.mean()\n",
        "        \n",
        "data1=pd.DataFrame(data1)\n",
        "data1['HDONG_NM']=card_weekday_list\n",
        "data1.to_csv(\"/content/drive/My Drive/big_contest/bootstraping/카드평일부트스트래핑_신뢰95_비표준화_10000.csv\",encoding='cp949')\n",
        "print('저장완료')"
      ],
      "execution_count": null,
      "outputs": [
        {
          "output_type": "display_data",
          "data": {
            "application/vnd.jupyter.widget-view+json": {
              "model_id": "f361808f0d1b492bb7d431b0d29b078d",
              "version_major": 2,
              "version_minor": 0
            },
            "text/plain": [
              "HBox(children=(FloatProgress(value=0.0, max=69.0), HTML(value='')))"
            ]
          },
          "metadata": {
            "tags": []
          }
        },
        {
          "output_type": "display_data",
          "data": {
            "application/vnd.jupyter.widget-view+json": {
              "model_id": "6335e82b63ba4b3f83d499229a4c5293",
              "version_major": 2,
              "version_minor": 0
            },
            "text/plain": [
              "HBox(children=(FloatProgress(value=0.0, max=10000.0), HTML(value='')))"
            ]
          },
          "metadata": {
            "tags": []
          }
        },
        {
          "output_type": "stream",
          "text": [
            "\n",
            "고산1동\n"
          ],
          "name": "stdout"
        },
        {
          "output_type": "display_data",
          "data": {
            "application/vnd.jupyter.widget-view+json": {
              "model_id": "fe2c57d58a08450a82ae70380c9632d7",
              "version_major": 2,
              "version_minor": 0
            },
            "text/plain": [
              "HBox(children=(FloatProgress(value=0.0, max=10000.0), HTML(value='')))"
            ]
          },
          "metadata": {
            "tags": []
          }
        },
        {
          "output_type": "stream",
          "text": [
            "\n",
            "고산2동\n"
          ],
          "name": "stdout"
        },
        {
          "output_type": "display_data",
          "data": {
            "application/vnd.jupyter.widget-view+json": {
              "model_id": "f5890489f0364c3aa0e4b67b3c767b35",
              "version_major": 2,
              "version_minor": 0
            },
            "text/plain": [
              "HBox(children=(FloatProgress(value=0.0, max=10000.0), HTML(value='')))"
            ]
          },
          "metadata": {
            "tags": []
          }
        },
        {
          "output_type": "stream",
          "text": [
            "\n",
            "고산3동\n"
          ],
          "name": "stdout"
        },
        {
          "output_type": "display_data",
          "data": {
            "application/vnd.jupyter.widget-view+json": {
              "model_id": "94e1246959114853b0558bff3d4cc61c",
              "version_major": 2,
              "version_minor": 0
            },
            "text/plain": [
              "HBox(children=(FloatProgress(value=0.0, max=10000.0), HTML(value='')))"
            ]
          },
          "metadata": {
            "tags": []
          }
        },
        {
          "output_type": "stream",
          "text": [
            "\n",
            "두산동\n"
          ],
          "name": "stdout"
        },
        {
          "output_type": "display_data",
          "data": {
            "application/vnd.jupyter.widget-view+json": {
              "model_id": "c1ca6749859e49db9854ffb3b741fea0",
              "version_major": 2,
              "version_minor": 0
            },
            "text/plain": [
              "HBox(children=(FloatProgress(value=0.0, max=10000.0), HTML(value='')))"
            ]
          },
          "metadata": {
            "tags": []
          }
        },
        {
          "output_type": "stream",
          "text": [
            "\n",
            "만촌1동\n"
          ],
          "name": "stdout"
        },
        {
          "output_type": "display_data",
          "data": {
            "application/vnd.jupyter.widget-view+json": {
              "model_id": "c263fda5b8284cb0ac175d61826b6d0d",
              "version_major": 2,
              "version_minor": 0
            },
            "text/plain": [
              "HBox(children=(FloatProgress(value=0.0, max=10000.0), HTML(value='')))"
            ]
          },
          "metadata": {
            "tags": []
          }
        },
        {
          "output_type": "stream",
          "text": [
            "\n",
            "만촌2동\n"
          ],
          "name": "stdout"
        },
        {
          "output_type": "display_data",
          "data": {
            "application/vnd.jupyter.widget-view+json": {
              "model_id": "b49710d55eeb4bf8b45f076f70f839bd",
              "version_major": 2,
              "version_minor": 0
            },
            "text/plain": [
              "HBox(children=(FloatProgress(value=0.0, max=10000.0), HTML(value='')))"
            ]
          },
          "metadata": {
            "tags": []
          }
        },
        {
          "output_type": "stream",
          "text": [
            "\n",
            "만촌3동\n"
          ],
          "name": "stdout"
        },
        {
          "output_type": "display_data",
          "data": {
            "application/vnd.jupyter.widget-view+json": {
              "model_id": "6ecd7578298048a497580d4157ee68c3",
              "version_major": 2,
              "version_minor": 0
            },
            "text/plain": [
              "HBox(children=(FloatProgress(value=0.0, max=10000.0), HTML(value='')))"
            ]
          },
          "metadata": {
            "tags": []
          }
        },
        {
          "output_type": "stream",
          "text": [
            "\n",
            "범물1동\n"
          ],
          "name": "stdout"
        },
        {
          "output_type": "display_data",
          "data": {
            "application/vnd.jupyter.widget-view+json": {
              "model_id": "bf4a359e475e45c8bb5ef8856e7bbe1e",
              "version_major": 2,
              "version_minor": 0
            },
            "text/plain": [
              "HBox(children=(FloatProgress(value=0.0, max=10000.0), HTML(value='')))"
            ]
          },
          "metadata": {
            "tags": []
          }
        },
        {
          "output_type": "stream",
          "text": [
            "\n",
            "범물2동\n"
          ],
          "name": "stdout"
        },
        {
          "output_type": "display_data",
          "data": {
            "application/vnd.jupyter.widget-view+json": {
              "model_id": "441e0192c1ed4eeba6240e2a34cbf923",
              "version_major": 2,
              "version_minor": 0
            },
            "text/plain": [
              "HBox(children=(FloatProgress(value=0.0, max=10000.0), HTML(value='')))"
            ]
          },
          "metadata": {
            "tags": []
          }
        },
        {
          "output_type": "stream",
          "text": [
            "\n",
            "범어1동\n"
          ],
          "name": "stdout"
        },
        {
          "output_type": "display_data",
          "data": {
            "application/vnd.jupyter.widget-view+json": {
              "model_id": "7118d5582f5245059394db40e580cced",
              "version_major": 2,
              "version_minor": 0
            },
            "text/plain": [
              "HBox(children=(FloatProgress(value=0.0, max=10000.0), HTML(value='')))"
            ]
          },
          "metadata": {
            "tags": []
          }
        },
        {
          "output_type": "stream",
          "text": [
            "\n",
            "범어2동\n"
          ],
          "name": "stdout"
        },
        {
          "output_type": "display_data",
          "data": {
            "application/vnd.jupyter.widget-view+json": {
              "model_id": "53e4c47d62a4419bbe90c7dcb54b1b97",
              "version_major": 2,
              "version_minor": 0
            },
            "text/plain": [
              "HBox(children=(FloatProgress(value=0.0, max=10000.0), HTML(value='')))"
            ]
          },
          "metadata": {
            "tags": []
          }
        },
        {
          "output_type": "stream",
          "text": [
            "\n",
            "범어3동\n"
          ],
          "name": "stdout"
        },
        {
          "output_type": "display_data",
          "data": {
            "application/vnd.jupyter.widget-view+json": {
              "model_id": "97280891e4a040a48c8c393a8b8b4835",
              "version_major": 2,
              "version_minor": 0
            },
            "text/plain": [
              "HBox(children=(FloatProgress(value=0.0, max=10000.0), HTML(value='')))"
            ]
          },
          "metadata": {
            "tags": []
          }
        },
        {
          "output_type": "stream",
          "text": [
            "\n",
            "범어4동\n"
          ],
          "name": "stdout"
        },
        {
          "output_type": "display_data",
          "data": {
            "application/vnd.jupyter.widget-view+json": {
              "model_id": "0c003a973a5a4f649ec91fb33d09d1f5",
              "version_major": 2,
              "version_minor": 0
            },
            "text/plain": [
              "HBox(children=(FloatProgress(value=0.0, max=10000.0), HTML(value='')))"
            ]
          },
          "metadata": {
            "tags": []
          }
        },
        {
          "output_type": "stream",
          "text": [
            "\n",
            "상동\n"
          ],
          "name": "stdout"
        },
        {
          "output_type": "display_data",
          "data": {
            "application/vnd.jupyter.widget-view+json": {
              "model_id": "a8df2393dfc34c3e945ca8f7691c8830",
              "version_major": 2,
              "version_minor": 0
            },
            "text/plain": [
              "HBox(children=(FloatProgress(value=0.0, max=10000.0), HTML(value='')))"
            ]
          },
          "metadata": {
            "tags": []
          }
        },
        {
          "output_type": "stream",
          "text": [
            "\n",
            "수성1가동\n"
          ],
          "name": "stdout"
        },
        {
          "output_type": "display_data",
          "data": {
            "application/vnd.jupyter.widget-view+json": {
              "model_id": "b779297ead4744249fd593540abb3dea",
              "version_major": 2,
              "version_minor": 0
            },
            "text/plain": [
              "HBox(children=(FloatProgress(value=0.0, max=10000.0), HTML(value='')))"
            ]
          },
          "metadata": {
            "tags": []
          }
        },
        {
          "output_type": "stream",
          "text": [
            "\n",
            "수성2.3가동\n"
          ],
          "name": "stdout"
        },
        {
          "output_type": "display_data",
          "data": {
            "application/vnd.jupyter.widget-view+json": {
              "model_id": "b96a182f55be45bbb09d497125126509",
              "version_major": 2,
              "version_minor": 0
            },
            "text/plain": [
              "HBox(children=(FloatProgress(value=0.0, max=10000.0), HTML(value='')))"
            ]
          },
          "metadata": {
            "tags": []
          }
        },
        {
          "output_type": "stream",
          "text": [
            "\n",
            "수성4가동\n"
          ],
          "name": "stdout"
        },
        {
          "output_type": "display_data",
          "data": {
            "application/vnd.jupyter.widget-view+json": {
              "model_id": "edbe3e3bdc1c47b68a892353dc385e36",
              "version_major": 2,
              "version_minor": 0
            },
            "text/plain": [
              "HBox(children=(FloatProgress(value=0.0, max=10000.0), HTML(value='')))"
            ]
          },
          "metadata": {
            "tags": []
          }
        },
        {
          "output_type": "stream",
          "text": [
            "\n",
            "중동\n"
          ],
          "name": "stdout"
        },
        {
          "output_type": "display_data",
          "data": {
            "application/vnd.jupyter.widget-view+json": {
              "model_id": "4dd6137603e74c01bb57ceb5662084c3",
              "version_major": 2,
              "version_minor": 0
            },
            "text/plain": [
              "HBox(children=(FloatProgress(value=0.0, max=10000.0), HTML(value='')))"
            ]
          },
          "metadata": {
            "tags": []
          }
        },
        {
          "output_type": "stream",
          "text": [
            "\n",
            "지산1동\n"
          ],
          "name": "stdout"
        },
        {
          "output_type": "display_data",
          "data": {
            "application/vnd.jupyter.widget-view+json": {
              "model_id": "f62b0d7c37dc4b778020a7855952a231",
              "version_major": 2,
              "version_minor": 0
            },
            "text/plain": [
              "HBox(children=(FloatProgress(value=0.0, max=10000.0), HTML(value='')))"
            ]
          },
          "metadata": {
            "tags": []
          }
        },
        {
          "output_type": "stream",
          "text": [
            "\n",
            "지산2동\n"
          ],
          "name": "stdout"
        },
        {
          "output_type": "display_data",
          "data": {
            "application/vnd.jupyter.widget-view+json": {
              "model_id": "680dd864f7054746af42e50760b739ba",
              "version_major": 2,
              "version_minor": 0
            },
            "text/plain": [
              "HBox(children=(FloatProgress(value=0.0, max=10000.0), HTML(value='')))"
            ]
          },
          "metadata": {
            "tags": []
          }
        },
        {
          "output_type": "stream",
          "text": [
            "\n",
            "파동\n"
          ],
          "name": "stdout"
        },
        {
          "output_type": "display_data",
          "data": {
            "application/vnd.jupyter.widget-view+json": {
              "model_id": "1a251876095b49fa8b019fc9ce070919",
              "version_major": 2,
              "version_minor": 0
            },
            "text/plain": [
              "HBox(children=(FloatProgress(value=0.0, max=10000.0), HTML(value='')))"
            ]
          },
          "metadata": {
            "tags": []
          }
        },
        {
          "output_type": "stream",
          "text": [
            "\n",
            "황금1동\n"
          ],
          "name": "stdout"
        },
        {
          "output_type": "display_data",
          "data": {
            "application/vnd.jupyter.widget-view+json": {
              "model_id": "a39e9294c9a94e75aa2f82afe2bb1ae7",
              "version_major": 2,
              "version_minor": 0
            },
            "text/plain": [
              "HBox(children=(FloatProgress(value=0.0, max=10000.0), HTML(value='')))"
            ]
          },
          "metadata": {
            "tags": []
          }
        },
        {
          "output_type": "stream",
          "text": [
            "\n",
            "황금2동\n"
          ],
          "name": "stdout"
        },
        {
          "output_type": "display_data",
          "data": {
            "application/vnd.jupyter.widget-view+json": {
              "model_id": "321bdd67653244379c6b323fd26719ec",
              "version_major": 2,
              "version_minor": 0
            },
            "text/plain": [
              "HBox(children=(FloatProgress(value=0.0, max=10000.0), HTML(value='')))"
            ]
          },
          "metadata": {
            "tags": []
          }
        },
        {
          "output_type": "stream",
          "text": [
            "\n",
            "남산1동\n"
          ],
          "name": "stdout"
        },
        {
          "output_type": "display_data",
          "data": {
            "application/vnd.jupyter.widget-view+json": {
              "model_id": "c6ffc9dc1d9142f8bc1ef3f61c9f5af3",
              "version_major": 2,
              "version_minor": 0
            },
            "text/plain": [
              "HBox(children=(FloatProgress(value=0.0, max=10000.0), HTML(value='')))"
            ]
          },
          "metadata": {
            "tags": []
          }
        },
        {
          "output_type": "stream",
          "text": [
            "\n",
            "남산2동\n"
          ],
          "name": "stdout"
        },
        {
          "output_type": "display_data",
          "data": {
            "application/vnd.jupyter.widget-view+json": {
              "model_id": "03245e1a0d7548ac88d238fea0c3f163",
              "version_major": 2,
              "version_minor": 0
            },
            "text/plain": [
              "HBox(children=(FloatProgress(value=0.0, max=10000.0), HTML(value='')))"
            ]
          },
          "metadata": {
            "tags": []
          }
        },
        {
          "output_type": "stream",
          "text": [
            "\n",
            "남산3동\n"
          ],
          "name": "stdout"
        },
        {
          "output_type": "display_data",
          "data": {
            "application/vnd.jupyter.widget-view+json": {
              "model_id": "1d22ada07ea042009d1e18ab61292daa",
              "version_major": 2,
              "version_minor": 0
            },
            "text/plain": [
              "HBox(children=(FloatProgress(value=0.0, max=10000.0), HTML(value='')))"
            ]
          },
          "metadata": {
            "tags": []
          }
        },
        {
          "output_type": "stream",
          "text": [
            "\n",
            "남산4동\n"
          ],
          "name": "stdout"
        },
        {
          "output_type": "display_data",
          "data": {
            "application/vnd.jupyter.widget-view+json": {
              "model_id": "49ba598009034d6da51b8d84c068cbf2",
              "version_major": 2,
              "version_minor": 0
            },
            "text/plain": [
              "HBox(children=(FloatProgress(value=0.0, max=10000.0), HTML(value='')))"
            ]
          },
          "metadata": {
            "tags": []
          }
        },
        {
          "output_type": "stream",
          "text": [
            "\n",
            "대봉1동\n"
          ],
          "name": "stdout"
        },
        {
          "output_type": "display_data",
          "data": {
            "application/vnd.jupyter.widget-view+json": {
              "model_id": "12a8d05944be488c8c6b5a9f3e31af2a",
              "version_major": 2,
              "version_minor": 0
            },
            "text/plain": [
              "HBox(children=(FloatProgress(value=0.0, max=10000.0), HTML(value='')))"
            ]
          },
          "metadata": {
            "tags": []
          }
        },
        {
          "output_type": "stream",
          "text": [
            "\n",
            "대봉2동\n"
          ],
          "name": "stdout"
        },
        {
          "output_type": "display_data",
          "data": {
            "application/vnd.jupyter.widget-view+json": {
              "model_id": "5e2e8b9083b7469db9e12b1e92b64768",
              "version_major": 2,
              "version_minor": 0
            },
            "text/plain": [
              "HBox(children=(FloatProgress(value=0.0, max=10000.0), HTML(value='')))"
            ]
          },
          "metadata": {
            "tags": []
          }
        },
        {
          "output_type": "stream",
          "text": [
            "\n",
            "대신동\n"
          ],
          "name": "stdout"
        },
        {
          "output_type": "display_data",
          "data": {
            "application/vnd.jupyter.widget-view+json": {
              "model_id": "6189df1652b245f1b29260c3fc872523",
              "version_major": 2,
              "version_minor": 0
            },
            "text/plain": [
              "HBox(children=(FloatProgress(value=0.0, max=10000.0), HTML(value='')))"
            ]
          },
          "metadata": {
            "tags": []
          }
        },
        {
          "output_type": "stream",
          "text": [
            "\n",
            "동인동\n"
          ],
          "name": "stdout"
        },
        {
          "output_type": "display_data",
          "data": {
            "application/vnd.jupyter.widget-view+json": {
              "model_id": "0d9904974bad47a7b70eb2bf661381ef",
              "version_major": 2,
              "version_minor": 0
            },
            "text/plain": [
              "HBox(children=(FloatProgress(value=0.0, max=10000.0), HTML(value='')))"
            ]
          },
          "metadata": {
            "tags": []
          }
        },
        {
          "output_type": "stream",
          "text": [
            "\n",
            "삼덕동\n"
          ],
          "name": "stdout"
        },
        {
          "output_type": "display_data",
          "data": {
            "application/vnd.jupyter.widget-view+json": {
              "model_id": "4270a0f01f40402490791f636bd04591",
              "version_major": 2,
              "version_minor": 0
            },
            "text/plain": [
              "HBox(children=(FloatProgress(value=0.0, max=10000.0), HTML(value='')))"
            ]
          },
          "metadata": {
            "tags": []
          }
        },
        {
          "output_type": "stream",
          "text": [
            "\n",
            "성내1동\n"
          ],
          "name": "stdout"
        },
        {
          "output_type": "display_data",
          "data": {
            "application/vnd.jupyter.widget-view+json": {
              "model_id": "ac401856d90a4d4eb1d2dc0c8ec1fa78",
              "version_major": 2,
              "version_minor": 0
            },
            "text/plain": [
              "HBox(children=(FloatProgress(value=0.0, max=10000.0), HTML(value='')))"
            ]
          },
          "metadata": {
            "tags": []
          }
        },
        {
          "output_type": "stream",
          "text": [
            "\n",
            "성내2동\n"
          ],
          "name": "stdout"
        },
        {
          "output_type": "display_data",
          "data": {
            "application/vnd.jupyter.widget-view+json": {
              "model_id": "d9a6b410a60c4a43bdc9db93aa6d72a4",
              "version_major": 2,
              "version_minor": 0
            },
            "text/plain": [
              "HBox(children=(FloatProgress(value=0.0, max=10000.0), HTML(value='')))"
            ]
          },
          "metadata": {
            "tags": []
          }
        },
        {
          "output_type": "stream",
          "text": [
            "\n",
            "성내3동\n"
          ],
          "name": "stdout"
        },
        {
          "output_type": "display_data",
          "data": {
            "application/vnd.jupyter.widget-view+json": {
              "model_id": "9ed4fb9e83214663a0a8bae6094c82cf",
              "version_major": 2,
              "version_minor": 0
            },
            "text/plain": [
              "HBox(children=(FloatProgress(value=0.0, max=10000.0), HTML(value='')))"
            ]
          },
          "metadata": {
            "tags": []
          }
        },
        {
          "output_type": "stream",
          "text": [
            "\n",
            "공릉1동\n"
          ],
          "name": "stdout"
        },
        {
          "output_type": "display_data",
          "data": {
            "application/vnd.jupyter.widget-view+json": {
              "model_id": "542c435773504a4c9540c620a781b1fb",
              "version_major": 2,
              "version_minor": 0
            },
            "text/plain": [
              "HBox(children=(FloatProgress(value=0.0, max=10000.0), HTML(value='')))"
            ]
          },
          "metadata": {
            "tags": []
          }
        },
        {
          "output_type": "stream",
          "text": [
            "\n",
            "공릉2동\n"
          ],
          "name": "stdout"
        },
        {
          "output_type": "display_data",
          "data": {
            "application/vnd.jupyter.widget-view+json": {
              "model_id": "06e946f75ce74520bdaf20d0087211ad",
              "version_major": 2,
              "version_minor": 0
            },
            "text/plain": [
              "HBox(children=(FloatProgress(value=0.0, max=10000.0), HTML(value='')))"
            ]
          },
          "metadata": {
            "tags": []
          }
        },
        {
          "output_type": "stream",
          "text": [
            "\n",
            "상계10동\n"
          ],
          "name": "stdout"
        },
        {
          "output_type": "display_data",
          "data": {
            "application/vnd.jupyter.widget-view+json": {
              "model_id": "85042da99bf6422e87855c3c5c031d03",
              "version_major": 2,
              "version_minor": 0
            },
            "text/plain": [
              "HBox(children=(FloatProgress(value=0.0, max=10000.0), HTML(value='')))"
            ]
          },
          "metadata": {
            "tags": []
          }
        },
        {
          "output_type": "stream",
          "text": [
            "\n",
            "상계1동\n"
          ],
          "name": "stdout"
        },
        {
          "output_type": "display_data",
          "data": {
            "application/vnd.jupyter.widget-view+json": {
              "model_id": "7e08b32406494e2b90294b7a6df564a5",
              "version_major": 2,
              "version_minor": 0
            },
            "text/plain": [
              "HBox(children=(FloatProgress(value=0.0, max=10000.0), HTML(value='')))"
            ]
          },
          "metadata": {
            "tags": []
          }
        },
        {
          "output_type": "stream",
          "text": [
            "\n",
            "상계2동\n"
          ],
          "name": "stdout"
        },
        {
          "output_type": "display_data",
          "data": {
            "application/vnd.jupyter.widget-view+json": {
              "model_id": "68f0b33c187a44f8861d0e6ed7eb008a",
              "version_major": 2,
              "version_minor": 0
            },
            "text/plain": [
              "HBox(children=(FloatProgress(value=0.0, max=10000.0), HTML(value='')))"
            ]
          },
          "metadata": {
            "tags": []
          }
        },
        {
          "output_type": "stream",
          "text": [
            "\n",
            "상계3.4동\n"
          ],
          "name": "stdout"
        },
        {
          "output_type": "display_data",
          "data": {
            "application/vnd.jupyter.widget-view+json": {
              "model_id": "175ba56d285e41c2abac0cbb9dbe0d71",
              "version_major": 2,
              "version_minor": 0
            },
            "text/plain": [
              "HBox(children=(FloatProgress(value=0.0, max=10000.0), HTML(value='')))"
            ]
          },
          "metadata": {
            "tags": []
          }
        },
        {
          "output_type": "stream",
          "text": [
            "\n",
            "상계5동\n"
          ],
          "name": "stdout"
        },
        {
          "output_type": "display_data",
          "data": {
            "application/vnd.jupyter.widget-view+json": {
              "model_id": "dd1946ab8e8c472b938f9e4da81a1b3a",
              "version_major": 2,
              "version_minor": 0
            },
            "text/plain": [
              "HBox(children=(FloatProgress(value=0.0, max=10000.0), HTML(value='')))"
            ]
          },
          "metadata": {
            "tags": []
          }
        },
        {
          "output_type": "stream",
          "text": [
            "\n",
            "상계6.7동\n"
          ],
          "name": "stdout"
        },
        {
          "output_type": "display_data",
          "data": {
            "application/vnd.jupyter.widget-view+json": {
              "model_id": "ae40eafbb91a46e681093d76cb828c55",
              "version_major": 2,
              "version_minor": 0
            },
            "text/plain": [
              "HBox(children=(FloatProgress(value=0.0, max=10000.0), HTML(value='')))"
            ]
          },
          "metadata": {
            "tags": []
          }
        },
        {
          "output_type": "stream",
          "text": [
            "\n",
            "상계8동\n"
          ],
          "name": "stdout"
        },
        {
          "output_type": "display_data",
          "data": {
            "application/vnd.jupyter.widget-view+json": {
              "model_id": "93e0b80e966140c3bb02fbf19f824c97",
              "version_major": 2,
              "version_minor": 0
            },
            "text/plain": [
              "HBox(children=(FloatProgress(value=0.0, max=10000.0), HTML(value='')))"
            ]
          },
          "metadata": {
            "tags": []
          }
        },
        {
          "output_type": "stream",
          "text": [
            "\n",
            "상계9동\n"
          ],
          "name": "stdout"
        },
        {
          "output_type": "display_data",
          "data": {
            "application/vnd.jupyter.widget-view+json": {
              "model_id": "560fcf404d8943f995879d8bb675af90",
              "version_major": 2,
              "version_minor": 0
            },
            "text/plain": [
              "HBox(children=(FloatProgress(value=0.0, max=10000.0), HTML(value='')))"
            ]
          },
          "metadata": {
            "tags": []
          }
        },
        {
          "output_type": "stream",
          "text": [
            "\n",
            "월계1동\n"
          ],
          "name": "stdout"
        },
        {
          "output_type": "display_data",
          "data": {
            "application/vnd.jupyter.widget-view+json": {
              "model_id": "e91eb5bf86a641789427875d19e2a5f7",
              "version_major": 2,
              "version_minor": 0
            },
            "text/plain": [
              "HBox(children=(FloatProgress(value=0.0, max=10000.0), HTML(value='')))"
            ]
          },
          "metadata": {
            "tags": []
          }
        },
        {
          "output_type": "stream",
          "text": [
            "\n",
            "월계2동\n"
          ],
          "name": "stdout"
        },
        {
          "output_type": "display_data",
          "data": {
            "application/vnd.jupyter.widget-view+json": {
              "model_id": "3adbfbce00294104a28e675263d7323c",
              "version_major": 2,
              "version_minor": 0
            },
            "text/plain": [
              "HBox(children=(FloatProgress(value=0.0, max=10000.0), HTML(value='')))"
            ]
          },
          "metadata": {
            "tags": []
          }
        },
        {
          "output_type": "stream",
          "text": [
            "\n",
            "월계3동\n"
          ],
          "name": "stdout"
        },
        {
          "output_type": "display_data",
          "data": {
            "application/vnd.jupyter.widget-view+json": {
              "model_id": "2f12be36afd14f9abc311c5246b8f804",
              "version_major": 2,
              "version_minor": 0
            },
            "text/plain": [
              "HBox(children=(FloatProgress(value=0.0, max=10000.0), HTML(value='')))"
            ]
          },
          "metadata": {
            "tags": []
          }
        },
        {
          "output_type": "stream",
          "text": [
            "\n",
            "중계1동\n"
          ],
          "name": "stdout"
        },
        {
          "output_type": "display_data",
          "data": {
            "application/vnd.jupyter.widget-view+json": {
              "model_id": "a0cb964e498c43628e2b6554ac071cfd",
              "version_major": 2,
              "version_minor": 0
            },
            "text/plain": [
              "HBox(children=(FloatProgress(value=0.0, max=10000.0), HTML(value='')))"
            ]
          },
          "metadata": {
            "tags": []
          }
        },
        {
          "output_type": "stream",
          "text": [
            "\n",
            "중계2.3동\n"
          ],
          "name": "stdout"
        },
        {
          "output_type": "display_data",
          "data": {
            "application/vnd.jupyter.widget-view+json": {
              "model_id": "454cd18f4ffd49a9b025e51b6099edb7",
              "version_major": 2,
              "version_minor": 0
            },
            "text/plain": [
              "HBox(children=(FloatProgress(value=0.0, max=10000.0), HTML(value='')))"
            ]
          },
          "metadata": {
            "tags": []
          }
        },
        {
          "output_type": "stream",
          "text": [
            "\n",
            "중계4동\n"
          ],
          "name": "stdout"
        },
        {
          "output_type": "display_data",
          "data": {
            "application/vnd.jupyter.widget-view+json": {
              "model_id": "c564402010d848e583d64eef6cc54cb6",
              "version_major": 2,
              "version_minor": 0
            },
            "text/plain": [
              "HBox(children=(FloatProgress(value=0.0, max=10000.0), HTML(value='')))"
            ]
          },
          "metadata": {
            "tags": []
          }
        },
        {
          "output_type": "stream",
          "text": [
            "\n",
            "중계본동\n"
          ],
          "name": "stdout"
        },
        {
          "output_type": "display_data",
          "data": {
            "application/vnd.jupyter.widget-view+json": {
              "model_id": "e60271e6b9df4931b5c45374bc657246",
              "version_major": 2,
              "version_minor": 0
            },
            "text/plain": [
              "HBox(children=(FloatProgress(value=0.0, max=10000.0), HTML(value='')))"
            ]
          },
          "metadata": {
            "tags": []
          }
        },
        {
          "output_type": "stream",
          "text": [
            "\n",
            "하계1동\n"
          ],
          "name": "stdout"
        },
        {
          "output_type": "display_data",
          "data": {
            "application/vnd.jupyter.widget-view+json": {
              "model_id": "9552eb30b844430fb9dbc0246c6f62e1",
              "version_major": 2,
              "version_minor": 0
            },
            "text/plain": [
              "HBox(children=(FloatProgress(value=0.0, max=10000.0), HTML(value='')))"
            ]
          },
          "metadata": {
            "tags": []
          }
        },
        {
          "output_type": "stream",
          "text": [
            "\n",
            "하계2동\n"
          ],
          "name": "stdout"
        },
        {
          "output_type": "display_data",
          "data": {
            "application/vnd.jupyter.widget-view+json": {
              "model_id": "4af2bb48392d493385578a306097dd18",
              "version_major": 2,
              "version_minor": 0
            },
            "text/plain": [
              "HBox(children=(FloatProgress(value=0.0, max=10000.0), HTML(value='')))"
            ]
          },
          "metadata": {
            "tags": []
          }
        },
        {
          "output_type": "stream",
          "text": [
            "\n",
            "광희동\n"
          ],
          "name": "stdout"
        },
        {
          "output_type": "display_data",
          "data": {
            "application/vnd.jupyter.widget-view+json": {
              "model_id": "9605579cbbd94a03a1e5f232e2dca969",
              "version_major": 2,
              "version_minor": 0
            },
            "text/plain": [
              "HBox(children=(FloatProgress(value=0.0, max=10000.0), HTML(value='')))"
            ]
          },
          "metadata": {
            "tags": []
          }
        },
        {
          "output_type": "stream",
          "text": [
            "\n",
            "다산동\n"
          ],
          "name": "stdout"
        },
        {
          "output_type": "display_data",
          "data": {
            "application/vnd.jupyter.widget-view+json": {
              "model_id": "c354df176f514cb6913189f455afff55",
              "version_major": 2,
              "version_minor": 0
            },
            "text/plain": [
              "HBox(children=(FloatProgress(value=0.0, max=10000.0), HTML(value='')))"
            ]
          },
          "metadata": {
            "tags": []
          }
        },
        {
          "output_type": "stream",
          "text": [
            "\n",
            "동화동\n"
          ],
          "name": "stdout"
        },
        {
          "output_type": "display_data",
          "data": {
            "application/vnd.jupyter.widget-view+json": {
              "model_id": "742d9e0db48546a1b121a3580484992c",
              "version_major": 2,
              "version_minor": 0
            },
            "text/plain": [
              "HBox(children=(FloatProgress(value=0.0, max=10000.0), HTML(value='')))"
            ]
          },
          "metadata": {
            "tags": []
          }
        },
        {
          "output_type": "stream",
          "text": [
            "\n",
            "명동\n"
          ],
          "name": "stdout"
        },
        {
          "output_type": "display_data",
          "data": {
            "application/vnd.jupyter.widget-view+json": {
              "model_id": "cde2fbe9f2a746dd819b806c5cd53fec",
              "version_major": 2,
              "version_minor": 0
            },
            "text/plain": [
              "HBox(children=(FloatProgress(value=0.0, max=10000.0), HTML(value='')))"
            ]
          },
          "metadata": {
            "tags": []
          }
        },
        {
          "output_type": "stream",
          "text": [
            "\n",
            "소공동\n"
          ],
          "name": "stdout"
        },
        {
          "output_type": "display_data",
          "data": {
            "application/vnd.jupyter.widget-view+json": {
              "model_id": "5b7c951c944f4e4ca6c69e218a1e45be",
              "version_major": 2,
              "version_minor": 0
            },
            "text/plain": [
              "HBox(children=(FloatProgress(value=0.0, max=10000.0), HTML(value='')))"
            ]
          },
          "metadata": {
            "tags": []
          }
        },
        {
          "output_type": "stream",
          "text": [
            "\n",
            "신당5동\n"
          ],
          "name": "stdout"
        },
        {
          "output_type": "display_data",
          "data": {
            "application/vnd.jupyter.widget-view+json": {
              "model_id": "4994681b4e2545a3a441b951002aa722",
              "version_major": 2,
              "version_minor": 0
            },
            "text/plain": [
              "HBox(children=(FloatProgress(value=0.0, max=10000.0), HTML(value='')))"
            ]
          },
          "metadata": {
            "tags": []
          }
        },
        {
          "output_type": "stream",
          "text": [
            "\n",
            "신당동\n"
          ],
          "name": "stdout"
        },
        {
          "output_type": "display_data",
          "data": {
            "application/vnd.jupyter.widget-view+json": {
              "model_id": "e74d5c6213e14d71ae90057566b01010",
              "version_major": 2,
              "version_minor": 0
            },
            "text/plain": [
              "HBox(children=(FloatProgress(value=0.0, max=10000.0), HTML(value='')))"
            ]
          },
          "metadata": {
            "tags": []
          }
        },
        {
          "output_type": "stream",
          "text": [
            "\n",
            "약수동\n"
          ],
          "name": "stdout"
        },
        {
          "output_type": "display_data",
          "data": {
            "application/vnd.jupyter.widget-view+json": {
              "model_id": "8ccc07879b0342f2be486cddd73fd66e",
              "version_major": 2,
              "version_minor": 0
            },
            "text/plain": [
              "HBox(children=(FloatProgress(value=0.0, max=10000.0), HTML(value='')))"
            ]
          },
          "metadata": {
            "tags": []
          }
        },
        {
          "output_type": "stream",
          "text": [
            "\n",
            "을지로동\n"
          ],
          "name": "stdout"
        },
        {
          "output_type": "display_data",
          "data": {
            "application/vnd.jupyter.widget-view+json": {
              "model_id": "9569d65029724703929c0e3fc1ce39b6",
              "version_major": 2,
              "version_minor": 0
            },
            "text/plain": [
              "HBox(children=(FloatProgress(value=0.0, max=10000.0), HTML(value='')))"
            ]
          },
          "metadata": {
            "tags": []
          }
        },
        {
          "output_type": "stream",
          "text": [
            "\n",
            "장충동\n"
          ],
          "name": "stdout"
        },
        {
          "output_type": "display_data",
          "data": {
            "application/vnd.jupyter.widget-view+json": {
              "model_id": "702a34a853d449c2bc03f673b3e9906a",
              "version_major": 2,
              "version_minor": 0
            },
            "text/plain": [
              "HBox(children=(FloatProgress(value=0.0, max=10000.0), HTML(value='')))"
            ]
          },
          "metadata": {
            "tags": []
          }
        },
        {
          "output_type": "stream",
          "text": [
            "\n",
            "중림동\n"
          ],
          "name": "stdout"
        },
        {
          "output_type": "display_data",
          "data": {
            "application/vnd.jupyter.widget-view+json": {
              "model_id": "3fc6184fdd0a48548e5749cc369db221",
              "version_major": 2,
              "version_minor": 0
            },
            "text/plain": [
              "HBox(children=(FloatProgress(value=0.0, max=10000.0), HTML(value='')))"
            ]
          },
          "metadata": {
            "tags": []
          }
        },
        {
          "output_type": "stream",
          "text": [
            "\n",
            "청구동\n"
          ],
          "name": "stdout"
        },
        {
          "output_type": "display_data",
          "data": {
            "application/vnd.jupyter.widget-view+json": {
              "model_id": "08a691067e3449809b5eadf7bc266e25",
              "version_major": 2,
              "version_minor": 0
            },
            "text/plain": [
              "HBox(children=(FloatProgress(value=0.0, max=10000.0), HTML(value='')))"
            ]
          },
          "metadata": {
            "tags": []
          }
        },
        {
          "output_type": "stream",
          "text": [
            "\n",
            "필동\n"
          ],
          "name": "stdout"
        },
        {
          "output_type": "display_data",
          "data": {
            "application/vnd.jupyter.widget-view+json": {
              "model_id": "90a8764c24074ce5b85ec96841f5dced",
              "version_major": 2,
              "version_minor": 0
            },
            "text/plain": [
              "HBox(children=(FloatProgress(value=0.0, max=10000.0), HTML(value='')))"
            ]
          },
          "metadata": {
            "tags": []
          }
        },
        {
          "output_type": "stream",
          "text": [
            "\n",
            "황학동\n"
          ],
          "name": "stdout"
        },
        {
          "output_type": "display_data",
          "data": {
            "application/vnd.jupyter.widget-view+json": {
              "model_id": "887799d477e74cffb80480f80447e3a4",
              "version_major": 2,
              "version_minor": 0
            },
            "text/plain": [
              "HBox(children=(FloatProgress(value=0.0, max=10000.0), HTML(value='')))"
            ]
          },
          "metadata": {
            "tags": []
          }
        },
        {
          "output_type": "stream",
          "text": [
            "\n",
            "회현동\n",
            "\n",
            "저장완료\n"
          ],
          "name": "stdout"
        }
      ]
    },
    {
      "cell_type": "code",
      "metadata": {
        "id": "0c0CpMXnCES2",
        "outputId": "c63b6e4b-a28c-49d9-fcbb-88d812990d4a",
        "colab": {
          "base_uri": "https://localhost:8080/",
          "height": 105
        }
      },
      "source": [
        "# 카드 부트스트래핑 기각 결과\n",
        "card_boot_weekday = pd.read_csv('/content/drive/My Drive/big_contest/bootstraping/카드평일부트스트래핑_신뢰95_비표준화_10000.csv', encoding='cp949')\n",
        "card_boot_weekday['ac'] = card_boot_weekday['하한']*card_boot_weekday['상한'] # 사이에 0이 있는거 찾기 위함 곱해서 음수면 사이에 0있음\n",
        "\n",
        "print('평일 0 포함\\n', card_boot_weekday[card_boot_weekday['ac']<=0]['Unnamed: 0'],'\\n')"
      ],
      "execution_count": 19,
      "outputs": [
        {
          "output_type": "stream",
          "text": [
            "평일 0 포함\n",
            " 15    황금1동\n",
            "45     약수동\n",
            "Name: Unnamed: 0, dtype: object \n",
            "\n"
          ],
          "name": "stdout"
        }
      ]
    }
  ]
}